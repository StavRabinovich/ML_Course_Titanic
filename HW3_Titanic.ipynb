{
  "nbformat": 4,
  "nbformat_minor": 0,
  "metadata": {
    "colab": {
      "name": "HW3_Titanic.ipynb",
      "provenance": [],
      "collapsed_sections": [
        "2p5_kjZkvm9Z",
        "japLRdeH6TZo",
        "RO8zy8hx-zKT",
        "jzLqmpVuFVbT",
        "Iv7cpCQZKFur",
        "xTVTImfUKqzy",
        "NXKiXWKZMxgC",
        "9z9qxth2N1vG",
        "l6zNlmqkP1HU"
      ]
    },
    "kernelspec": {
      "name": "python3",
      "display_name": "Python 3"
    }
  },
  "cells": [
    {
      "cell_type": "markdown",
      "metadata": {
        "id": "BTSrkgQQI952"
      },
      "source": [
        "# **ML - Home Work #3**\n",
        "\n",
        "Stav Suzan Rabinovich\\\n",
        "208661090\\\n",
        "[Link to my Kaggle profile](https://www.kaggle.com/stavsuzanrabinovich)\n",
        " "
      ]
    },
    {
      "cell_type": "markdown",
      "metadata": {
        "id": "75ZhAI5nKAQs"
      },
      "source": [
        "## **About the Titanic**\n",
        "The Titanic was a luxury British steamship that sank in the early hours of April 15, 1912 after striking an iceberg, \\\n",
        "leading to the deaths of more than 1,500 passengers and crew. \\\n",
        "\n",
        "\n",
        "![picture](https://media.giphy.com/media/mYeIp5eruF3jy/giphy.gif) \\\n",
        "*this is not the actual Titanic, this gif was taken from the movie.\\\n",
        "\\\n",
        "\\\n",
        "In this Home Work I'll analyze and evaluate the surviving rate of people (from given data) on the Titanic. \\\n",
        "\n",
        "\\\n",
        " **This is only HW3! [Press here to see HW1's Notebook](/content/hw1-titanic.html)**\n"
      ]
    },
    {
      "cell_type": "markdown",
      "metadata": {
        "id": "bz9cTIAQcqhd"
      },
      "source": [
        "## **Start, Settings and Data Imports**"
      ]
    },
    {
      "cell_type": "markdown",
      "metadata": {
        "id": "eBU9zb4I0unK"
      },
      "source": [
        "###**Installations**"
      ]
    },
    {
      "cell_type": "code",
      "metadata": {
        "colab": {
          "base_uri": "https://localhost:8080/"
        },
        "id": "zEO02_JehX_5",
        "outputId": "3781fb61-0080-475f-98cd-11dfabcd47e5"
      },
      "source": [
        "# clone the lwlr repo from github\r\n",
        "!git clone https://github.com/qiaochen/CourseExercises"
      ],
      "execution_count": 1,
      "outputs": [
        {
          "output_type": "stream",
          "text": [
            "fatal: destination path 'CourseExercises' already exists and is not an empty directory.\n"
          ],
          "name": "stdout"
        }
      ]
    },
    {
      "cell_type": "code",
      "metadata": {
        "colab": {
          "base_uri": "https://localhost:8080/"
        },
        "id": "t9U2Uh51KdLv",
        "outputId": "ba323d5c-7cd4-4e80-95a0-7ea3d62d6ea0"
      },
      "source": [
        "!pip install seaborn --upgrade\r\n",
        "!pip install pandas --upgrade\r\n",
        "!pip install --upgrade plotly\r\n",
        "!pip install dtale"
      ],
      "execution_count": 2,
      "outputs": [
        {
          "output_type": "stream",
          "text": [
            "Requirement already up-to-date: seaborn in /usr/local/lib/python3.6/dist-packages (0.11.1)\n",
            "Requirement already satisfied, skipping upgrade: matplotlib>=2.2 in /usr/local/lib/python3.6/dist-packages (from seaborn) (3.2.2)\n",
            "Requirement already satisfied, skipping upgrade: scipy>=1.0 in /usr/local/lib/python3.6/dist-packages (from seaborn) (1.4.1)\n",
            "Requirement already satisfied, skipping upgrade: pandas>=0.23 in /usr/local/lib/python3.6/dist-packages (from seaborn) (1.1.5)\n",
            "Requirement already satisfied, skipping upgrade: numpy>=1.15 in /usr/local/lib/python3.6/dist-packages (from seaborn) (1.19.4)\n",
            "Requirement already satisfied, skipping upgrade: cycler>=0.10 in /usr/local/lib/python3.6/dist-packages (from matplotlib>=2.2->seaborn) (0.10.0)\n",
            "Requirement already satisfied, skipping upgrade: python-dateutil>=2.1 in /usr/local/lib/python3.6/dist-packages (from matplotlib>=2.2->seaborn) (2.8.1)\n",
            "Requirement already satisfied, skipping upgrade: pyparsing!=2.0.4,!=2.1.2,!=2.1.6,>=2.0.1 in /usr/local/lib/python3.6/dist-packages (from matplotlib>=2.2->seaborn) (2.4.7)\n",
            "Requirement already satisfied, skipping upgrade: kiwisolver>=1.0.1 in /usr/local/lib/python3.6/dist-packages (from matplotlib>=2.2->seaborn) (1.3.1)\n",
            "Requirement already satisfied, skipping upgrade: pytz>=2017.2 in /usr/local/lib/python3.6/dist-packages (from pandas>=0.23->seaborn) (2018.9)\n",
            "Requirement already satisfied, skipping upgrade: six in /usr/local/lib/python3.6/dist-packages (from cycler>=0.10->matplotlib>=2.2->seaborn) (1.15.0)\n",
            "Requirement already up-to-date: pandas in /usr/local/lib/python3.6/dist-packages (1.1.5)\n",
            "Requirement already satisfied, skipping upgrade: pytz>=2017.2 in /usr/local/lib/python3.6/dist-packages (from pandas) (2018.9)\n",
            "Requirement already satisfied, skipping upgrade: numpy>=1.15.4 in /usr/local/lib/python3.6/dist-packages (from pandas) (1.19.4)\n",
            "Requirement already satisfied, skipping upgrade: python-dateutil>=2.7.3 in /usr/local/lib/python3.6/dist-packages (from pandas) (2.8.1)\n",
            "Requirement already satisfied, skipping upgrade: six>=1.5 in /usr/local/lib/python3.6/dist-packages (from python-dateutil>=2.7.3->pandas) (1.15.0)\n",
            "Requirement already up-to-date: plotly in /usr/local/lib/python3.6/dist-packages (4.14.1)\n",
            "Requirement already satisfied, skipping upgrade: six in /usr/local/lib/python3.6/dist-packages (from plotly) (1.15.0)\n",
            "Requirement already satisfied, skipping upgrade: retrying>=1.3.3 in /usr/local/lib/python3.6/dist-packages (from plotly) (1.3.3)\n",
            "Requirement already satisfied: dtale in /usr/local/lib/python3.6/dist-packages (1.30.0)\n",
            "Requirement already satisfied: kaleido in /usr/local/lib/python3.6/dist-packages (from dtale) (0.1.0)\n",
            "Requirement already satisfied: xarray; python_version >= \"3.0\" in /usr/local/lib/python3.6/dist-packages (from dtale) (0.15.1)\n",
            "Requirement already satisfied: dash-daq in /usr/local/lib/python3.6/dist-packages (from dtale) (0.5.0)\n",
            "Requirement already satisfied: dash-colorscales in /usr/local/lib/python3.6/dist-packages (from dtale) (0.0.4)\n",
            "Requirement already satisfied: squarify in /usr/local/lib/python3.6/dist-packages (from dtale) (0.4.3)\n",
            "Requirement already satisfied: plotly>=4.9.0 in /usr/local/lib/python3.6/dist-packages (from dtale) (4.14.1)\n",
            "Requirement already satisfied: ppscore; python_version >= \"3.6\" in /usr/local/lib/python3.6/dist-packages (from dtale) (1.1.1)\n",
            "Requirement already satisfied: dash>=1.5.0 in /usr/local/lib/python3.6/dist-packages (from dtale) (1.18.1)\n",
            "Requirement already satisfied: pandas in /usr/local/lib/python3.6/dist-packages (from dtale) (1.1.5)\n",
            "Requirement already satisfied: Flask>=1.0 in /usr/local/lib/python3.6/dist-packages (from dtale) (1.1.2)\n",
            "Requirement already satisfied: statsmodels in /usr/local/lib/python3.6/dist-packages (from dtale) (0.10.2)\n",
            "Requirement already satisfied: scikit-learn>='0.21.0 in /usr/local/lib/python3.6/dist-packages (from dtale) (0.22.2.post1)\n",
            "Requirement already satisfied: six in /usr/local/lib/python3.6/dist-packages (from dtale) (1.15.0)\n",
            "Requirement already satisfied: future>=0.14.0 in /usr/local/lib/python3.6/dist-packages (from dtale) (0.16.0)\n",
            "Requirement already satisfied: flask-ngrok; python_version > \"3.0\" in /usr/local/lib/python3.6/dist-packages (from dtale) (0.0.25)\n",
            "Requirement already satisfied: Flask-Compress in /usr/local/lib/python3.6/dist-packages (from dtale) (1.8.0)\n",
            "Requirement already satisfied: scipy in /usr/local/lib/python3.6/dist-packages (from dtale) (1.4.1)\n",
            "Requirement already satisfied: strsimpy in /usr/local/lib/python3.6/dist-packages (from dtale) (0.2.0)\n",
            "Requirement already satisfied: networkx; python_version >= \"3.0\" in /usr/local/lib/python3.6/dist-packages (from dtale) (2.5)\n",
            "Requirement already satisfied: itsdangerous in /usr/local/lib/python3.6/dist-packages (from dtale) (1.1.0)\n",
            "Requirement already satisfied: dash-bootstrap-components; python_version > \"3.0\" in /usr/local/lib/python3.6/dist-packages (from dtale) (0.11.1)\n",
            "Requirement already satisfied: lz4; python_version > \"3.0\" in /usr/local/lib/python3.6/dist-packages (from dtale) (3.1.1)\n",
            "Requirement already satisfied: requests in /usr/local/lib/python3.6/dist-packages (from dtale) (2.23.0)\n",
            "Requirement already satisfied: numpy>=1.15 in /usr/local/lib/python3.6/dist-packages (from xarray; python_version >= \"3.0\"->dtale) (1.19.4)\n",
            "Requirement already satisfied: setuptools>=41.2 in /usr/local/lib/python3.6/dist-packages (from xarray; python_version >= \"3.0\"->dtale) (51.0.0)\n",
            "Requirement already satisfied: retrying>=1.3.3 in /usr/local/lib/python3.6/dist-packages (from plotly>=4.9.0->dtale) (1.3.3)\n",
            "Requirement already satisfied: dash-core-components==1.14.1 in /usr/local/lib/python3.6/dist-packages (from dash>=1.5.0->dtale) (1.14.1)\n",
            "Requirement already satisfied: dash-renderer==1.8.3 in /usr/local/lib/python3.6/dist-packages (from dash>=1.5.0->dtale) (1.8.3)\n",
            "Requirement already satisfied: dash-html-components==1.1.1 in /usr/local/lib/python3.6/dist-packages (from dash>=1.5.0->dtale) (1.1.1)\n",
            "Requirement already satisfied: dash-table==4.11.1 in /usr/local/lib/python3.6/dist-packages (from dash>=1.5.0->dtale) (4.11.1)\n",
            "Requirement already satisfied: python-dateutil>=2.7.3 in /usr/local/lib/python3.6/dist-packages (from pandas->dtale) (2.8.1)\n",
            "Requirement already satisfied: pytz>=2017.2 in /usr/local/lib/python3.6/dist-packages (from pandas->dtale) (2018.9)\n",
            "Requirement already satisfied: Jinja2>=2.10.1 in /usr/local/lib/python3.6/dist-packages (from Flask>=1.0->dtale) (2.11.2)\n",
            "Requirement already satisfied: Werkzeug>=0.15 in /usr/local/lib/python3.6/dist-packages (from Flask>=1.0->dtale) (1.0.1)\n",
            "Requirement already satisfied: click>=5.1 in /usr/local/lib/python3.6/dist-packages (from Flask>=1.0->dtale) (7.1.2)\n",
            "Requirement already satisfied: patsy>=0.4.0 in /usr/local/lib/python3.6/dist-packages (from statsmodels->dtale) (0.5.1)\n",
            "Requirement already satisfied: joblib>=0.11 in /usr/local/lib/python3.6/dist-packages (from scikit-learn>='0.21.0->dtale) (1.0.0)\n",
            "Requirement already satisfied: brotli in /usr/local/lib/python3.6/dist-packages (from Flask-Compress->dtale) (1.0.9)\n",
            "Requirement already satisfied: decorator>=4.3.0 in /usr/local/lib/python3.6/dist-packages (from networkx; python_version >= \"3.0\"->dtale) (4.4.2)\n",
            "Requirement already satisfied: urllib3!=1.25.0,!=1.25.1,<1.26,>=1.21.1 in /usr/local/lib/python3.6/dist-packages (from requests->dtale) (1.24.3)\n",
            "Requirement already satisfied: idna<3,>=2.5 in /usr/local/lib/python3.6/dist-packages (from requests->dtale) (2.10)\n",
            "Requirement already satisfied: certifi>=2017.4.17 in /usr/local/lib/python3.6/dist-packages (from requests->dtale) (2020.12.5)\n",
            "Requirement already satisfied: chardet<4,>=3.0.2 in /usr/local/lib/python3.6/dist-packages (from requests->dtale) (3.0.4)\n",
            "Requirement already satisfied: MarkupSafe>=0.23 in /usr/local/lib/python3.6/dist-packages (from Jinja2>=2.10.1->Flask>=1.0->dtale) (1.1.1)\n"
          ],
          "name": "stdout"
        }
      ]
    },
    {
      "cell_type": "markdown",
      "metadata": {
        "id": "GuPBIXNP-s0p"
      },
      "source": [
        "### **Imports**"
      ]
    },
    {
      "cell_type": "code",
      "metadata": {
        "id": "F1b4C1U8ct86",
        "trusted": true
      },
      "source": [
        "# Import numpy, matplotlib, etc.\n",
        "import math\n",
        "import numpy as np\n",
        "import pandas as pd\n",
        "import seaborn as sns\n",
        "import matplotlib.pyplot as plt\n",
        "\n",
        "# Sklearn imports\n",
        "import sklearn\n",
        "from sklearn import metrics\n",
        "from sklearn import datasets\n",
        "from sklearn import pipeline\n",
        "from sklearn import linear_model\n",
        "from sklearn import preprocessing\n",
        "\n",
        "# Data import\n",
        "train_df = pd.read_csv(\"/content/drive/MyDrive/Colab Notebooks/TitanicData/train.csv\") # DataFrame of train's CSV file (Read)\n",
        "test_df = pd.read_csv(\"/content/drive/MyDrive/Colab Notebooks/TitanicData/test.csv\")   # DataFrame of test's CSV file (Read)"
      ],
      "execution_count": 3,
      "outputs": []
    },
    {
      "cell_type": "markdown",
      "metadata": {
        "id": "wwgb4YIu-xBs"
      },
      "source": [
        "#### **More Imports**\r\n",
        "Imports for the HW3's part"
      ]
    },
    {
      "cell_type": "code",
      "metadata": {
        "id": "5Asfocx2ITAy"
      },
      "source": [
        "import statistics\r\n",
        "from statistics import mean\r\n",
        "from statistics import variance\r\n",
        "\r\n",
        "from sklearn import model_selection\r\n",
        "from sklearn.pipeline import make_pipeline\r\n",
        "from sklearn.linear_model import SGDRegressor\r\n",
        "from sklearn.metrics import mean_squared_error\r\n",
        "from sklearn.preprocessing import OneHotEncoder\r\n",
        "from sklearn.preprocessing import OrdinalEncoder\r\n",
        "from sklearn.preprocessing import StandardScaler\r\n",
        "from sklearn.linear_model import LinearRegression\r\n",
        "from sklearn.preprocessing import PolynomialFeatures\r\n",
        "\r\n",
        "\r\n",
        "from sklearn.cluster import KMeans\r\n",
        "from sklearn.feature_selection import RFECV\r\n",
        "from sklearn.compose import ColumnTransformer\r\n",
        "from sklearn.linear_model import SGDClassifier\r\n",
        "from sklearn.model_selection import GridSearchCV\r\n",
        "from sklearn.model_selection import RepeatedKFold\r\n",
        "from sklearn.neighbors import KNeighborsClassifier\r\n",
        "from sklearn.model_selection import cross_val_score\r\n",
        "from sklearn.model_selection import train_test_split\r\n",
        "\r\n",
        "from sklearn.naive_bayes import MultinomialNB\r\n",
        "\r\n",
        "import dtale\r\n",
        "import dtale.app as dtale_app\r\n",
        "\r\n",
        "from sklearn.decomposition import PCA\r\n",
        "import plotly.express as px\r\n",
        "import plotly.graph_objects as go\r\n",
        "\r\n",
        "from sklearn.cluster import KMeans\r\n",
        "\r\n",
        "from sklearn.cluster import AgglomerativeClustering\r\n",
        "from scipy.cluster.hierarchy import dendrogram\r\n",
        "\r\n",
        "from sklearn.naive_bayes import GaussianNB\r\n",
        "from sklearn.pipeline import Pipeline\r\n",
        "from sklearn.pipeline import make_pipeline\r\n",
        "\r\n",
        "from sklearn.model_selection import cross_val_score\r\n",
        "from sklearn.metrics import make_scorer, accuracy_score\r\n",
        "\r\n",
        "from sklearn.model_selection import GridSearchCV\r\n",
        "from sklearn.model_selection import RandomizedSearchCV\r\n",
        "from scipy.stats import uniform\r\n",
        "\r\n",
        "from sklearn.ensemble import BaggingClassifier\r\n",
        "from sklearn.ensemble import AdaBoostClassifier\r\n",
        "\r\n",
        "from CourseExercises.lwlr import LWLR\r\n",
        "from sklearn.neighbors import KNeighborsRegressor\r\n"
      ],
      "execution_count": 4,
      "outputs": []
    },
    {
      "cell_type": "markdown",
      "metadata": {
        "id": "hrMjYoz-cf1G"
      },
      "source": [
        "## **About the Data**"
      ]
    },
    {
      "cell_type": "markdown",
      "metadata": {
        "id": "zLcOm_Fido11"
      },
      "source": [
        "### **Train Data:**"
      ]
    },
    {
      "cell_type": "code",
      "metadata": {
        "id": "QVdhqD9VcdEE",
        "trusted": true,
        "colab": {
          "base_uri": "https://localhost:8080/"
        },
        "outputId": "f9415b70-f4ea-4c9a-e230-9ff4428fe32d"
      },
      "source": [
        "print('There are {} samples'.format(train_df.shape[0]))  # Number of samples\n",
        "print('There are {} features\\n'.format(train_df.shape[1])) # Number of features\n",
        "\n",
        "train_df.dtypes"
      ],
      "execution_count": 5,
      "outputs": [
        {
          "output_type": "stream",
          "text": [
            "There are 891 samples\n",
            "There are 12 features\n",
            "\n"
          ],
          "name": "stdout"
        },
        {
          "output_type": "execute_result",
          "data": {
            "text/plain": [
              "PassengerId      int64\n",
              "Survived         int64\n",
              "Pclass           int64\n",
              "Name            object\n",
              "Sex             object\n",
              "Age            float64\n",
              "SibSp            int64\n",
              "Parch            int64\n",
              "Ticket          object\n",
              "Fare           float64\n",
              "Cabin           object\n",
              "Embarked        object\n",
              "dtype: object"
            ]
          },
          "metadata": {
            "tags": []
          },
          "execution_count": 5
        }
      ]
    },
    {
      "cell_type": "markdown",
      "metadata": {
        "id": "P7DIgEU8AxaI"
      },
      "source": [
        "As we can see, most of the features are numeric (int64,float64).\\\r\n",
        "Let's check if we can convert some of the features **later on**:\r\n",
        "\r\n",
        "*   `Name` --> Will not effect our calculations. possibly will be deleted later.\r\n",
        "*   `Sex` --> Can be transformed to binary.\r\n",
        "*   `Ticket` --> Can be transformed to numeric (or binary, depends on the method we will be choosing).\r\n",
        "*    `Cabin` --> Might be in use, possibly will be deleted.\r\n",
        "*    `Enbarked` --> Can be transformed to numeric (categorical)\r\n",
        "\r\n",
        "\r\n"
      ]
    },
    {
      "cell_type": "code",
      "metadata": {
        "id": "vgh6Rpvtc5i2",
        "trusted": true,
        "colab": {
          "base_uri": "https://localhost:8080/",
          "height": 229
        },
        "outputId": "b51f4257-40a1-4a6f-9299-43c64e657835"
      },
      "source": [
        "train_df.head() # Preview of the train data"
      ],
      "execution_count": 6,
      "outputs": [
        {
          "output_type": "execute_result",
          "data": {
            "text/html": [
              "<div>\n",
              "<style scoped>\n",
              "    .dataframe tbody tr th:only-of-type {\n",
              "        vertical-align: middle;\n",
              "    }\n",
              "\n",
              "    .dataframe tbody tr th {\n",
              "        vertical-align: top;\n",
              "    }\n",
              "\n",
              "    .dataframe thead th {\n",
              "        text-align: right;\n",
              "    }\n",
              "</style>\n",
              "<table border=\"1\" class=\"dataframe\">\n",
              "  <thead>\n",
              "    <tr style=\"text-align: right;\">\n",
              "      <th></th>\n",
              "      <th>PassengerId</th>\n",
              "      <th>Survived</th>\n",
              "      <th>Pclass</th>\n",
              "      <th>Name</th>\n",
              "      <th>Sex</th>\n",
              "      <th>Age</th>\n",
              "      <th>SibSp</th>\n",
              "      <th>Parch</th>\n",
              "      <th>Ticket</th>\n",
              "      <th>Fare</th>\n",
              "      <th>Cabin</th>\n",
              "      <th>Embarked</th>\n",
              "    </tr>\n",
              "  </thead>\n",
              "  <tbody>\n",
              "    <tr>\n",
              "      <th>0</th>\n",
              "      <td>1</td>\n",
              "      <td>0</td>\n",
              "      <td>3</td>\n",
              "      <td>Braund, Mr. Owen Harris</td>\n",
              "      <td>male</td>\n",
              "      <td>22.0</td>\n",
              "      <td>1</td>\n",
              "      <td>0</td>\n",
              "      <td>A/5 21171</td>\n",
              "      <td>7.2500</td>\n",
              "      <td>NaN</td>\n",
              "      <td>S</td>\n",
              "    </tr>\n",
              "    <tr>\n",
              "      <th>1</th>\n",
              "      <td>2</td>\n",
              "      <td>1</td>\n",
              "      <td>1</td>\n",
              "      <td>Cumings, Mrs. John Bradley (Florence Briggs Th...</td>\n",
              "      <td>female</td>\n",
              "      <td>38.0</td>\n",
              "      <td>1</td>\n",
              "      <td>0</td>\n",
              "      <td>PC 17599</td>\n",
              "      <td>71.2833</td>\n",
              "      <td>C85</td>\n",
              "      <td>C</td>\n",
              "    </tr>\n",
              "    <tr>\n",
              "      <th>2</th>\n",
              "      <td>3</td>\n",
              "      <td>1</td>\n",
              "      <td>3</td>\n",
              "      <td>Heikkinen, Miss. Laina</td>\n",
              "      <td>female</td>\n",
              "      <td>26.0</td>\n",
              "      <td>0</td>\n",
              "      <td>0</td>\n",
              "      <td>STON/O2. 3101282</td>\n",
              "      <td>7.9250</td>\n",
              "      <td>NaN</td>\n",
              "      <td>S</td>\n",
              "    </tr>\n",
              "    <tr>\n",
              "      <th>3</th>\n",
              "      <td>4</td>\n",
              "      <td>1</td>\n",
              "      <td>1</td>\n",
              "      <td>Futrelle, Mrs. Jacques Heath (Lily May Peel)</td>\n",
              "      <td>female</td>\n",
              "      <td>35.0</td>\n",
              "      <td>1</td>\n",
              "      <td>0</td>\n",
              "      <td>113803</td>\n",
              "      <td>53.1000</td>\n",
              "      <td>C123</td>\n",
              "      <td>S</td>\n",
              "    </tr>\n",
              "    <tr>\n",
              "      <th>4</th>\n",
              "      <td>5</td>\n",
              "      <td>0</td>\n",
              "      <td>3</td>\n",
              "      <td>Allen, Mr. William Henry</td>\n",
              "      <td>male</td>\n",
              "      <td>35.0</td>\n",
              "      <td>0</td>\n",
              "      <td>0</td>\n",
              "      <td>373450</td>\n",
              "      <td>8.0500</td>\n",
              "      <td>NaN</td>\n",
              "      <td>S</td>\n",
              "    </tr>\n",
              "  </tbody>\n",
              "</table>\n",
              "</div>"
            ],
            "text/plain": [
              "   PassengerId  Survived  Pclass  ...     Fare Cabin  Embarked\n",
              "0            1         0       3  ...   7.2500   NaN         S\n",
              "1            2         1       1  ...  71.2833   C85         C\n",
              "2            3         1       3  ...   7.9250   NaN         S\n",
              "3            4         1       1  ...  53.1000  C123         S\n",
              "4            5         0       3  ...   8.0500   NaN         S\n",
              "\n",
              "[5 rows x 12 columns]"
            ]
          },
          "metadata": {
            "tags": []
          },
          "execution_count": 6
        }
      ]
    },
    {
      "cell_type": "markdown",
      "metadata": {
        "id": "IJvAW-cTd5_k"
      },
      "source": [
        "### **Test Data:**"
      ]
    },
    {
      "cell_type": "code",
      "metadata": {
        "id": "K4iTtIy8dNOa",
        "trusted": true,
        "colab": {
          "base_uri": "https://localhost:8080/"
        },
        "outputId": "54301399-eb59-4046-c658-e2997d587175"
      },
      "source": [
        "print('There are {} samples'.format(test_df.shape[0]))  # Number of samples\n",
        "print('There are {} features'.format(test_df.shape[1])) # Number of features\n",
        "\n",
        "test_df.dtypes"
      ],
      "execution_count": 7,
      "outputs": [
        {
          "output_type": "stream",
          "text": [
            "There are 418 samples\n",
            "There are 11 features\n"
          ],
          "name": "stdout"
        },
        {
          "output_type": "execute_result",
          "data": {
            "text/plain": [
              "PassengerId      int64\n",
              "Pclass           int64\n",
              "Name            object\n",
              "Sex             object\n",
              "Age            float64\n",
              "SibSp            int64\n",
              "Parch            int64\n",
              "Ticket          object\n",
              "Fare           float64\n",
              "Cabin           object\n",
              "Embarked        object\n",
              "dtype: object"
            ]
          },
          "metadata": {
            "tags": []
          },
          "execution_count": 7
        }
      ]
    },
    {
      "cell_type": "markdown",
      "metadata": {
        "id": "TYRChZ0fGx9-"
      },
      "source": [
        "There are the same features in the test_df (except for `Survived`), so the same changes will be in both dfs."
      ]
    },
    {
      "cell_type": "code",
      "metadata": {
        "id": "XmZGPGGndN15",
        "trusted": true,
        "colab": {
          "base_uri": "https://localhost:8080/",
          "height": 195
        },
        "outputId": "7e017641-9439-4c8a-ddd6-6b8b91ea571a"
      },
      "source": [
        "test_df.head() # Preview of the train data"
      ],
      "execution_count": 8,
      "outputs": [
        {
          "output_type": "execute_result",
          "data": {
            "text/html": [
              "<div>\n",
              "<style scoped>\n",
              "    .dataframe tbody tr th:only-of-type {\n",
              "        vertical-align: middle;\n",
              "    }\n",
              "\n",
              "    .dataframe tbody tr th {\n",
              "        vertical-align: top;\n",
              "    }\n",
              "\n",
              "    .dataframe thead th {\n",
              "        text-align: right;\n",
              "    }\n",
              "</style>\n",
              "<table border=\"1\" class=\"dataframe\">\n",
              "  <thead>\n",
              "    <tr style=\"text-align: right;\">\n",
              "      <th></th>\n",
              "      <th>PassengerId</th>\n",
              "      <th>Pclass</th>\n",
              "      <th>Name</th>\n",
              "      <th>Sex</th>\n",
              "      <th>Age</th>\n",
              "      <th>SibSp</th>\n",
              "      <th>Parch</th>\n",
              "      <th>Ticket</th>\n",
              "      <th>Fare</th>\n",
              "      <th>Cabin</th>\n",
              "      <th>Embarked</th>\n",
              "    </tr>\n",
              "  </thead>\n",
              "  <tbody>\n",
              "    <tr>\n",
              "      <th>0</th>\n",
              "      <td>892</td>\n",
              "      <td>3</td>\n",
              "      <td>Kelly, Mr. James</td>\n",
              "      <td>male</td>\n",
              "      <td>34.5</td>\n",
              "      <td>0</td>\n",
              "      <td>0</td>\n",
              "      <td>330911</td>\n",
              "      <td>7.8292</td>\n",
              "      <td>NaN</td>\n",
              "      <td>Q</td>\n",
              "    </tr>\n",
              "    <tr>\n",
              "      <th>1</th>\n",
              "      <td>893</td>\n",
              "      <td>3</td>\n",
              "      <td>Wilkes, Mrs. James (Ellen Needs)</td>\n",
              "      <td>female</td>\n",
              "      <td>47.0</td>\n",
              "      <td>1</td>\n",
              "      <td>0</td>\n",
              "      <td>363272</td>\n",
              "      <td>7.0000</td>\n",
              "      <td>NaN</td>\n",
              "      <td>S</td>\n",
              "    </tr>\n",
              "    <tr>\n",
              "      <th>2</th>\n",
              "      <td>894</td>\n",
              "      <td>2</td>\n",
              "      <td>Myles, Mr. Thomas Francis</td>\n",
              "      <td>male</td>\n",
              "      <td>62.0</td>\n",
              "      <td>0</td>\n",
              "      <td>0</td>\n",
              "      <td>240276</td>\n",
              "      <td>9.6875</td>\n",
              "      <td>NaN</td>\n",
              "      <td>Q</td>\n",
              "    </tr>\n",
              "    <tr>\n",
              "      <th>3</th>\n",
              "      <td>895</td>\n",
              "      <td>3</td>\n",
              "      <td>Wirz, Mr. Albert</td>\n",
              "      <td>male</td>\n",
              "      <td>27.0</td>\n",
              "      <td>0</td>\n",
              "      <td>0</td>\n",
              "      <td>315154</td>\n",
              "      <td>8.6625</td>\n",
              "      <td>NaN</td>\n",
              "      <td>S</td>\n",
              "    </tr>\n",
              "    <tr>\n",
              "      <th>4</th>\n",
              "      <td>896</td>\n",
              "      <td>3</td>\n",
              "      <td>Hirvonen, Mrs. Alexander (Helga E Lindqvist)</td>\n",
              "      <td>female</td>\n",
              "      <td>22.0</td>\n",
              "      <td>1</td>\n",
              "      <td>1</td>\n",
              "      <td>3101298</td>\n",
              "      <td>12.2875</td>\n",
              "      <td>NaN</td>\n",
              "      <td>S</td>\n",
              "    </tr>\n",
              "  </tbody>\n",
              "</table>\n",
              "</div>"
            ],
            "text/plain": [
              "   PassengerId  Pclass  ... Cabin Embarked\n",
              "0          892       3  ...   NaN        Q\n",
              "1          893       3  ...   NaN        S\n",
              "2          894       2  ...   NaN        Q\n",
              "3          895       3  ...   NaN        S\n",
              "4          896       3  ...   NaN        S\n",
              "\n",
              "[5 rows x 11 columns]"
            ]
          },
          "metadata": {
            "tags": []
          },
          "execution_count": 8
        }
      ]
    },
    {
      "cell_type": "markdown",
      "metadata": {
        "id": "ALQD_nCvI-XE"
      },
      "source": [
        "## **Features Engineering**\r\n",
        "\r\n",
        "Now we will edit our data to adjust it to the research."
      ]
    },
    {
      "cell_type": "code",
      "metadata": {
        "id": "3wpDMiNgMtrB"
      },
      "source": [
        "d_train = train_df.copy() # From now on we will use d_train instead of train_df\r\n",
        "d_test = test_df.copy()   # From now on we will use d_test instead of test_df"
      ],
      "execution_count": 9,
      "outputs": []
    },
    {
      "cell_type": "markdown",
      "metadata": {
        "id": "01A7zmLZODUF"
      },
      "source": [
        "### **Missing Values**\r\n",
        "\r\n",
        "Before making categorical features, we will see what our missing values."
      ]
    },
    {
      "cell_type": "code",
      "metadata": {
        "id": "373Y7ncWwhm4",
        "trusted": true,
        "colab": {
          "base_uri": "https://localhost:8080/"
        },
        "outputId": "3da628d8-1fdc-442e-cc95-4dcd6afb431b"
      },
      "source": [
        "# Checking the nuber of missing values in our df\n",
        "d_train.isnull().sum()\n"
      ],
      "execution_count": 10,
      "outputs": [
        {
          "output_type": "execute_result",
          "data": {
            "text/plain": [
              "PassengerId      0\n",
              "Survived         0\n",
              "Pclass           0\n",
              "Name             0\n",
              "Sex              0\n",
              "Age            177\n",
              "SibSp            0\n",
              "Parch            0\n",
              "Ticket           0\n",
              "Fare             0\n",
              "Cabin          687\n",
              "Embarked         2\n",
              "dtype: int64"
            ]
          },
          "metadata": {
            "tags": []
          },
          "execution_count": 10
        }
      ]
    },
    {
      "cell_type": "code",
      "metadata": {
        "colab": {
          "base_uri": "https://localhost:8080/"
        },
        "id": "L6yxFTaGP6d8",
        "outputId": "02f4ba37-c0bf-4fa4-de58-ddaa1bc4d284"
      },
      "source": [
        "d_test.isnull().sum()"
      ],
      "execution_count": 11,
      "outputs": [
        {
          "output_type": "execute_result",
          "data": {
            "text/plain": [
              "PassengerId      0\n",
              "Pclass           0\n",
              "Name             0\n",
              "Sex              0\n",
              "Age             86\n",
              "SibSp            0\n",
              "Parch            0\n",
              "Ticket           0\n",
              "Fare             1\n",
              "Cabin          327\n",
              "Embarked         0\n",
              "dtype: int64"
            ]
          },
          "metadata": {
            "tags": []
          },
          "execution_count": 11
        }
      ]
    },
    {
      "cell_type": "code",
      "metadata": {
        "colab": {
          "base_uri": "https://localhost:8080/"
        },
        "id": "yLHUMNtOPGmY",
        "outputId": "c5fc8dc2-8fe4-4967-c4f8-506ace6fcb2f"
      },
      "source": [
        "# Check\r\n",
        "\r\n",
        "nan_rows = d_train[d_train['Age'].isnull()]\r\n",
        "nan_rows = nan_rows.index\r\n",
        "print (nan_rows)\r\n",
        "d_train\r\n",
        "print (d_train.at[4,'Embarked'])\r\n",
        "print (d_train.at[5,'Embarked'])"
      ],
      "execution_count": 12,
      "outputs": [
        {
          "output_type": "stream",
          "text": [
            "Int64Index([  5,  17,  19,  26,  28,  29,  31,  32,  36,  42,\n",
            "            ...\n",
            "            832, 837, 839, 846, 849, 859, 863, 868, 878, 888],\n",
            "           dtype='int64', length=177)\n",
            "S\n",
            "Q\n"
          ],
          "name": "stdout"
        }
      ]
    },
    {
      "cell_type": "markdown",
      "metadata": {
        "id": "5HKRaQPPwq2-"
      },
      "source": [
        "As we can see, There are missing values in `Age` and `Cabin` features. \\\n",
        "The `Embarked` and `Fare` is extrimly low (2 of more than 800), so we will fill this data preposition. \\\n",
        "Let's check if we can use those features: "
      ]
    },
    {
      "cell_type": "markdown",
      "metadata": {
        "id": "2p5_kjZkvm9Z"
      },
      "source": [
        "#### **Cabin**"
      ]
    },
    {
      "cell_type": "code",
      "metadata": {
        "id": "gY31jmWqxCwO",
        "trusted": true,
        "colab": {
          "base_uri": "https://localhost:8080/"
        },
        "outputId": "acf22258-3897-49e6-d40f-e57062ae6c40"
      },
      "source": [
        "cabin_mis = (d_train['Cabin'].isnull().sum()/train_df.shape[0])*100\n",
        "print(f'Percent of missing \"Cabin\" records is {cabin_mis}')"
      ],
      "execution_count": 13,
      "outputs": [
        {
          "output_type": "stream",
          "text": [
            "Percent of missing \"Cabin\" records is 77.10437710437711\n"
          ],
          "name": "stdout"
        }
      ]
    },
    {
      "cell_type": "markdown",
      "metadata": {
        "id": "O1nACYMnvmdW"
      },
      "source": [
        "The `Cabin` feature's missing record is to high to estimate - that's why we will **drop** that data "
      ]
    },
    {
      "cell_type": "markdown",
      "metadata": {
        "id": "J5e2syaK8NYE"
      },
      "source": [
        "#### **Age**"
      ]
    },
    {
      "cell_type": "code",
      "metadata": {
        "id": "zssx2j3ksuoE",
        "trusted": true,
        "colab": {
          "base_uri": "https://localhost:8080/"
        },
        "outputId": "02e8e85e-098f-4416-a972-a3b98c04026c"
      },
      "source": [
        "age_mis = (d_train['Age'].isnull().sum()/train_df.shape[0])*100\n",
        "print(f'Percent of missing \"Age\" records is {age_mis}')"
      ],
      "execution_count": 14,
      "outputs": [
        {
          "output_type": "stream",
          "text": [
            "Percent of missing \"Age\" records is 19.865319865319865\n"
          ],
          "name": "stdout"
        }
      ]
    },
    {
      "cell_type": "markdown",
      "metadata": {
        "id": "AnFwclAf6oIO"
      },
      "source": [
        "The `Age` feature's missing record **can be handled**."
      ]
    },
    {
      "cell_type": "code",
      "metadata": {
        "id": "DOf8mGBx7YJR",
        "trusted": true,
        "colab": {
          "base_uri": "https://localhost:8080/",
          "height": 336
        },
        "outputId": "a6dc4192-62df-4d48-9739-fa25637af3ad"
      },
      "source": [
        "plt.figure(figsize=(5,5))\n",
        "ax = d_train[\"Age\"].hist(bins=15, density=True, stacked=True, color='turquoise', alpha=0.6)\n",
        "d_train[\"Age\"].plot(kind='density', color='darkturquoise')\n",
        "ax.set(xlabel='Age')\n",
        "plt.xlim(-10,100)\n",
        "plt.grid()\n",
        "plt.show()"
      ],
      "execution_count": 15,
      "outputs": [
        {
          "output_type": "display_data",
          "data": {
            "image/png": "[encoded data removed]",
            "text/plain": [
              "<Figure size 360x360 with 1 Axes>"
            ]
          },
          "metadata": {
            "tags": [],
            "needs_background": "light"
          }
        }
      ]
    },
    {
      "cell_type": "markdown",
      "metadata": {
        "id": "dTT1-314PJDA"
      },
      "source": [
        "### **My Functions**\r\n",
        "\r\n",
        "Functions that will help me with filling values later."
      ]
    },
    {
      "cell_type": "code",
      "metadata": {
        "id": "9bbhLZ7XPCMh"
      },
      "source": [
        "def getEstAge(df, pcls, far, emb):      # Returns estimated age.\r\n",
        "  fare_var = variance(df['Fare'])                                       # Calculates fare's variace for futer calculation.\r\n",
        "  df_filtered = df.copy()                                               # Copy of df to be filtered\r\n",
        "  df_filtered = df_filtered.loc[df_filtered['Embarked'].isin([emb])]    # Filter by Embarked\r\n",
        "  df_filtered = df_filtered.loc[df_filtered['Pclass'].isin([pcls])]     # Filter by Pclass          \r\n",
        "  # Empty Embarked will be handled before.\r\n",
        "\r\n",
        "  if far == 0:                                                        # Filter by fare.\r\n",
        "    df_filtered = df_filtered.loc[df_filtered['Fare'].isin([0])]      # If far == 0, probably he is a part of the crew.         \r\n",
        "  else:\r\n",
        "    df_filtered = df_filtered.loc[(df_filtered['Fare'] >= (far - fare_var)) & (df_filtered['Fare'] <= (far + fare_var)) ]\r\n",
        "  \r\n",
        "  df_filtered = df_filtered['Age']                                    # df_filter will contain only the age column\r\n",
        "  df_filtered = df_filtered.dropna()                                  # Dropping nulls that might intrupt the mean's calculation\r\n",
        "\r\n",
        "  m = df_filtered.mean()                                              # Calculates the mean\r\n",
        "  return m                                                            # Returns mean\r\n",
        "\r\n",
        "def fillValues(df):                     # Returns filled data, Cabbin was already dropped.\r\n",
        "  df['Fare'].fillna(0, inplace = True)                                # If fare is empty, it's because he is a part of the crew\r\n",
        "  \r\n",
        "  nan_rows1 = df[df['Embarked'].isnull()]                             # Filling NaNs with 'C'\r\n",
        "  nan_rows1 = nan_rows1.index\r\n",
        "  for i in nan_rows1:\r\n",
        "    df.at[i,'Embarked'] = 'C'\r\n",
        "\r\n",
        "  nan_rows2 = df[df['Age'].isnull()]                                  # Filling NaN with ages by algorithm\r\n",
        "  nan_rows2 = nan_rows2.index\r\n",
        "  for i in nan_rows2:\r\n",
        "    df.at[i, 'Age'] = getEstAge(df, df.at[i,'Pclass'], df.at[i,'Fare'], df.at[i,'Embarked'])\r\n",
        "  return df\r\n",
        "\r\n",
        "def fillIfAlone(df):                    # Filling the column if the traveler was alone\r\n",
        "  df['isAlone']=np.where((df[\"SibSp\"]+df[\"Parch\"])>0, 0, 1)\r\n",
        "  return df\r\n",
        "\r\n",
        "\r\n",
        "def prepareDF(df):                      # Preparing the data \r\n",
        "  df = df.drop(columns=['Name', 'Cabin', 'Ticket'])    # Dropping unhelpful columns\r\n",
        "  df = df.drop(df[((df['Fare'] == 0.0) | (df['Fare'].isna())) &\r\n",
        "                  (df['Age'].isna())].index)                          # Too much missing data!\r\n",
        "  df = fillValues(df)                                                 # Filling values\r\n",
        "  df = fillIfAlone(df)                                                # Adding ifAlone column\r\n",
        "  print (df)\r\n",
        "  return df"
      ],
      "execution_count": 16,
      "outputs": []
    },
    {
      "cell_type": "markdown",
      "metadata": {
        "id": "XkXTkL5kyv2F"
      },
      "source": [
        "* We will assume that if someone's `Fare` is `NaN` it's because he didn't had to pay, so he was probably a part of the crew.\r\n",
        "\r\n",
        "* From looking at the data , we could see that both empty `Embarked` were females and after looking at the data, we saw that other females with similar fare and other features were at 'C'. \r\n",
        "\r\n",
        "* The `Age` will be filled by `getEstAge`'s function.\r\n",
        "\r\n",
        "* We can know from `SibSp` and `Parch` if the traveler was lonely or not. we will add to the df `isAlone` column."
      ]
    },
    {
      "cell_type": "markdown",
      "metadata": {
        "id": "9aqJ5u-C_oeQ"
      },
      "source": [
        "### **Data Cleansing**"
      ]
    },
    {
      "cell_type": "markdown",
      "metadata": {
        "id": "2TLGqes-BvcJ"
      },
      "source": [
        "#### **First Drop Unhelpfuls & Prepare for Encoding**\r\n",
        "\r\n",
        "Dropping the first values that we know for sure that we will NOT use: `Name`,`PassengerId`, `Cabin` and `Ticket`.\\\r\n",
        "After dropping the first few vars, we will use `fillingValues` function, that will fill missing values.\\\r\n",
        "Later, we will fill new column that will check if the traveler was alone : `isAlone`."
      ]
    },
    {
      "cell_type": "code",
      "metadata": {
        "colab": {
          "base_uri": "https://localhost:8080/"
        },
        "id": "AuYsfSYfEQD2",
        "outputId": "903c297f-1b10-43ab-d4a1-f3aa84423f91"
      },
      "source": [
        "d_train = prepareDF(d_train)\r\n",
        "d_test = prepareDF(d_test)\r\n",
        "\r\n",
        "id_train = d_train['PassengerId'].copy()\r\n",
        "id_test = d_test['PassengerId'].copy()\r\n",
        "\r\n",
        "d_train = d_train.drop(columns=['PassengerId'])\r\n",
        "d_test = d_test.drop(columns=['PassengerId'])"
      ],
      "execution_count": 17,
      "outputs": [
        {
          "output_type": "stream",
          "text": [
            "     PassengerId  Survived  Pclass     Sex  ...  Parch     Fare  Embarked  isAlone\n",
            "0              1         0       3    male  ...      0   7.2500         S        0\n",
            "1              2         1       1  female  ...      0  71.2833         C        0\n",
            "2              3         1       3  female  ...      0   7.9250         S        1\n",
            "3              4         1       1  female  ...      0  53.1000         S        0\n",
            "4              5         0       3    male  ...      0   8.0500         S        1\n",
            "..           ...       ...     ...     ...  ...    ...      ...       ...      ...\n",
            "886          887         0       2    male  ...      0  13.0000         S        1\n",
            "887          888         1       1  female  ...      0  30.0000         S        1\n",
            "888          889         0       3  female  ...      2  23.4500         S        0\n",
            "889          890         1       1    male  ...      0  30.0000         C        1\n",
            "890          891         0       3    male  ...      0   7.7500         Q        1\n",
            "\n",
            "[883 rows x 10 columns]\n",
            "     PassengerId  Pclass     Sex        Age  ...  Parch      Fare  Embarked isAlone\n",
            "0            892       3    male  34.500000  ...      0    7.8292         Q       1\n",
            "1            893       3  female  47.000000  ...      0    7.0000         S       0\n",
            "2            894       2    male  62.000000  ...      0    9.6875         Q       1\n",
            "3            895       3    male  27.000000  ...      0    8.6625         S       1\n",
            "4            896       3  female  22.000000  ...      1   12.2875         S       0\n",
            "..           ...     ...     ...        ...  ...    ...       ...       ...     ...\n",
            "413         1305       3    male  24.051193  ...      0    8.0500         S       1\n",
            "414         1306       1  female  39.000000  ...      0  108.9000         C       1\n",
            "415         1307       3    male  38.500000  ...      0    7.2500         S       1\n",
            "416         1308       3    male  24.051193  ...      0    8.0500         S       1\n",
            "417         1309       3    male  22.973684  ...      1   22.3583         C       0\n",
            "\n",
            "[417 rows x 9 columns]\n"
          ],
          "name": "stdout"
        }
      ]
    },
    {
      "cell_type": "markdown",
      "metadata": {
        "id": "PZ5mc4nABB55"
      },
      "source": [
        "#### **Encoding**\r\n",
        "\r\n",
        "I'll use dummy encoding and will delete binary options (i will drop `sex_male` for example)."
      ]
    },
    {
      "cell_type": "code",
      "metadata": {
        "colab": {
          "base_uri": "https://localhost:8080/",
          "height": 195
        },
        "id": "BHE4RBRjFV5v",
        "outputId": "4c991eb1-83ff-4afa-ca84-3f354e59ef55"
      },
      "source": [
        "d_train = pd.get_dummies(d_train, columns=[\"Pclass\",\"Embarked\",\"Sex\"])\r\n",
        "d_train = d_train.drop(columns=['Sex_male'])\r\n",
        "d_train.head()\r\n",
        "\r\n",
        "d_test = pd.get_dummies(d_test, columns=[\"Pclass\",\"Embarked\",\"Sex\"])\r\n",
        "d_test = d_test.drop(columns=['Sex_male'])\r\n",
        "d_test.head()"
      ],
      "execution_count": 18,
      "outputs": [
        {
          "output_type": "execute_result",
          "data": {
            "text/html": [
              "<div>\n",
              "<style scoped>\n",
              "    .dataframe tbody tr th:only-of-type {\n",
              "        vertical-align: middle;\n",
              "    }\n",
              "\n",
              "    .dataframe tbody tr th {\n",
              "        vertical-align: top;\n",
              "    }\n",
              "\n",
              "    .dataframe thead th {\n",
              "        text-align: right;\n",
              "    }\n",
              "</style>\n",
              "<table border=\"1\" class=\"dataframe\">\n",
              "  <thead>\n",
              "    <tr style=\"text-align: right;\">\n",
              "      <th></th>\n",
              "      <th>Age</th>\n",
              "      <th>SibSp</th>\n",
              "      <th>Parch</th>\n",
              "      <th>Fare</th>\n",
              "      <th>isAlone</th>\n",
              "      <th>Pclass_1</th>\n",
              "      <th>Pclass_2</th>\n",
              "      <th>Pclass_3</th>\n",
              "      <th>Embarked_C</th>\n",
              "      <th>Embarked_Q</th>\n",
              "      <th>Embarked_S</th>\n",
              "      <th>Sex_female</th>\n",
              "    </tr>\n",
              "  </thead>\n",
              "  <tbody>\n",
              "    <tr>\n",
              "      <th>0</th>\n",
              "      <td>34.5</td>\n",
              "      <td>0</td>\n",
              "      <td>0</td>\n",
              "      <td>7.8292</td>\n",
              "      <td>1</td>\n",
              "      <td>0</td>\n",
              "      <td>0</td>\n",
              "      <td>1</td>\n",
              "      <td>0</td>\n",
              "      <td>1</td>\n",
              "      <td>0</td>\n",
              "      <td>0</td>\n",
              "    </tr>\n",
              "    <tr>\n",
              "      <th>1</th>\n",
              "      <td>47.0</td>\n",
              "      <td>1</td>\n",
              "      <td>0</td>\n",
              "      <td>7.0000</td>\n",
              "      <td>0</td>\n",
              "      <td>0</td>\n",
              "      <td>0</td>\n",
              "      <td>1</td>\n",
              "      <td>0</td>\n",
              "      <td>0</td>\n",
              "      <td>1</td>\n",
              "      <td>1</td>\n",
              "    </tr>\n",
              "    <tr>\n",
              "      <th>2</th>\n",
              "      <td>62.0</td>\n",
              "      <td>0</td>\n",
              "      <td>0</td>\n",
              "      <td>9.6875</td>\n",
              "      <td>1</td>\n",
              "      <td>0</td>\n",
              "      <td>1</td>\n",
              "      <td>0</td>\n",
              "      <td>0</td>\n",
              "      <td>1</td>\n",
              "      <td>0</td>\n",
              "      <td>0</td>\n",
              "    </tr>\n",
              "    <tr>\n",
              "      <th>3</th>\n",
              "      <td>27.0</td>\n",
              "      <td>0</td>\n",
              "      <td>0</td>\n",
              "      <td>8.6625</td>\n",
              "      <td>1</td>\n",
              "      <td>0</td>\n",
              "      <td>0</td>\n",
              "      <td>1</td>\n",
              "      <td>0</td>\n",
              "      <td>0</td>\n",
              "      <td>1</td>\n",
              "      <td>0</td>\n",
              "    </tr>\n",
              "    <tr>\n",
              "      <th>4</th>\n",
              "      <td>22.0</td>\n",
              "      <td>1</td>\n",
              "      <td>1</td>\n",
              "      <td>12.2875</td>\n",
              "      <td>0</td>\n",
              "      <td>0</td>\n",
              "      <td>0</td>\n",
              "      <td>1</td>\n",
              "      <td>0</td>\n",
              "      <td>0</td>\n",
              "      <td>1</td>\n",
              "      <td>1</td>\n",
              "    </tr>\n",
              "  </tbody>\n",
              "</table>\n",
              "</div>"
            ],
            "text/plain": [
              "    Age  SibSp  Parch     Fare  ...  Embarked_C  Embarked_Q  Embarked_S  Sex_female\n",
              "0  34.5      0      0   7.8292  ...           0           1           0           0\n",
              "1  47.0      1      0   7.0000  ...           0           0           1           1\n",
              "2  62.0      0      0   9.6875  ...           0           1           0           0\n",
              "3  27.0      0      0   8.6625  ...           0           0           1           0\n",
              "4  22.0      1      1  12.2875  ...           0           0           1           1\n",
              "\n",
              "[5 rows x 12 columns]"
            ]
          },
          "metadata": {
            "tags": []
          },
          "execution_count": 18
        }
      ]
    },
    {
      "cell_type": "markdown",
      "metadata": {
        "id": "UbhhE8CaA8Vx"
      },
      "source": [
        "#### **Correlation**"
      ]
    },
    {
      "cell_type": "code",
      "metadata": {
        "colab": {
          "base_uri": "https://localhost:8080/",
          "height": 596
        },
        "id": "5U1KbpBjA286",
        "outputId": "91680c90-4174-4af2-d179-32f57b454905"
      },
      "source": [
        "plt.figure(figsize=(20,10))\r\n",
        "cor = d_train.corr()\r\n",
        "d_train.corr()\r\n",
        "sns.heatmap(cor, annot=True, cmap = plt.cm.Blues, vmin=0, vmax=1)\r\n",
        "plt.show()"
      ],
      "execution_count": 19,
      "outputs": [
        {
          "output_type": "display_data",
          "data": {
            "image/png": "[encoded data removed]",
            "text/plain": [
              "<Figure size 1440x720 with 2 Axes>"
            ]
          },
          "metadata": {
            "tags": [],
            "needs_background": "light"
          }
        }
      ]
    },
    {
      "cell_type": "markdown",
      "metadata": {
        "id": "3sJpJ1AuBI8M"
      },
      "source": [
        "We can notice strong correlation between some fatures: \\\n",
        "* `Fare` and `Pclass_1` |0.59|\n",
        "* `Survived` and `Sex_female` |0.54|\n",
        "* `Parch` and `SibSp` |0.41|\n",
        "* `Age` and `Pclass_1` |0.38|\n",
        "* `Pclass_1` and `Embarked_C` |0.31|\n",
        "* `Sex_female` and `isAlone` |0.3| \n",
        "\n",
        "\n",
        "We could see strong relatinship between difftent fetures, such as: \n",
        "* Most of people who bught more expansive tickets are in `Pclass_1`.\n",
        "* People who paid higher fare has better surviving rate.\n",
        "* It's more likely that men are traveling alone then women.\n",
        "* Women has better surviving rate."
      ]
    },
    {
      "cell_type": "markdown",
      "metadata": {
        "id": "L5zPdZ8tF5q-"
      },
      "source": [
        "## **Models Setup**\r\n",
        "\r\n",
        "We will start with a function that deviding `d_train` to target and features."
      ]
    },
    {
      "cell_type": "code",
      "metadata": {
        "id": "adbpsap3GRL0"
      },
      "source": [
        "def setXt(df):                                # Devides X and t \r\n",
        "  t = df['Survived'].copy()\r\n",
        "  print('t')\r\n",
        "  display(t)\r\n",
        "  print()\r\n",
        "  X = df.drop(['Survived'], axis = 1)\r\n",
        "  print('X')\r\n",
        "  display(X)\r\n",
        "  print()\r\n",
        "  t.unique()\r\n",
        "  return X,t\r\n",
        "\r\n",
        "accuras = []          # Will have all the accuracis"
      ],
      "execution_count": 20,
      "outputs": []
    },
    {
      "cell_type": "code",
      "metadata": {
        "colab": {
          "base_uri": "https://localhost:8080/"
        },
        "id": "opnN3WlDKNTI",
        "outputId": "a151f135-b775-4c51-834b-74550e6ecc66"
      },
      "source": [
        "dtale_app.USE_NGROK = True\r\n",
        "dtale.show(d_train, ignore_duplicate=True)"
      ],
      "execution_count": 21,
      "outputs": [
        {
          "output_type": "execute_result",
          "data": {
            "text/plain": [
              "http://538222b17fc2.ngrok.io/dtale/main/1"
            ]
          },
          "metadata": {
            "tags": []
          },
          "execution_count": 21
        }
      ]
    },
    {
      "cell_type": "markdown",
      "metadata": {
        "id": "ubupzQxzP0VP"
      },
      "source": [
        "### **NBC**\r\n",
        "\r\n",
        "After using feature selection to get the best features for our target,\\\r\n",
        "We will use `RFECV` to get our selector."
      ]
    },
    {
      "cell_type": "code",
      "metadata": {
        "colab": {
          "base_uri": "https://localhost:8080/",
          "height": 1000
        },
        "id": "Lb7J8DT1P8yS",
        "outputId": "97c92009-68cf-4635-8b4c-7dd8857acb1c"
      },
      "source": [
        "# divide the data to features and target\r\n",
        "d_train_cp = d_train.copy()\r\n",
        "X,t = setXt(d_train_cp)\r\n",
        "\r\n",
        "# use feature selection on the data\r\n",
        "selector = RFECV(SGDClassifier(random_state=1), cv=RepeatedKFold(n_splits=10, n_repeats=3, random_state=1)).fit(X, t)\r\n",
        "display(X.loc[:, selector.support_])\r\n",
        "\r\n",
        "print('MultinomialNB score:', cross_val_score(MultinomialNB(), X.loc[:, selector.support_], t, cv=15).mean())\r\n",
        "\r\n",
        "accuras.append(['NBC',cross_val_score(MultinomialNB(), X.loc[:, selector.support_], t, cv=15).mean()])\r\n"
      ],
      "execution_count": 22,
      "outputs": [
        {
          "output_type": "stream",
          "text": [
            "t\n"
          ],
          "name": "stdout"
        },
        {
          "output_type": "display_data",
          "data": {
            "text/plain": [
              "0      0\n",
              "1      1\n",
              "2      1\n",
              "3      1\n",
              "4      0\n",
              "      ..\n",
              "886    0\n",
              "887    1\n",
              "888    0\n",
              "889    1\n",
              "890    0\n",
              "Name: Survived, Length: 883, dtype: int64"
            ]
          },
          "metadata": {
            "tags": []
          }
        },
        {
          "output_type": "stream",
          "text": [
            "\n",
            "X\n"
          ],
          "name": "stdout"
        },
        {
          "output_type": "display_data",
          "data": {
            "text/html": [
              "<div>\n",
              "<style scoped>\n",
              "    .dataframe tbody tr th:only-of-type {\n",
              "        vertical-align: middle;\n",
              "    }\n",
              "\n",
              "    .dataframe tbody tr th {\n",
              "        vertical-align: top;\n",
              "    }\n",
              "\n",
              "    .dataframe thead th {\n",
              "        text-align: right;\n",
              "    }\n",
              "</style>\n",
              "<table border=\"1\" class=\"dataframe\">\n",
              "  <thead>\n",
              "    <tr style=\"text-align: right;\">\n",
              "      <th></th>\n",
              "      <th>Age</th>\n",
              "      <th>SibSp</th>\n",
              "      <th>Parch</th>\n",
              "      <th>Fare</th>\n",
              "      <th>isAlone</th>\n",
              "      <th>Pclass_1</th>\n",
              "      <th>Pclass_2</th>\n",
              "      <th>Pclass_3</th>\n",
              "      <th>Embarked_C</th>\n",
              "      <th>Embarked_Q</th>\n",
              "      <th>Embarked_S</th>\n",
              "      <th>Sex_female</th>\n",
              "    </tr>\n",
              "  </thead>\n",
              "  <tbody>\n",
              "    <tr>\n",
              "      <th>0</th>\n",
              "      <td>22.000000</td>\n",
              "      <td>1</td>\n",
              "      <td>0</td>\n",
              "      <td>7.2500</td>\n",
              "      <td>0</td>\n",
              "      <td>0</td>\n",
              "      <td>0</td>\n",
              "      <td>1</td>\n",
              "      <td>0</td>\n",
              "      <td>0</td>\n",
              "      <td>1</td>\n",
              "      <td>0</td>\n",
              "    </tr>\n",
              "    <tr>\n",
              "      <th>1</th>\n",
              "      <td>38.000000</td>\n",
              "      <td>1</td>\n",
              "      <td>0</td>\n",
              "      <td>71.2833</td>\n",
              "      <td>0</td>\n",
              "      <td>1</td>\n",
              "      <td>0</td>\n",
              "      <td>0</td>\n",
              "      <td>1</td>\n",
              "      <td>0</td>\n",
              "      <td>0</td>\n",
              "      <td>1</td>\n",
              "    </tr>\n",
              "    <tr>\n",
              "      <th>2</th>\n",
              "      <td>26.000000</td>\n",
              "      <td>0</td>\n",
              "      <td>0</td>\n",
              "      <td>7.9250</td>\n",
              "      <td>1</td>\n",
              "      <td>0</td>\n",
              "      <td>0</td>\n",
              "      <td>1</td>\n",
              "      <td>0</td>\n",
              "      <td>0</td>\n",
              "      <td>1</td>\n",
              "      <td>1</td>\n",
              "    </tr>\n",
              "    <tr>\n",
              "      <th>3</th>\n",
              "      <td>35.000000</td>\n",
              "      <td>1</td>\n",
              "      <td>0</td>\n",
              "      <td>53.1000</td>\n",
              "      <td>0</td>\n",
              "      <td>1</td>\n",
              "      <td>0</td>\n",
              "      <td>0</td>\n",
              "      <td>0</td>\n",
              "      <td>0</td>\n",
              "      <td>1</td>\n",
              "      <td>1</td>\n",
              "    </tr>\n",
              "    <tr>\n",
              "      <th>4</th>\n",
              "      <td>35.000000</td>\n",
              "      <td>0</td>\n",
              "      <td>0</td>\n",
              "      <td>8.0500</td>\n",
              "      <td>1</td>\n",
              "      <td>0</td>\n",
              "      <td>0</td>\n",
              "      <td>1</td>\n",
              "      <td>0</td>\n",
              "      <td>0</td>\n",
              "      <td>1</td>\n",
              "      <td>0</td>\n",
              "    </tr>\n",
              "    <tr>\n",
              "      <th>...</th>\n",
              "      <td>...</td>\n",
              "      <td>...</td>\n",
              "      <td>...</td>\n",
              "      <td>...</td>\n",
              "      <td>...</td>\n",
              "      <td>...</td>\n",
              "      <td>...</td>\n",
              "      <td>...</td>\n",
              "      <td>...</td>\n",
              "      <td>...</td>\n",
              "      <td>...</td>\n",
              "      <td>...</td>\n",
              "    </tr>\n",
              "    <tr>\n",
              "      <th>886</th>\n",
              "      <td>27.000000</td>\n",
              "      <td>0</td>\n",
              "      <td>0</td>\n",
              "      <td>13.0000</td>\n",
              "      <td>1</td>\n",
              "      <td>0</td>\n",
              "      <td>1</td>\n",
              "      <td>0</td>\n",
              "      <td>0</td>\n",
              "      <td>0</td>\n",
              "      <td>1</td>\n",
              "      <td>0</td>\n",
              "    </tr>\n",
              "    <tr>\n",
              "      <th>887</th>\n",
              "      <td>19.000000</td>\n",
              "      <td>0</td>\n",
              "      <td>0</td>\n",
              "      <td>30.0000</td>\n",
              "      <td>1</td>\n",
              "      <td>1</td>\n",
              "      <td>0</td>\n",
              "      <td>0</td>\n",
              "      <td>0</td>\n",
              "      <td>0</td>\n",
              "      <td>1</td>\n",
              "      <td>1</td>\n",
              "    </tr>\n",
              "    <tr>\n",
              "      <th>888</th>\n",
              "      <td>25.696552</td>\n",
              "      <td>1</td>\n",
              "      <td>2</td>\n",
              "      <td>23.4500</td>\n",
              "      <td>0</td>\n",
              "      <td>0</td>\n",
              "      <td>0</td>\n",
              "      <td>1</td>\n",
              "      <td>0</td>\n",
              "      <td>0</td>\n",
              "      <td>1</td>\n",
              "      <td>1</td>\n",
              "    </tr>\n",
              "    <tr>\n",
              "      <th>889</th>\n",
              "      <td>26.000000</td>\n",
              "      <td>0</td>\n",
              "      <td>0</td>\n",
              "      <td>30.0000</td>\n",
              "      <td>1</td>\n",
              "      <td>1</td>\n",
              "      <td>0</td>\n",
              "      <td>0</td>\n",
              "      <td>1</td>\n",
              "      <td>0</td>\n",
              "      <td>0</td>\n",
              "      <td>0</td>\n",
              "    </tr>\n",
              "    <tr>\n",
              "      <th>890</th>\n",
              "      <td>32.000000</td>\n",
              "      <td>0</td>\n",
              "      <td>0</td>\n",
              "      <td>7.7500</td>\n",
              "      <td>1</td>\n",
              "      <td>0</td>\n",
              "      <td>0</td>\n",
              "      <td>1</td>\n",
              "      <td>0</td>\n",
              "      <td>1</td>\n",
              "      <td>0</td>\n",
              "      <td>0</td>\n",
              "    </tr>\n",
              "  </tbody>\n",
              "</table>\n",
              "<p>883 rows × 12 columns</p>\n",
              "</div>"
            ],
            "text/plain": [
              "           Age  SibSp  Parch  ...  Embarked_Q  Embarked_S  Sex_female\n",
              "0    22.000000      1      0  ...           0           1           0\n",
              "1    38.000000      1      0  ...           0           0           1\n",
              "2    26.000000      0      0  ...           0           1           1\n",
              "3    35.000000      1      0  ...           0           1           1\n",
              "4    35.000000      0      0  ...           0           1           0\n",
              "..         ...    ...    ...  ...         ...         ...         ...\n",
              "886  27.000000      0      0  ...           0           1           0\n",
              "887  19.000000      0      0  ...           0           1           1\n",
              "888  25.696552      1      2  ...           0           1           1\n",
              "889  26.000000      0      0  ...           0           0           0\n",
              "890  32.000000      0      0  ...           1           0           0\n",
              "\n",
              "[883 rows x 12 columns]"
            ]
          },
          "metadata": {
            "tags": []
          }
        },
        {
          "output_type": "stream",
          "text": [
            "\n"
          ],
          "name": "stdout"
        },
        {
          "output_type": "display_data",
          "data": {
            "text/html": [
              "<div>\n",
              "<style scoped>\n",
              "    .dataframe tbody tr th:only-of-type {\n",
              "        vertical-align: middle;\n",
              "    }\n",
              "\n",
              "    .dataframe tbody tr th {\n",
              "        vertical-align: top;\n",
              "    }\n",
              "\n",
              "    .dataframe thead th {\n",
              "        text-align: right;\n",
              "    }\n",
              "</style>\n",
              "<table border=\"1\" class=\"dataframe\">\n",
              "  <thead>\n",
              "    <tr style=\"text-align: right;\">\n",
              "      <th></th>\n",
              "      <th>Pclass_3</th>\n",
              "      <th>Embarked_S</th>\n",
              "      <th>Sex_female</th>\n",
              "    </tr>\n",
              "  </thead>\n",
              "  <tbody>\n",
              "    <tr>\n",
              "      <th>0</th>\n",
              "      <td>1</td>\n",
              "      <td>1</td>\n",
              "      <td>0</td>\n",
              "    </tr>\n",
              "    <tr>\n",
              "      <th>1</th>\n",
              "      <td>0</td>\n",
              "      <td>0</td>\n",
              "      <td>1</td>\n",
              "    </tr>\n",
              "    <tr>\n",
              "      <th>2</th>\n",
              "      <td>1</td>\n",
              "      <td>1</td>\n",
              "      <td>1</td>\n",
              "    </tr>\n",
              "    <tr>\n",
              "      <th>3</th>\n",
              "      <td>0</td>\n",
              "      <td>1</td>\n",
              "      <td>1</td>\n",
              "    </tr>\n",
              "    <tr>\n",
              "      <th>4</th>\n",
              "      <td>1</td>\n",
              "      <td>1</td>\n",
              "      <td>0</td>\n",
              "    </tr>\n",
              "    <tr>\n",
              "      <th>...</th>\n",
              "      <td>...</td>\n",
              "      <td>...</td>\n",
              "      <td>...</td>\n",
              "    </tr>\n",
              "    <tr>\n",
              "      <th>886</th>\n",
              "      <td>0</td>\n",
              "      <td>1</td>\n",
              "      <td>0</td>\n",
              "    </tr>\n",
              "    <tr>\n",
              "      <th>887</th>\n",
              "      <td>0</td>\n",
              "      <td>1</td>\n",
              "      <td>1</td>\n",
              "    </tr>\n",
              "    <tr>\n",
              "      <th>888</th>\n",
              "      <td>1</td>\n",
              "      <td>1</td>\n",
              "      <td>1</td>\n",
              "    </tr>\n",
              "    <tr>\n",
              "      <th>889</th>\n",
              "      <td>0</td>\n",
              "      <td>0</td>\n",
              "      <td>0</td>\n",
              "    </tr>\n",
              "    <tr>\n",
              "      <th>890</th>\n",
              "      <td>1</td>\n",
              "      <td>0</td>\n",
              "      <td>0</td>\n",
              "    </tr>\n",
              "  </tbody>\n",
              "</table>\n",
              "<p>883 rows × 3 columns</p>\n",
              "</div>"
            ],
            "text/plain": [
              "     Pclass_3  Embarked_S  Sex_female\n",
              "0           1           1           0\n",
              "1           0           0           1\n",
              "2           1           1           1\n",
              "3           0           1           1\n",
              "4           1           1           0\n",
              "..        ...         ...         ...\n",
              "886         0           1           0\n",
              "887         0           1           1\n",
              "888         1           1           1\n",
              "889         0           0           0\n",
              "890         1           0           0\n",
              "\n",
              "[883 rows x 3 columns]"
            ]
          },
          "metadata": {
            "tags": []
          }
        },
        {
          "output_type": "stream",
          "text": [
            "MultinomialNB score: 0.7848431716345218\n"
          ],
          "name": "stdout"
        }
      ]
    },
    {
      "cell_type": "markdown",
      "metadata": {
        "id": "Ks-6eVCVc6b3"
      },
      "source": [
        "My score here is 0.7848431716345218 \\\r\n",
        "Let's try another method."
      ]
    },
    {
      "cell_type": "markdown",
      "metadata": {
        "id": "ndxdp7tndKYw"
      },
      "source": [
        "### **PCA**\r\n",
        "\r\n",
        "We will try make our dim. lower and get the best pca's accuracy."
      ]
    },
    {
      "cell_type": "code",
      "metadata": {
        "colab": {
          "base_uri": "https://localhost:8080/"
        },
        "id": "vd7tKt5cfefL",
        "outputId": "af61e99e-7e71-49db-a3bc-70098173a025"
      },
      "source": [
        "# convert data points to 2dim with pca\r\n",
        "d_train_cp = d_train.copy()\r\n",
        "\r\n",
        "pca = PCA(n_components=2).fit(d_train_cp)\r\n",
        "pca_d_train = pd.DataFrame(pca.transform(d_train_cp), columns=['pc1', 'pc2'])\r\n",
        "pca_d_train\r\n",
        "\r\n",
        "kmeans = KMeans(n_clusters=4, random_state=1).fit(d_train_cp)     # Cluster with KMeans & show cluster centers\r\n",
        "kmeans.cluster_centers_"
      ],
      "execution_count": 23,
      "outputs": [
        {
          "output_type": "execute_result",
          "data": {
            "text/plain": [
              "array([[ 6.59259259e-01,  3.53870086e+01,  9.92592593e-01,\n",
              "         4.81481481e-01,  7.66332400e+01,  2.96296296e-01,\n",
              "         8.37037037e-01,  5.18518519e-02,  1.11111111e-01,\n",
              "         3.85185185e-01,  1.48148148e-02,  6.00000000e-01,\n",
              "         5.11111111e-01],\n",
              "       [ 3.22175732e-01,  2.79424738e+01,  4.35146444e-01,\n",
              "         3.38912134e-01,  1.54434149e+01,  6.68061367e-01,\n",
              "         9.76290098e-02,  2.38493724e-01,  6.63877266e-01,\n",
              "         1.45048815e-01,  1.04602510e-01,  7.50348675e-01,\n",
              "         3.12412831e-01],\n",
              "       [ 1.00000000e+00,  3.53333333e+01,  0.00000000e+00,\n",
              "         3.33333333e-01,  5.12329200e+02,  6.66666667e-01,\n",
              "         1.00000000e+00,  2.77555756e-17,  0.00000000e+00,\n",
              "         1.00000000e+00,  0.00000000e+00,  0.00000000e+00,\n",
              "         3.33333333e-01],\n",
              "       [ 6.78571429e-01,  3.17770088e+01,  7.14285714e-01,\n",
              "         1.10714286e+00,  2.04948064e+02,  2.85714286e-01,\n",
              "         1.00000000e+00, -2.77555756e-17,  0.00000000e+00,\n",
              "         3.92857143e-01,  6.93889390e-17,  6.07142857e-01,\n",
              "         7.14285714e-01]])"
            ]
          },
          "metadata": {
            "tags": []
          },
          "execution_count": 23
        }
      ]
    },
    {
      "cell_type": "code",
      "metadata": {
        "id": "2QZ4I3_teGrF"
      },
      "source": [
        "def round_number_to_closest_int(number, min, max):             # Rounds to closest int\r\n",
        "    if number < min:\r\n",
        "        return min\r\n",
        "    elif number > max:\r\n",
        "        return max\r\n",
        "    else:\r\n",
        "        return round(number)\r\n",
        "\r\n",
        "def round_columns_to_closest_int(df, origin_df, columns):      # Rounds numbers in columns\r\n",
        "    for col in columns:\r\n",
        "        min_in_col = origin_df[col].min()\r\n",
        "        max_in_col = origin_df[col].max()\r\n",
        "        df[col] = df[col].apply(lambda s: round_number_to_closest_int(s, min_in_col, max_in_col))\r\n",
        "    return df"
      ],
      "execution_count": 24,
      "outputs": []
    },
    {
      "cell_type": "code",
      "metadata": {
        "colab": {
          "base_uri": "https://localhost:8080/",
          "height": 907
        },
        "id": "S42bf2FMeGlS",
        "outputId": "4f578f6d-68d3-41df-883f-2350c3ad5783"
      },
      "source": [
        "mean_clusters = pd.DataFrame(kmeans.cluster_centers_, columns=d_train_cp.columns)             # Show means of the clusters\r\n",
        "mean_clusters = round_columns_to_closest_int(mean_clusters, d_train_cp, d_train_cp.columns)\r\n",
        "\r\n",
        "mean_clusters_cp = mean_clusters.copy()\r\n",
        "mean_clusters_cp.replace('empty', np.NaN, inplace=True)\r\n",
        "print(\"Mean Clusters: \")\r\n",
        "display(mean_clusters_cp)\r\n",
        "\r\n",
        "pca_mean_clusters = pd.DataFrame(pca.transform(mean_clusters), columns=['pc1', 'pc2'])        # Convert cluster centers to 2dim with pca\r\n",
        "print(\"\\n\\nPCA Mean Clusters:\")\r\n",
        "display(pca_mean_clusters)\r\n",
        "\r\n",
        "fig = px.scatter(pca_mean_clusters, x='pc1', y='pc2', color=pca_mean_clusters.index)          # Presents cluster centers on a graph\r\n",
        "fig.show()"
      ],
      "execution_count": 25,
      "outputs": [
        {
          "output_type": "stream",
          "text": [
            "Mean Clusters: \n"
          ],
          "name": "stdout"
        },
        {
          "output_type": "display_data",
          "data": {
            "text/html": [
              "<div>\n",
              "<style scoped>\n",
              "    .dataframe tbody tr th:only-of-type {\n",
              "        vertical-align: middle;\n",
              "    }\n",
              "\n",
              "    .dataframe tbody tr th {\n",
              "        vertical-align: top;\n",
              "    }\n",
              "\n",
              "    .dataframe thead th {\n",
              "        text-align: right;\n",
              "    }\n",
              "</style>\n",
              "<table border=\"1\" class=\"dataframe\">\n",
              "  <thead>\n",
              "    <tr style=\"text-align: right;\">\n",
              "      <th></th>\n",
              "      <th>Survived</th>\n",
              "      <th>Age</th>\n",
              "      <th>SibSp</th>\n",
              "      <th>Parch</th>\n",
              "      <th>Fare</th>\n",
              "      <th>isAlone</th>\n",
              "      <th>Pclass_1</th>\n",
              "      <th>Pclass_2</th>\n",
              "      <th>Pclass_3</th>\n",
              "      <th>Embarked_C</th>\n",
              "      <th>Embarked_Q</th>\n",
              "      <th>Embarked_S</th>\n",
              "      <th>Sex_female</th>\n",
              "    </tr>\n",
              "  </thead>\n",
              "  <tbody>\n",
              "    <tr>\n",
              "      <th>0</th>\n",
              "      <td>1</td>\n",
              "      <td>35</td>\n",
              "      <td>1</td>\n",
              "      <td>0</td>\n",
              "      <td>77.0000</td>\n",
              "      <td>0</td>\n",
              "      <td>1</td>\n",
              "      <td>0</td>\n",
              "      <td>0</td>\n",
              "      <td>0</td>\n",
              "      <td>0</td>\n",
              "      <td>1</td>\n",
              "      <td>1</td>\n",
              "    </tr>\n",
              "    <tr>\n",
              "      <th>1</th>\n",
              "      <td>0</td>\n",
              "      <td>28</td>\n",
              "      <td>0</td>\n",
              "      <td>0</td>\n",
              "      <td>15.0000</td>\n",
              "      <td>1</td>\n",
              "      <td>0</td>\n",
              "      <td>0</td>\n",
              "      <td>1</td>\n",
              "      <td>0</td>\n",
              "      <td>0</td>\n",
              "      <td>1</td>\n",
              "      <td>0</td>\n",
              "    </tr>\n",
              "    <tr>\n",
              "      <th>2</th>\n",
              "      <td>1</td>\n",
              "      <td>35</td>\n",
              "      <td>0</td>\n",
              "      <td>0</td>\n",
              "      <td>512.3292</td>\n",
              "      <td>1</td>\n",
              "      <td>1</td>\n",
              "      <td>0</td>\n",
              "      <td>0</td>\n",
              "      <td>1</td>\n",
              "      <td>0</td>\n",
              "      <td>0</td>\n",
              "      <td>0</td>\n",
              "    </tr>\n",
              "    <tr>\n",
              "      <th>3</th>\n",
              "      <td>1</td>\n",
              "      <td>32</td>\n",
              "      <td>1</td>\n",
              "      <td>1</td>\n",
              "      <td>205.0000</td>\n",
              "      <td>0</td>\n",
              "      <td>1</td>\n",
              "      <td>0</td>\n",
              "      <td>0</td>\n",
              "      <td>0</td>\n",
              "      <td>0</td>\n",
              "      <td>1</td>\n",
              "      <td>1</td>\n",
              "    </tr>\n",
              "  </tbody>\n",
              "</table>\n",
              "</div>"
            ],
            "text/plain": [
              "   Survived  Age  SibSp  Parch  ...  Embarked_C  Embarked_Q  Embarked_S  Sex_female\n",
              "0         1   35      1      0  ...           0           0           1           1\n",
              "1         0   28      0      0  ...           0           0           1           0\n",
              "2         1   35      0      0  ...           1           0           0           0\n",
              "3         1   32      1      1  ...           0           0           1           1\n",
              "\n",
              "[4 rows x 13 columns]"
            ]
          },
          "metadata": {
            "tags": []
          }
        },
        {
          "output_type": "stream",
          "text": [
            "\n",
            "\n",
            "PCA Mean Clusters:\n"
          ],
          "name": "stdout"
        },
        {
          "output_type": "display_data",
          "data": {
            "text/html": [
              "<div>\n",
              "<style scoped>\n",
              "    .dataframe tbody tr th:only-of-type {\n",
              "        vertical-align: middle;\n",
              "    }\n",
              "\n",
              "    .dataframe tbody tr th {\n",
              "        vertical-align: top;\n",
              "    }\n",
              "\n",
              "    .dataframe thead th {\n",
              "        text-align: right;\n",
              "    }\n",
              "</style>\n",
              "<table border=\"1\" class=\"dataframe\">\n",
              "  <thead>\n",
              "    <tr style=\"text-align: right;\">\n",
              "      <th></th>\n",
              "      <th>pc1</th>\n",
              "      <th>pc2</th>\n",
              "    </tr>\n",
              "  </thead>\n",
              "  <tbody>\n",
              "    <tr>\n",
              "      <th>0</th>\n",
              "      <td>44.689166</td>\n",
              "      <td>4.187466</td>\n",
              "    </tr>\n",
              "    <tr>\n",
              "      <th>1</th>\n",
              "      <td>-17.537213</td>\n",
              "      <td>-0.590596</td>\n",
              "    </tr>\n",
              "    <tr>\n",
              "      <th>2</th>\n",
              "      <td>479.719160</td>\n",
              "      <td>-11.218959</td>\n",
              "    </tr>\n",
              "    <tr>\n",
              "      <th>3</th>\n",
              "      <td>172.499242</td>\n",
              "      <td>-3.361261</td>\n",
              "    </tr>\n",
              "  </tbody>\n",
              "</table>\n",
              "</div>"
            ],
            "text/plain": [
              "          pc1        pc2\n",
              "0   44.689166   4.187466\n",
              "1  -17.537213  -0.590596\n",
              "2  479.719160 -11.218959\n",
              "3  172.499242  -3.361261"
            ]
          },
          "metadata": {
            "tags": []
          }
        },
        {
          "output_type": "display_data",
          "data": {
            "text/html": [
              "<html>\n",
              "<head><meta charset=\"utf-8\" /></head>\n",
              "<body>\n",
              "    <div>            <script src=\"https://cdnjs.cloudflare.com/ajax/libs/mathjax/2.7.5/MathJax.js?config=TeX-AMS-MML_SVG\"></script><script type=\"text/javascript\">if (window.MathJax) {MathJax.Hub.Config({SVG: {font: \"STIX-Web\"}});}</script>                <script type=\"text/javascript\">window.PlotlyConfig = {MathJaxConfig: 'local'};</script>\n",
              "        <script src=\"https://cdn.plot.ly/plotly-latest.min.js\"></script>                <div id=\"2fc7d7bb-dde4-491b-a3e8-eec3b13e4849\" class=\"plotly-graph-div\" style=\"height:525px; width:100%;\"></div>            <script type=\"text/javascript\">                                    window.PLOTLYENV=window.PLOTLYENV || {};                                    if (document.getElementById(\"2fc7d7bb-dde4-491b-a3e8-eec3b13e4849\")) {                    Plotly.newPlot(                        \"2fc7d7bb-dde4-491b-a3e8-eec3b13e4849\",                        [{\"hovertemplate\": \"pc1=%{x}<br>pc2=%{y}<br>index=%{marker.color}<extra></extra>\", \"legendgroup\": \"\", \"marker\": {\"color\": [0, 1, 2, 3], \"coloraxis\": \"coloraxis\", \"symbol\": \"circle\"}, \"mode\": \"markers\", \"name\": \"\", \"orientation\": \"v\", \"showlegend\": false, \"type\": \"scatter\", \"x\": [44.689165528080196, -17.53721293851648, 479.719159647527, 172.4992421290988], \"xaxis\": \"x\", \"y\": [4.187466027215083, -0.5905960484334275, -11.21895933640615, -3.36126087575539], \"yaxis\": \"y\"}],                        {\"coloraxis\": {\"colorbar\": {\"title\": {\"text\": \"index\"}}, \"colorscale\": [[0.0, \"#0d0887\"], [0.1111111111111111, \"#46039f\"], [0.2222222222222222, \"#7201a8\"], [0.3333333333333333, \"#9c179e\"], [0.4444444444444444, \"#bd3786\"], [0.5555555555555556, \"#d8576b\"], [0.6666666666666666, \"#ed7953\"], [0.7777777777777778, \"#fb9f3a\"], [0.8888888888888888, \"#fdca26\"], [1.0, \"#f0f921\"]]}, \"legend\": {\"tracegroupgap\": 0}, \"margin\": {\"t\": 60}, \"template\": {\"data\": {\"bar\": [{\"error_x\": {\"color\": \"#2a3f5f\"}, \"error_y\": {\"color\": \"#2a3f5f\"}, \"marker\": {\"line\": {\"color\": \"#E5ECF6\", \"width\": 0.5}}, \"type\": \"bar\"}], \"barpolar\": [{\"marker\": {\"line\": {\"color\": \"#E5ECF6\", \"width\": 0.5}}, \"type\": \"barpolar\"}], \"carpet\": [{\"aaxis\": {\"endlinecolor\": \"#2a3f5f\", \"gridcolor\": \"white\", \"linecolor\": \"white\", \"minorgridcolor\": \"white\", \"startlinecolor\": \"#2a3f5f\"}, \"baxis\": {\"endlinecolor\": \"#2a3f5f\", \"gridcolor\": \"white\", \"linecolor\": \"white\", \"minorgridcolor\": \"white\", \"startlinecolor\": \"#2a3f5f\"}, \"type\": \"carpet\"}], \"choropleth\": [{\"colorbar\": {\"outlinewidth\": 0, \"ticks\": \"\"}, \"type\": \"choropleth\"}], \"contour\": [{\"colorbar\": {\"outlinewidth\": 0, \"ticks\": \"\"}, \"colorscale\": [[0.0, \"#0d0887\"], [0.1111111111111111, \"#46039f\"], [0.2222222222222222, \"#7201a8\"], [0.3333333333333333, \"#9c179e\"], [0.4444444444444444, \"#bd3786\"], [0.5555555555555556, \"#d8576b\"], [0.6666666666666666, \"#ed7953\"], [0.7777777777777778, \"#fb9f3a\"], [0.8888888888888888, \"#fdca26\"], [1.0, \"#f0f921\"]], \"type\": \"contour\"}], \"contourcarpet\": [{\"colorbar\": {\"outlinewidth\": 0, \"ticks\": \"\"}, \"type\": \"contourcarpet\"}], \"heatmap\": [{\"colorbar\": {\"outlinewidth\": 0, \"ticks\": \"\"}, \"colorscale\": [[0.0, \"#0d0887\"], [0.1111111111111111, \"#46039f\"], [0.2222222222222222, \"#7201a8\"], [0.3333333333333333, \"#9c179e\"], [0.4444444444444444, \"#bd3786\"], [0.5555555555555556, \"#d8576b\"], [0.6666666666666666, \"#ed7953\"], [0.7777777777777778, \"#fb9f3a\"], [0.8888888888888888, \"#fdca26\"], [1.0, \"#f0f921\"]], \"type\": \"heatmap\"}], \"heatmapgl\": [{\"colorbar\": {\"outlinewidth\": 0, \"ticks\": \"\"}, \"colorscale\": [[0.0, \"#0d0887\"], [0.1111111111111111, \"#46039f\"], [0.2222222222222222, \"#7201a8\"], [0.3333333333333333, \"#9c179e\"], [0.4444444444444444, \"#bd3786\"], [0.5555555555555556, \"#d8576b\"], [0.6666666666666666, \"#ed7953\"], [0.7777777777777778, \"#fb9f3a\"], [0.8888888888888888, \"#fdca26\"], [1.0, \"#f0f921\"]], \"type\": \"heatmapgl\"}], \"histogram\": [{\"marker\": {\"colorbar\": {\"outlinewidth\": 0, \"ticks\": \"\"}}, \"type\": \"histogram\"}], \"histogram2d\": [{\"colorbar\": {\"outlinewidth\": 0, \"ticks\": \"\"}, \"colorscale\": [[0.0, \"#0d0887\"], [0.1111111111111111, \"#46039f\"], [0.2222222222222222, \"#7201a8\"], [0.3333333333333333, \"#9c179e\"], [0.4444444444444444, \"#bd3786\"], [0.5555555555555556, \"#d8576b\"], [0.6666666666666666, \"#ed7953\"], [0.7777777777777778, \"#fb9f3a\"], [0.8888888888888888, \"#fdca26\"], [1.0, \"#f0f921\"]], \"type\": \"histogram2d\"}], \"histogram2dcontour\": [{\"colorbar\": {\"outlinewidth\": 0, \"ticks\": \"\"}, \"colorscale\": [[0.0, \"#0d0887\"], [0.1111111111111111, \"#46039f\"], [0.2222222222222222, \"#7201a8\"], [0.3333333333333333, \"#9c179e\"], [0.4444444444444444, \"#bd3786\"], [0.5555555555555556, \"#d8576b\"], [0.6666666666666666, \"#ed7953\"], [0.7777777777777778, \"#fb9f3a\"], [0.8888888888888888, \"#fdca26\"], [1.0, \"#f0f921\"]], \"type\": \"histogram2dcontour\"}], \"mesh3d\": [{\"colorbar\": {\"outlinewidth\": 0, \"ticks\": \"\"}, \"type\": \"mesh3d\"}], \"parcoords\": [{\"line\": {\"colorbar\": {\"outlinewidth\": 0, \"ticks\": \"\"}}, \"type\": \"parcoords\"}], \"pie\": [{\"automargin\": true, \"type\": \"pie\"}], \"scatter\": [{\"marker\": {\"colorbar\": {\"outlinewidth\": 0, \"ticks\": \"\"}}, \"type\": \"scatter\"}], \"scatter3d\": [{\"line\": {\"colorbar\": {\"outlinewidth\": 0, \"ticks\": \"\"}}, \"marker\": {\"colorbar\": {\"outlinewidth\": 0, \"ticks\": \"\"}}, \"type\": \"scatter3d\"}], \"scattercarpet\": [{\"marker\": {\"colorbar\": {\"outlinewidth\": 0, \"ticks\": \"\"}}, \"type\": \"scattercarpet\"}], \"scattergeo\": [{\"marker\": {\"colorbar\": {\"outlinewidth\": 0, \"ticks\": \"\"}}, \"type\": \"scattergeo\"}], \"scattergl\": [{\"marker\": {\"colorbar\": {\"outlinewidth\": 0, \"ticks\": \"\"}}, \"type\": \"scattergl\"}], \"scattermapbox\": [{\"marker\": {\"colorbar\": {\"outlinewidth\": 0, \"ticks\": \"\"}}, \"type\": \"scattermapbox\"}], \"scatterpolar\": [{\"marker\": {\"colorbar\": {\"outlinewidth\": 0, \"ticks\": \"\"}}, \"type\": \"scatterpolar\"}], \"scatterpolargl\": [{\"marker\": {\"colorbar\": {\"outlinewidth\": 0, \"ticks\": \"\"}}, \"type\": \"scatterpolargl\"}], \"scatterternary\": [{\"marker\": {\"colorbar\": {\"outlinewidth\": 0, \"ticks\": \"\"}}, \"type\": \"scatterternary\"}], \"surface\": [{\"colorbar\": {\"outlinewidth\": 0, \"ticks\": \"\"}, \"colorscale\": [[0.0, \"#0d0887\"], [0.1111111111111111, \"#46039f\"], [0.2222222222222222, \"#7201a8\"], [0.3333333333333333, \"#9c179e\"], [0.4444444444444444, \"#bd3786\"], [0.5555555555555556, \"#d8576b\"], [0.6666666666666666, \"#ed7953\"], [0.7777777777777778, \"#fb9f3a\"], [0.8888888888888888, \"#fdca26\"], [1.0, \"#f0f921\"]], \"type\": \"surface\"}], \"table\": [{\"cells\": {\"fill\": {\"color\": \"#EBF0F8\"}, \"line\": {\"color\": \"white\"}}, \"header\": {\"fill\": {\"color\": \"#C8D4E3\"}, \"line\": {\"color\": \"white\"}}, \"type\": \"table\"}]}, \"layout\": {\"annotationdefaults\": {\"arrowcolor\": \"#2a3f5f\", \"arrowhead\": 0, \"arrowwidth\": 1}, \"autotypenumbers\": \"strict\", \"coloraxis\": {\"colorbar\": {\"outlinewidth\": 0, \"ticks\": \"\"}}, \"colorscale\": {\"diverging\": [[0, \"#8e0152\"], [0.1, \"#c51b7d\"], [0.2, \"#de77ae\"], [0.3, \"#f1b6da\"], [0.4, \"#fde0ef\"], [0.5, \"#f7f7f7\"], [0.6, \"#e6f5d0\"], [0.7, \"#b8e186\"], [0.8, \"#7fbc41\"], [0.9, \"#4d9221\"], [1, \"#276419\"]], \"sequential\": [[0.0, \"#0d0887\"], [0.1111111111111111, \"#46039f\"], [0.2222222222222222, \"#7201a8\"], [0.3333333333333333, \"#9c179e\"], [0.4444444444444444, \"#bd3786\"], [0.5555555555555556, \"#d8576b\"], [0.6666666666666666, \"#ed7953\"], [0.7777777777777778, \"#fb9f3a\"], [0.8888888888888888, \"#fdca26\"], [1.0, \"#f0f921\"]], \"sequentialminus\": [[0.0, \"#0d0887\"], [0.1111111111111111, \"#46039f\"], [0.2222222222222222, \"#7201a8\"], [0.3333333333333333, \"#9c179e\"], [0.4444444444444444, \"#bd3786\"], [0.5555555555555556, \"#d8576b\"], [0.6666666666666666, \"#ed7953\"], [0.7777777777777778, \"#fb9f3a\"], [0.8888888888888888, \"#fdca26\"], [1.0, \"#f0f921\"]]}, \"colorway\": [\"#636efa\", \"#EF553B\", \"#00cc96\", \"#ab63fa\", \"#FFA15A\", \"#19d3f3\", \"#FF6692\", \"#B6E880\", \"#FF97FF\", \"#FECB52\"], \"font\": {\"color\": \"#2a3f5f\"}, \"geo\": {\"bgcolor\": \"white\", \"lakecolor\": \"white\", \"landcolor\": \"#E5ECF6\", \"showlakes\": true, \"showland\": true, \"subunitcolor\": \"white\"}, \"hoverlabel\": {\"align\": \"left\"}, \"hovermode\": \"closest\", \"mapbox\": {\"style\": \"light\"}, \"paper_bgcolor\": \"white\", \"plot_bgcolor\": \"#E5ECF6\", \"polar\": {\"angularaxis\": {\"gridcolor\": \"white\", \"linecolor\": \"white\", \"ticks\": \"\"}, \"bgcolor\": \"#E5ECF6\", \"radialaxis\": {\"gridcolor\": \"white\", \"linecolor\": \"white\", \"ticks\": \"\"}}, \"scene\": {\"xaxis\": {\"backgroundcolor\": \"#E5ECF6\", \"gridcolor\": \"white\", \"gridwidth\": 2, \"linecolor\": \"white\", \"showbackground\": true, \"ticks\": \"\", \"zerolinecolor\": \"white\"}, \"yaxis\": {\"backgroundcolor\": \"#E5ECF6\", \"gridcolor\": \"white\", \"gridwidth\": 2, \"linecolor\": \"white\", \"showbackground\": true, \"ticks\": \"\", \"zerolinecolor\": \"white\"}, \"zaxis\": {\"backgroundcolor\": \"#E5ECF6\", \"gridcolor\": \"white\", \"gridwidth\": 2, \"linecolor\": \"white\", \"showbackground\": true, \"ticks\": \"\", \"zerolinecolor\": \"white\"}}, \"shapedefaults\": {\"line\": {\"color\": \"#2a3f5f\"}}, \"ternary\": {\"aaxis\": {\"gridcolor\": \"white\", \"linecolor\": \"white\", \"ticks\": \"\"}, \"baxis\": {\"gridcolor\": \"white\", \"linecolor\": \"white\", \"ticks\": \"\"}, \"bgcolor\": \"#E5ECF6\", \"caxis\": {\"gridcolor\": \"white\", \"linecolor\": \"white\", \"ticks\": \"\"}}, \"title\": {\"x\": 0.05}, \"xaxis\": {\"automargin\": true, \"gridcolor\": \"white\", \"linecolor\": \"white\", \"ticks\": \"\", \"title\": {\"standoff\": 15}, \"zerolinecolor\": \"white\", \"zerolinewidth\": 2}, \"yaxis\": {\"automargin\": true, \"gridcolor\": \"white\", \"linecolor\": \"white\", \"ticks\": \"\", \"title\": {\"standoff\": 15}, \"zerolinecolor\": \"white\", \"zerolinewidth\": 2}}}, \"xaxis\": {\"anchor\": \"y\", \"domain\": [0.0, 1.0], \"title\": {\"text\": \"pc1\"}}, \"yaxis\": {\"anchor\": \"x\", \"domain\": [0.0, 1.0], \"title\": {\"text\": \"pc2\"}}},                        {\"responsive\": true}                    ).then(function(){\n",
              "                            \n",
              "var gd = document.getElementById('2fc7d7bb-dde4-491b-a3e8-eec3b13e4849');\n",
              "var x = new MutationObserver(function (mutations, observer) {{\n",
              "        var display = window.getComputedStyle(gd).display;\n",
              "        if (!display || display === 'none') {{\n",
              "            console.log([gd, 'removed!']);\n",
              "            Plotly.purge(gd);\n",
              "            observer.disconnect();\n",
              "        }}\n",
              "}});\n",
              "\n",
              "// Listen for the removal of the full notebook cells\n",
              "var notebookContainer = gd.closest('#notebook-container');\n",
              "if (notebookContainer) {{\n",
              "    x.observe(notebookContainer, {childList: true});\n",
              "}}\n",
              "\n",
              "// Listen for the clearing of the current output cell\n",
              "var outputEl = gd.closest('.output');\n",
              "if (outputEl) {{\n",
              "    x.observe(outputEl, {childList: true});\n",
              "}}\n",
              "\n",
              "                        })                };                            </script>        </div>\n",
              "</body>\n",
              "</html>"
            ]
          },
          "metadata": {
            "tags": []
          }
        }
      ]
    },
    {
      "cell_type": "markdown",
      "metadata": {
        "id": "pCDJAeds8uxm"
      },
      "source": [
        "Here we could see the clusters centers on a graph of two dimensions with the help of PCA for dimensionality reduction.\r\n",
        "\r\n",
        "---\r\n"
      ]
    },
    {
      "cell_type": "code",
      "metadata": {
        "colab": {
          "base_uri": "https://localhost:8080/",
          "height": 1000
        },
        "id": "p4u52_F9du_4",
        "outputId": "5d54763a-7af3-42f7-bc1e-3ad13423cc5b"
      },
      "source": [
        "pca_mean_clusters_cp = pca_mean_clusters.copy()                       \r\n",
        "pca_mean_clusters_cp['cluster'] = kmeans.predict(mean_clusters)       # Add Cluster column to the df\r\n",
        "display(pca_mean_clusters_cp)\r\n",
        "\r\n",
        "pca_d_train_cp = pca_d_train.copy()\r\n",
        "pca_d_train_cp['cluster'] = kmeans.predict(d_train_cp)                # Add Cluster column to the df\r\n",
        "display(pca_d_train_cp)\r\n",
        "\r\n",
        "\r\n",
        "fig = go.Figure()                                                     # Presents data points and cluster centers together (each color means a cluster)\r\n",
        "fig.add_trace(go.Scatter(x=pca_mean_clusters_cp.pc1, y=pca_mean_clusters_cp.pc2, mode='markers', marker=dict(size=20, symbol='cross', color=pca_mean_clusters_cp.cluster)))\r\n",
        "fig.add_trace(go.Scatter(x=pca_d_train_cp.pc1, y=pca_d_train_cp.pc2, mode='markers' ,marker=dict(color=pca_d_train_cp.cluster)))\r\n",
        "fig.show()"
      ],
      "execution_count": 26,
      "outputs": [
        {
          "output_type": "display_data",
          "data": {
            "text/html": [
              "<div>\n",
              "<style scoped>\n",
              "    .dataframe tbody tr th:only-of-type {\n",
              "        vertical-align: middle;\n",
              "    }\n",
              "\n",
              "    .dataframe tbody tr th {\n",
              "        vertical-align: top;\n",
              "    }\n",
              "\n",
              "    .dataframe thead th {\n",
              "        text-align: right;\n",
              "    }\n",
              "</style>\n",
              "<table border=\"1\" class=\"dataframe\">\n",
              "  <thead>\n",
              "    <tr style=\"text-align: right;\">\n",
              "      <th></th>\n",
              "      <th>pc1</th>\n",
              "      <th>pc2</th>\n",
              "      <th>cluster</th>\n",
              "    </tr>\n",
              "  </thead>\n",
              "  <tbody>\n",
              "    <tr>\n",
              "      <th>0</th>\n",
              "      <td>44.689166</td>\n",
              "      <td>4.187466</td>\n",
              "      <td>0</td>\n",
              "    </tr>\n",
              "    <tr>\n",
              "      <th>1</th>\n",
              "      <td>-17.537213</td>\n",
              "      <td>-0.590596</td>\n",
              "      <td>1</td>\n",
              "    </tr>\n",
              "    <tr>\n",
              "      <th>2</th>\n",
              "      <td>479.719160</td>\n",
              "      <td>-11.218959</td>\n",
              "      <td>2</td>\n",
              "    </tr>\n",
              "    <tr>\n",
              "      <th>3</th>\n",
              "      <td>172.499242</td>\n",
              "      <td>-3.361261</td>\n",
              "      <td>3</td>\n",
              "    </tr>\n",
              "  </tbody>\n",
              "</table>\n",
              "</div>"
            ],
            "text/plain": [
              "          pc1        pc2  cluster\n",
              "0   44.689166   4.187466        0\n",
              "1  -17.537213  -0.590596        1\n",
              "2  479.719160 -11.218959        2\n",
              "3  172.499242  -3.361261        3"
            ]
          },
          "metadata": {
            "tags": []
          }
        },
        {
          "output_type": "display_data",
          "data": {
            "text/html": [
              "<div>\n",
              "<style scoped>\n",
              "    .dataframe tbody tr th:only-of-type {\n",
              "        vertical-align: middle;\n",
              "    }\n",
              "\n",
              "    .dataframe tbody tr th {\n",
              "        vertical-align: top;\n",
              "    }\n",
              "\n",
              "    .dataframe thead th {\n",
              "        text-align: right;\n",
              "    }\n",
              "</style>\n",
              "<table border=\"1\" class=\"dataframe\">\n",
              "  <thead>\n",
              "    <tr style=\"text-align: right;\">\n",
              "      <th></th>\n",
              "      <th>pc1</th>\n",
              "      <th>pc2</th>\n",
              "      <th>cluster</th>\n",
              "    </tr>\n",
              "  </thead>\n",
              "  <tbody>\n",
              "    <tr>\n",
              "      <th>0</th>\n",
              "      <td>-25.489122</td>\n",
              "      <td>-6.338966</td>\n",
              "      <td>1</td>\n",
              "    </tr>\n",
              "    <tr>\n",
              "      <th>1</th>\n",
              "      <td>39.086571</td>\n",
              "      <td>7.385518</td>\n",
              "      <td>0</td>\n",
              "    </tr>\n",
              "    <tr>\n",
              "      <th>2</th>\n",
              "      <td>-24.674308</td>\n",
              "      <td>-2.344110</td>\n",
              "      <td>1</td>\n",
              "    </tr>\n",
              "    <tr>\n",
              "      <th>3</th>\n",
              "      <td>20.805364</td>\n",
              "      <td>5.035059</td>\n",
              "      <td>0</td>\n",
              "    </tr>\n",
              "    <tr>\n",
              "      <th>4</th>\n",
              "      <td>-24.233742</td>\n",
              "      <td>6.648118</td>\n",
              "      <td>1</td>\n",
              "    </tr>\n",
              "    <tr>\n",
              "      <th>...</th>\n",
              "      <td>...</td>\n",
              "      <td>...</td>\n",
              "      <td>...</td>\n",
              "    </tr>\n",
              "    <tr>\n",
              "      <th>878</th>\n",
              "      <td>-19.568050</td>\n",
              "      <td>-1.506177</td>\n",
              "      <td>1</td>\n",
              "    </tr>\n",
              "    <tr>\n",
              "      <th>879</th>\n",
              "      <td>-2.853636</td>\n",
              "      <td>-10.098111</td>\n",
              "      <td>1</td>\n",
              "    </tr>\n",
              "    <tr>\n",
              "      <th>880</th>\n",
              "      <td>-9.160141</td>\n",
              "      <td>-3.249956</td>\n",
              "      <td>1</td>\n",
              "    </tr>\n",
              "    <tr>\n",
              "      <th>881</th>\n",
              "      <td>-2.602965</td>\n",
              "      <td>-3.103596</td>\n",
              "      <td>1</td>\n",
              "    </tr>\n",
              "    <tr>\n",
              "      <th>882</th>\n",
              "      <td>-24.639357</td>\n",
              "      <td>3.660205</td>\n",
              "      <td>1</td>\n",
              "    </tr>\n",
              "  </tbody>\n",
              "</table>\n",
              "<p>883 rows × 3 columns</p>\n",
              "</div>"
            ],
            "text/plain": [
              "           pc1        pc2  cluster\n",
              "0   -25.489122  -6.338966        1\n",
              "1    39.086571   7.385518        0\n",
              "2   -24.674308  -2.344110        1\n",
              "3    20.805364   5.035059        0\n",
              "4   -24.233742   6.648118        1\n",
              "..         ...        ...      ...\n",
              "878 -19.568050  -1.506177        1\n",
              "879  -2.853636 -10.098111        1\n",
              "880  -9.160141  -3.249956        1\n",
              "881  -2.602965  -3.103596        1\n",
              "882 -24.639357   3.660205        1\n",
              "\n",
              "[883 rows x 3 columns]"
            ]
          },
          "metadata": {
            "tags": []
          }
        },
        {
          "output_type": "display_data",
          "data": {
            "text/html": [
              "<html>\n",
              "<head><meta charset=\"utf-8\" /></head>\n",
              "<body>\n",
              "    <div>            <script src=\"https://cdnjs.cloudflare.com/ajax/libs/mathjax/2.7.5/MathJax.js?config=TeX-AMS-MML_SVG\"></script><script type=\"text/javascript\">if (window.MathJax) {MathJax.Hub.Config({SVG: {font: \"STIX-Web\"}});}</script>                <script type=\"text/javascript\">window.PlotlyConfig = {MathJaxConfig: 'local'};</script>\n",
              "        <script src=\"https://cdn.plot.ly/plotly-latest.min.js\"></script>                <div id=\"060c638a-819f-4a2b-91df-e7d1a1268a2a\" class=\"plotly-graph-div\" style=\"height:525px; width:100%;\"></div>            <script type=\"text/javascript\">                                    window.PLOTLYENV=window.PLOTLYENV || {};                                    if (document.getElementById(\"060c638a-819f-4a2b-91df-e7d1a1268a2a\")) {                    Plotly.newPlot(                        \"060c638a-819f-4a2b-91df-e7d1a1268a2a\",                        [{\"marker\": {\"color\": [0, 1, 2, 3], \"size\": 20, \"symbol\": \"cross\"}, \"mode\": \"markers\", \"type\": \"scatter\", \"x\": [44.689165528080196, -17.53721293851648, 479.719159647527, 172.4992421290988], \"y\": [4.187466027215083, -0.5905960484334275, -11.21895933640615, -3.36126087575539]}, {\"marker\": {\"color\": [1, 0, 1, 0, 1, 1, 0, 1, 1, 1, 1, 1, 1, 1, 1, 1, 1, 1, 1, 1, 1, 1, 1, 1, 1, 1, 1, 3, 1, 1, 1, 3, 1, 1, 0, 0, 1, 1, 1, 1, 1, 1, 1, 1, 1, 1, 1, 1, 1, 1, 1, 1, 0, 1, 0, 1, 1, 1, 1, 1, 1, 0, 0, 1, 1, 1, 1, 1, 1, 1, 1, 1, 0, 1, 0, 1, 1, 1, 1, 1, 1, 1, 1, 0, 1, 1, 1, 1, 3, 1, 1, 1, 0, 1, 1, 1, 1, 0, 1, 1, 1, 1, 0, 1, 1, 1, 1, 1, 1, 1, 0, 1, 1, 1, 1, 1, 1, 1, 3, 1, 0, 1, 1, 1, 0, 1, 1, 1, 1, 1, 1, 1, 1, 1, 1, 1, 1, 0, 1, 0, 1, 1, 1, 1, 1, 1, 1, 1, 1, 1, 1, 0, 1, 1, 1, 0, 1, 1, 1, 0, 1, 1, 1, 1, 1, 1, 0, 1, 1, 0, 1, 1, 1, 1, 1, 1, 1, 1, 1, 1, 0, 1, 1, 1, 1, 0, 1, 1, 1, 1, 1, 1, 1, 1, 1, 3, 1, 1, 1, 1, 1, 0, 1, 1, 1, 1, 1, 1, 1, 1, 1, 1, 1, 1, 1, 0, 1, 1, 0, 1, 1, 1, 1, 1, 0, 1, 1, 1, 1, 1, 0, 1, 1, 1, 1, 1, 1, 1, 1, 1, 1, 1, 1, 1, 1, 0, 1, 1, 0, 1, 1, 1, 1, 1, 1, 1, 0, 0, 2, 1, 1, 1, 0, 1, 1, 1, 1, 1, 3, 0, 1, 1, 1, 1, 1, 0, 1, 1, 1, 1, 1, 1, 1, 1, 1, 1, 1, 1, 1, 0, 0, 1, 1, 1, 1, 1, 3, 1, 3, 1, 1, 1, 1, 1, 3, 0, 0, 1, 0, 0, 3, 1, 1, 1, 1, 1, 1, 3, 0, 1, 1, 1, 1, 0, 0, 1, 1, 1, 0, 1, 1, 3, 1, 0, 1, 0, 0, 1, 1, 1, 3, 1, 1, 1, 1, 1, 1, 1, 1, 1, 1, 1, 1, 1, 1, 0, 1, 1, 1, 1, 1, 1, 1, 1, 1, 0, 1, 1, 0, 0, 1, 1, 0, 1, 0, 1, 3, 1, 1, 3, 1, 1, 0, 1, 0, 1, 1, 1, 1, 0, 1, 1, 0, 1, 1, 1, 1, 1, 1, 1, 1, 1, 1, 1, 1, 1, 1, 1, 1, 1, 1, 0, 1, 1, 1, 1, 1, 1, 1, 1, 1, 1, 1, 1, 1, 1, 1, 1, 1, 1, 1, 1, 0, 0, 1, 1, 3, 1, 1, 1, 1, 1, 1, 0, 1, 1, 1, 1, 1, 1, 1, 0, 1, 1, 1, 0, 1, 1, 1, 1, 1, 1, 1, 1, 1, 1, 1, 1, 1, 1, 1, 1, 0, 1, 1, 1, 1, 1, 1, 1, 0, 1, 0, 1, 1, 1, 1, 1, 1, 0, 1, 1, 0, 1, 3, 1, 1, 1, 1, 1, 0, 0, 1, 1, 1, 0, 1, 1, 1, 0, 1, 1, 1, 1, 1, 1, 0, 1, 1, 0, 1, 1, 1, 3, 1, 1, 1, 1, 1, 1, 1, 1, 1, 0, 1, 0, 0, 1, 1, 1, 0, 1, 1, 1, 1, 1, 0, 1, 1, 1, 1, 1, 1, 3, 0, 1, 1, 1, 1, 1, 1, 1, 1, 1, 1, 1, 1, 0, 1, 1, 1, 1, 1, 0, 1, 1, 1, 0, 1, 1, 1, 0, 1, 0, 1, 1, 1, 0, 1, 1, 1, 1, 1, 1, 1, 0, 1, 1, 1, 1, 1, 1, 1, 1, 1, 3, 1, 1, 1, 1, 1, 0, 1, 1, 1, 1, 1, 0, 1, 1, 1, 1, 1, 0, 1, 1, 1, 1, 1, 1, 1, 1, 1, 1, 1, 1, 0, 1, 0, 1, 0, 1, 1, 1, 1, 1, 1, 1, 1, 1, 0, 1, 1, 1, 0, 0, 1, 1, 1, 1, 0, 1, 1, 1, 0, 1, 0, 1, 1, 1, 1, 1, 0, 2, 1, 0, 1, 1, 1, 1, 1, 1, 1, 3, 0, 1, 0, 1, 1, 1, 1, 1, 0, 1, 3, 1, 1, 1, 1, 1, 1, 1, 3, 1, 0, 1, 0, 1, 1, 1, 3, 1, 1, 1, 1, 1, 1, 1, 0, 1, 1, 1, 1, 1, 3, 1, 1, 1, 1, 1, 2, 1, 1, 1, 0, 3, 1, 1, 0, 1, 1, 0, 1, 1, 1, 1, 1, 0, 1, 1, 1, 1, 0, 1, 1, 1, 0, 1, 0, 1, 1, 1, 1, 1, 1, 1, 1, 1, 1, 1, 1, 1, 3, 1, 0, 1, 1, 1, 1, 1, 1, 1, 0, 1, 1, 0, 1, 1, 1, 1, 1, 1, 1, 1, 1, 0, 1, 1, 1, 1, 1, 1, 0, 1, 1, 1, 1, 1, 1, 1, 1, 1, 0, 1, 1, 1, 1, 1, 0, 1, 1, 0, 1, 1, 1, 1, 1, 0, 1, 1, 0, 1, 1, 1, 1, 1, 1, 1, 0, 1, 1, 0, 1, 1, 1, 1, 1, 1, 3, 1, 1, 1, 1, 1, 1, 0, 1, 1, 1, 0, 1, 1, 1, 0, 1, 1, 1, 1, 1, 1, 1, 0, 1, 1, 1, 1, 1, 1, 1, 1, 1, 1, 1]}, \"mode\": \"markers\", \"type\": \"scatter\", \"x\": [-25.48912245687581, 39.086571345500985, -24.67430790717973, 20.805364340657494, -24.233741777859372, -24.146981357216436, 20.233665139122866, -12.373914877391003, -21.423136673524922, -2.9569394106236446, -16.677569924791925, -4.91534552072744, -24.766800264914895, -0.8590558128436947, -25.173981776102032, -15.57085665818152, -4.325138128910143, -19.445219980308014, -14.424864266057996, -25.557070480782453, -6.292563294526979, -19.31681439167614, -24.96029476319689, 2.960762247255969, -12.15898230719743, -0.777985053865005, -25.561254721872306, 230.00408540250172, -24.72150461686451, -24.718456069173747, -4.385573998727199, 114.28523475444145, -24.850617048388155, -20.68040358188078, 49.607135508915185, 19.95068627890353, -25.55458250280708, -24.731263032444527, -14.883408779552724, -21.776622062318516, -22.624251145489048, -11.565701982563949, -24.890909373063806, 8.159637821744816, -24.968044167127694, -24.56436058201473, -17.103992919079904, -24.850617048388155, -11.107350779225728, -15.086712733255819, 6.407095714120854, -24.98109358879832, 44.91968981006355, -6.495541324828848, 30.744102400292938, 3.321537547488943, -22.2753948019575, -25.281357985496914, -5.592734119066622, 13.76373914871659, -25.512349996554306, 47.79130226434696, 51.510965021257284, -5.479022778704441, -4.444490989401757, -17.53391138182604, -21.991096942194552, -24.6941109003728, -24.97087645954787, -23.93199137497534, -21.888669485873297, 13.943134486439797, 40.67772115810872, -18.1440368646177, 24.075086258466524, -24.988842992729126, -24.718456069173747, -24.56436058201473, -4.496920280690515, -19.98524285165921, -23.74636968582974, -22.99547288011109, -24.813142464935083, 14.55042499635352, -22.417543731838972, -16.49297850280128, 1.414599848550375, -24.56436058201473, 230.15041857347305, -24.624651335033423, -24.44696517268158, -24.962467556651188, 29.261616626969232, -12.02411798276262, -24.180305978902673, -24.56436058201473, 3.6447809255477988, 30.63217898332603, -9.315817902055343, -6.322039403566857, -24.634888716939603, -24.718456069173747, 44.47476910887924, -23.70102575420426, -24.278081959044982, -24.63659789231097, -25.12680768152075, -24.83669912828542, -24.281225567607287, -8.455671428148786, 20.12231131782488, -18.551005862655565, -24.69572579997416, -22.985233016001104, -18.46412668378593, -24.856178310621424, -23.27117336751722, -11.496336692994578, 214.70292048810015, -2.1722360488775334, 40.68722179015927, -24.56436058201473, -2.303684851011682, -19.368411065010324, 45.64749778040139, -21.84940570263062, -24.854801289478004, -25.529860646659543, -10.42452287818924, -24.952640845477003, -24.455292243918496, -25.76612249033007, -17.353896335485214, -6.495541324828848, -19.639124549627937, -17.662166119773676, -6.558308319205092, 20.87225456450838, -23.743039954404484, 46.490138988339815, -17.534673335505964, -24.991338226508862, -16.81969261227471, -26.10066306515636, -21.38686851504328, 3.8910594778780103, -24.76959228160437, 1.1675444599619698, -6.22974894043649, -19.034991597631677, -19.189834562470573, 33.83423036164758, -23.50522851221682, -17.58315013995953, -25.30136072325842, 29.64698781045868, -25.22045697722687, -24.41142794021121, -23.95227571894793, 36.93098085536399, -15.863297710936214, -16.35374570159083, -24.82839048208186, -24.261327099259205, 6.193872319298644, -12.679181488931215, 22.816095178553915, -4.02027919871359, -6.249447826579848, 23.930462262866566, 2.132371402229286, -4.254063663969406, -22.34710865442169, -24.856178310621424, -0.8439946585911612, -25.024037452874182, -7.1430815926683815, -3.037464647707922, -19.461438387276097, -32.24274845998116, 36.93269003073535, -17.666260987336685, -1.812760846597114, 5.50577887493407, -11.356175137788929, 17.809234750290504, -17.099808677990055, -5.379038718213593, -16.6008071421781, -24.352300032548023, -19.38617968124551, -19.85234794445015, -24.987759424601215, -7.417775099142536, -4.239240827755876, 114.97776080615215, -24.854801289478004, -23.624956158227057, -24.850617048388155, -19.672952606726938, -23.033485178299944, 36.930980855363984, -25.822425613070006, -24.681422186847392, -24.835399664137146, -22.987831345098364, -16.539578993601616, -13.817259922938124, -25.20376829606244, -1.1061214914272712, -25.623973560448597, -11.284990180513008, -25.4951835803063, -19.461438387276097, -24.848740166047516, 80.80104981117485, -24.638770674709363, -5.038419318388735, 43.87229226101766, -21.959743950814037, -24.906474129077885, -19.5680500846872, -23.66514605833348, -24.718456069173747, 57.78525698051721, -23.39660690693443, -22.348178442269603, -25.548489429011852, -19.887885176920516, -7.141372417297015, 51.15977693764345, -24.721778784670757, -17.93119753292783, -1.9507255353887372, -22.172967345636245, -25.06231251935095, -5.966667078863175, -6.988545268398341, -22.350653507988085, -20.079335303290996, -18.329184191099063, -17.099808677990055, -21.995281183284405, -25.620098858483196, -25.2322492901381, 58.000238143509634, -24.862218539180862, -18.161985697500757, 20.332743004882516, -5.611294754159492, -25.36381836234687, -22.024886559778363, -4.777380831935817, -16.36082290218856, -11.855044135668793, -17.238730070523644, 47.004001958281, 53.99897938374203, 479.72086882289835, -5.749255506283921, -24.854801289478004, -2.023509175700839, 47.94076158162407, -32.09120503105682, -24.853092114106637, -21.746520555991825, 6.726930806354168, -24.855391525403256, 121.91720147237372, 103.27666424408531, -1.1778875325978326, -32.63118295143673, -12.56468506371588, -2.5082620874989052, -24.850617048388155, 46.641858525865864, -24.176456945408876, -4.147451966558301, -12.028321817986642, -23.466628146104245, -24.678169696888244, -23.459931967944364, -24.799862431666778, -6.174498659673711, -23.689111893692683, -22.959935647640723, -24.849821287133178, -19.032516531913192, -24.99054490124023, 46.21201542943446, 58.19384677066027, -19.369510784590155, -23.823484379329912, -24.778746822192442, -4.444490989401757, -25.459044147848754, 118.0203205861154, -1.6750735795869363, 215.63107277341956, -24.850617048388155, -9.353331097773749, -32.84688141197742, -19.626267629087504, -24.56436058201473, 117.98270626539451, 78.66582782277766, 75.9314938203983, -8.459213298238051, 24.451841206475585, 50.44994039429055, 229.34833599765724, -6.601184642671184, -24.63659789231097, -5.748930309692495, -24.745059920739127, -6.673227487180689, -17.609222582572084, 132.35761016404075, 102.33494258313252, -25.4951835803063, -24.672135124781338, -20.106020267437476, -3.7428918305886456, 36.930980855363984, 103.3158209625963, -25.121045267194802, -19.244030751364036, -11.895657135878942, 25.009673348674045, -9.351621922402384, -3.4150668281373, 121.2022725818765, -14.956192419864825, 101.41278427079028, -24.718456069173747, 34.0788067478503, 102.36097524688515, -23.875894387437206, 3.562420133533745, -7.453312331612904, 230.1859558059434, -19.532512852216833, -19.639124549627937, -19.248214992453885, -19.670477541008456, -19.101881821482564, -16.509571302902224, -17.5142741129658, -23.372896287499998, -23.48598495264096, 2.8194013690628705, -25.75160605512914, -14.839661281334607, -25.561254721872306, -23.033485178299944, 22.242096483498734, -19.175431352141782, -24.72150461686451, -24.72150461686451, -4.199674536436798, -4.776472394383632, -17.467116335642142, -25.233064003274546, -17.103992919079904, -25.210885720543352, 43.83240193140347, -25.552873327435712, -24.850617048388155, 36.601033197819426, 22.79201518187779, -26.38496020916541, -24.802337497385263, 102.8141154669213, -12.33666846954927, 49.97884954897489, -25.490999339216447, 178.81658961356354, -28.797944263988036, -25.077151109374437, 195.35846249860217, -17.738208688110568, -24.465268753447372, 19.706109892700802, -24.718456069173747, 40.57110946069761, 13.408366824012909, -19.244030751364036, -24.87558719176664, -20.91494090767558, 87.70073616860624, -24.982815676426583, -24.597917051278298, 80.5167519514119, -15.966821338717374, -24.949753509674697, -24.56984882410577, -5.9016537373529285, -22.208504578106613, -19.878091390022295, -24.21403306043631, -24.553576870092684, -22.949695783530736, -16.681727923483088, -24.15300622647673, -11.318650530642737, -23.964942725958032, -14.66286123340256, -25.0060766444337, -7.141372417297015, -24.718456069173747, -25.745896917880717, 57.61007331880537, -24.03634689808447, -24.56265140664336, 0.18118274800888778, -19.874192430445728, -19.461438387276097, -9.021867079677955, -24.890909373063806, -25.046955055964883, -24.62184656212924, -18.125592529676478, -12.67411359452582, -25.36381836234687, -6.5310785572992165, -6.856974772963021, -24.854801289478004, -24.33787840955199, -5.983171670209853, -16.509571302902224, -6.033557302714061, -25.797785020835036, 24.132340817785657, 86.9206262296295, 1.5939912496063888, -13.904543776958896, 231.60326873700268, -21.92420671834367, -5.673671603661909, -23.317783038062892, -24.857866591121738, -19.52832861112698, -24.499427877207797, 48.44425669581641, -13.55972757288619, -5.769948275387644, -14.078407648381228, -1.1829553005310722, -4.495264153575057, -12.649676294979221, -4.711766114448759, 57.284593174204986, -24.56436058201473, -24.594966108081486, -4.670769134524712, 19.68071775964661, -21.24481506031682, -24.854801289478004, -5.272427020802488, -24.26927901032974, 6.631461274720007, -18.82176820280947, -24.56436058201473, -25.12645230586344, -4.990604226758027, -24.879784345113382, -14.229440886380294, -25.36381836234687, -23.51504521738147, -4.597691609896311, -18.911231881577, -22.90772814667317, 19.807879201120855, -11.318650530642737, -25.44442342801301, -25.22456712166387, -21.161593217997183, 13.692664683775854, -23.70068329080385, -21.698057106023377, 58.40536099011111, -7.141372417297015, 57.680354458477474, -1.7680452657188557, -24.41142794021121, -17.301050718143593, -12.649676294979221, -25.530720812776668, -1.0788186688384513, 18.48471597296315, -24.731263032444527, -18.332857268776717, 46.63383389399122, -17.51913889283774, 118.83767693293387, -24.87867904473396, -24.261327099259205, -25.02855719942908, -24.97381023893679, -22.624500215971437, 53.50145812915687, 75.9628468117788, -6.3499450129929285, -5.62239636997688, -10.017313192267288, 23.861862863644312, -24.74349344931902, -24.56436058201473, -5.96119589461839, 27.779921263750726, -25.178475712358512, 2.155297162640355, -21.813410779842712, -8.465916792669125, -6.24678069753627, -24.494448962429495, 60.99423496164826, -24.849821287133178, -25.561254721872306, 26.004715857844356, -25.557057568525565, -24.337290341628268, -21.24481506031682, 189.472007174329, -24.216508126154796, -21.196238275353636, -7.4516031562415375, -25.557057568525565, -25.680531590188405, -10.424518941522047, -23.79763390177305, -7.024082500868709, -5.3815137839320775, 73.91409421118004, -18.118732228086845, 16.752887175043153, 38.73221679001396, -1.923475421584956, -1.8524009566442194, -6.390638802789109, 74.62671574292804, -5.255933590973427, -6.85091364953253, -18.850481064298723, -11.828766912028055, 3.5026249864224437, 77.9151877966473, -6.576861154289925, -24.775654969225123, -25.514072084182562, -24.966355170873484, -4.777380831935817, 7.780117805708042, 195.22428680189702, 47.48296180059914, -14.844296373236778, -24.854801289478004, -24.21015110266655, -19.032851739509244, -24.56436058201473, -24.56265140664336, -8.526062873798551, -24.956432984544282, -11.412688615318116, -25.557057568525565, -24.533545701288286, -20.82007744604377, 19.828772570791266, -5.861263672076875, -24.850617048388155, -24.908949194796367, -18.35670914345738, -19.315105216304772, 23.745615501701458, -18.32508696997486, -24.46279368772889, -2.6369579077623655, 78.69871214969959, -5.617355877589983, 7.868069819886248, -24.074762911567234, 46.7366838553886, -16.858660984449486, 47.7814589917093, -24.69572579997416, -24.56436058201473, -25.15811483636841, 46.56275942905049, -24.606752768547093, -24.8435836087217, -6.215427706155753, -8.099612147486939, 0.542933703366858, -31.78076443786638, -25.561254721872306, 25.131400571471705, -5.6670223078582005, -24.718456069173747, 10.214385837135167, -23.913906685626056, -5.730791556876643, -16.697226731344696, -24.56552342737023, -2.071386112290277, 8.834845238681813, 121.27146622780941, -0.8573466374723288, -25.563682807429903, -17.099808677990055, -24.854801289478004, -24.233741777859372, 32.30722619458568, -17.914078310225634, -16.501262656698664, 5.6140997477165415, -22.10189288069551, -18.108499632147332, 20.506985721947103, -17.06471438321213, -24.92693032418082, -16.686719117852363, 0.9539706340197086, -19.150699231827385, 45.1432336386799, -24.707672357251706, -24.87148997064244, -0.6875739040683485, -24.66027113040191, -1.890080463897805, -5.299627440981234, -19.52832861112698, -24.465268753447372, -6.175377099336915, 7.6170865401535135, -16.513755543992076, -24.962467556651188, 36.601033197819426, -5.548388068273812, 23.85107915172227, -14.229440886380294, 44.88244340222182, -24.956432984544282, 3.9594242424669117, -25.064021694722317, -25.155665439121528, -24.718456069173747, -9.884413621581235, -24.348222823442892, -24.771470728135274, -26.134491122255362, 40.793833487570375, -24.718456069173747, -16.88339582656968, -19.710199014568673, 81.75981822873938, 101.8355584181541, -24.87687696543442, -6.2722869609534495, -24.752028922714096, -24.88317935394282, 41.07813134733332, -19.639124549627937, -24.839174194003903, -23.949443918096424, 19.818124565641195, 6.890000608029738, 19.559776721729477, -20.538254651999306, -19.423426089087243, -25.112688341844805, -24.60688271879824, -23.04320485748941, 14.902655509808513, 479.76076194009505, -24.465854751758258, 44.1301003969136, -23.592596650052062, 13.870350846127696, 7.596561016347253, 8.937272695003069, 6.655856341413432, -22.68297492172476, -25.09190243955617, 178.22487427205115, 24.55886291452384, -19.958464610077, 23.85107915172227, -25.409935452489943, -4.848455296876554, -18.17995816022041, -23.913906685626056, -24.867305729552587, 79.04990023331341, -24.384710040732866, 194.51163004274383, -5.996733127088759, -18.426621612342085, -24.89641181938992, -24.743183038398488, -6.150414364645506, -18.424534546423136, -5.747972499796181, 118.72059228723627, -17.53391138182604, 16.818650287945694, -5.624871435695364, 20.166384739444222, -23.01463662699401, -18.679619272927994, -25.202066387551337, 195.2163135687207, -22.06217140713529, -17.110054042510395, -24.57962985478928, -0.3176381570738951, -25.86247591096394, -19.319289457394625, -18.750693737868733, 20.519357305523183, -24.154715401848097, -11.44973620219424, -24.863108576205843, -6.641874495800171, -24.706259081938093, 178.7163304665386, -14.352793475712131, -19.710199014568673, -19.710199014568673, -16.4201898743246, 2.553500462973525, 479.719159647527, -24.718456069173747, -24.718456069173747, -2.174734692294523, 46.56926463647878, 229.45494769506837, -16.574046297010767, -24.49833092019926, 39.93629451624943, -12.707713476013488, -19.457254146186244, 20.232584380041754, -24.674894050096768, -10.37849536754633, -20.833780546221732, -22.855799015948104, -24.81428405466281, 33.16011977387451, -18.992782443073008, -24.73653011485249, -21.38686851504328, -24.26927901032974, 54.105591081153136, -18.118732228086845, -24.9448914415462, -25.580949395776557, 87.70244534397762, -25.183762806785545, 46.21541173622144, 7.426657590750198, -24.690953490960585, -8.459855669238635, -24.028065279828233, -23.175634108181416, -23.967425047480877, -20.998529498742727, -25.561254721872306, -8.594746853453412, -25.137671397480183, -24.854801289478004, -20.873673663418415, -24.867292817295695, 179.21991678122146, -25.82800084769777, 24.06305083531005, -2.5024478257756124, -9.161850296616034, -25.58843632797823, -25.388571882895196, -25.38751486609087, -4.111914734087933, -12.910073728803344, 47.27195810268792, -24.854801289478004, -6.9677707114639755, 36.93269003073535, -1.4715073687916111, -24.743209589722074, -19.14160329504278, -5.855559850498494, -23.738835701295564, -25.22805213679136, -8.311126366937783, -19.319289457394625, -6.171192858247064, 86.81230535684703, -24.984075982226646, -25.589835964225145, -24.65070431973002, -32.12674226352719, -25.110979166473438, -19.14160329504278, 20.734289875716758, -24.715966731722652, -8.002505018793578, -21.782057788462193, -2.0300871189960605, -24.393659323976028, -24.78339467030932, 4.575153463263596, -25.54835947876071, -5.265799383882232, 61.7855586447141, -23.903479708837036, -32.16227949599756, -20.08578948897263, 6.229409551769012, -25.654259069810145, 23.848604086003785, 3.511515491538226, -24.852326223759523, 48.6441958436358, -18.5307621807019, -14.73997702786326, -25.557057568525565, -24.855855859240084, -24.58804417350184, 50.99250345006382, -24.11917816937773, -24.56436058201473, 24.075086258466524, -2.464157375141557, -24.89171554309179, -22.457265205399192, -1.459784640759588, -25.859297996535897, -24.261327099259205, -24.48464226327438, 36.930980855363984, -24.38421777897776, 0.45999671618435645, 56.90755026666848, -2.102870759308163, -23.122603323504183, -17.951953722316688, 6.439446372199781, -5.9649579034918085, -23.52850653562837, 132.85512748195873, -5.165815323391384, -13.403192358109845, -25.557057568525565, -17.956823912753855, -21.274195694201683, -5.891097082968862, 36.93269003073535, -19.674661782098305, -19.030807356541825, -18.696466968052384, 18.050535106829482, -23.115343355162725, -22.242206132381952, -24.707672357251706, 20.689824504957564, -27.343354531273526, -22.857938874070538, -8.526103522088938, -25.761123536103774, -22.972217412514322, -24.956432984544282, -24.718456069173747, 51.59319689344002, -6.637686318043127, -24.458911729959127, -22.22898849117118, -22.030818415754773, -25.58843632797823, -3.0085356054663785, -19.5680500846872, -2.8536359093894452, -9.160141121244669, -2.6029649714276015, -24.639356817626396], \"y\": [-6.338965512755222, 7.38551842935429, -2.3441098047462874, 5.035058693680949, 6.648118402921352, -2.4206924923034334, 24.094388240350344, -26.863980899505638, -1.4920294887324554, -15.135032268971965, -24.673428737255303, 28.980999032246373, -8.335250367739864, 9.726936448532925, -14.325289423198901, 26.349745778724085, -27.173473088120545, 1.873794284740302, 2.266180946856917, -7.57286297534701, 6.023919429444592, 5.483057308226886, -13.337487858097564, -1.2995070338804897, -20.874268814757624, 8.717415521412399, -7.566223014038101, -18.454025409384688, -2.4067951769114897, -2.639546118895084, 10.964715933074908, 5.0590120304998445, -2.4022132115346118, 37.539242210856614, -2.982869820020868, 12.072947955766178, -7.569376501169414, -7.336359116362453, -10.741532350786654, -14.479656780303149, 11.558533903045346, -1.823394313984534, -7.590012351304432, -26.556260860147024, -9.336603233342302, -2.6450146874795624, -2.7002891949951806, -2.4022132115346118, -8.130824597520514, -10.71231249538867, -22.551727760414156, -7.327493084286449, 18.180188098175037, -0.005936990542197031, 34.701666277819115, 8.841273946075304, -7.417504062435948, 0.18307509121150992, -24.066678699981782, -18.846719535959167, -6.309718042741685, 7.106257212580108, 13.953388271529672, -25.120885798350493, 9.308659384738672, -7.896191908469549, 0.5736259485833678, -9.337982384212603, -11.455670558617575, -2.415620618212162, 3.5769396640245206, -13.85589870258857, -9.645104184279738, -2.6002503146419, 1.93035204400621, -3.3266084595311898, -2.639546118895084, -2.6450146874795624, -28.250622925351962, 1.4900934169801203, -6.371158786873849, 0.6003433708236123, -2.403543116346012, -1.7078863844145828, -11.413069067945607, 4.292952728198568, -13.332211679040432, -2.6450146874795624, -14.465100365183941, -4.33968536223021, 0.6547708946568646, -8.328306491417939, 15.743129584086532, -2.841249468746126, 30.649879738622513, -2.645014687479559, 41.684457738591725, -7.303679397168793, 5.104393955069285, 4.995159227653785, -0.3422872116525451, -2.639546118895084, -9.791085163834836, 4.628908473845239, 8.598337941563608, -0.33865178813607166, -7.328813426349757, -2.6382665899883917, 9.650260725638079, -3.013693866133786, 17.09727316306664, -14.09113512899864, -6.3374678649850384, -8.43170356940935, -11.564183453067757, -7.331926100324451, 42.117518139280335, 0.17802361228676816, -12.832946136786392, -27.264122187385016, -9.697100164430314, -2.645014687479559, 3.3510958428191153, 3.981085007644291, 23.172326131619847, -16.4738038595415, -2.3955732502257026, -4.310477832284112, -8.152065944548303, 16.675154854622313, 4.654445334482421, -8.299786239435852, 18.37256541795959, -0.005936990542197031, -3.5039594163774095, -5.575653567085164, -9.999332860979937, 7.039481157744688, -12.372191371741813, -6.843209042751579, -7.887340490381211, -6.333468587802744, -4.652814474723799, -9.289917178352503, -10.443001983563292, -10.382093648200359, -1.337001164475521, -20.337568166011184, 7.48922493398489, 13.477191857038642, 22.484058580379774, -8.429293306329589, 27.125389056158355, 11.880245285410439, -2.6188598928553506, 20.73846723551772, -12.328102771154992, 1.6536621460342793, -2.6667364660657658, -5.036106188599532, 15.33226678586978, 11.375243040138873, -2.332150224191777, -11.353645900458314, -28.545075268678644, -19.801505043802226, 8.125701374029594, 15.848984692231785, 9.183847512378646, -2.0622084237110134, 31.73783705597465, -25.175690585365718, -27.47268432835761, -7.331926100324451, 26.84147017340911, -10.36860267051097, -3.3494505067245983, 20.91482324729349, 1.4904968405096644, 7.932495887146056, -5.039741612116009, -5.808877141745438, -20.272237718660843, -28.467062029207465, -24.85279291666179, 8.330048623459572, -2.70692915630409, 15.999048187856463, 11.333974301574905, 7.652478222883245, 3.481639381955584, -9.497306924641894, -9.363706654517657, -25.98611882876331, 14.953640977275656, 24.724980054042938, -2.3955732502257026, 13.607409121716959, -2.4022132115346118, -4.506486091271298, -0.39554334276136627, -5.036106188599535, 5.704345499754032, 17.16437531396644, -10.33603740828713, -26.424872172184244, 3.344955497604429, -2.727062609200715, -12.32869502209767, 10.845417425747959, -4.3042212339261985, 6.194600109655738, -6.309096562341829, 1.4904968405096644, -2.4254422006390945, -1.095919366791157, -1.3452185533688727, 12.950825110369093, 1.2444213313053847, 1.5791571612696922, -12.333819911041958, -1.5061769136225795, 22.630378424959986, -2.639546118895084, 6.726741536911657, -6.383571231780253, -9.411651141674302, -7.807433439407951, -10.496198176019309, -3.3530859302410714, 3.9578357964466133, 0.6645235299404677, 30.44061106630268, -24.27444268547941, -4.414190346994796, -2.63091804684403, 14.984071741427936, -20.994681723656342, -9.408646603881866, 4.512882087662316, -7.8561046643033245, -2.70692915630409, 0.5802659098922773, -6.304663546303828, 1.6815609176165087, 12.699087627200964, -3.3346768990856646, -4.595718194045574, 7.043188215255775, 24.97298425520208, -2.6166433848363537, 0.5230645852687648, 32.98320399906494, 1.3383069627735975, 12.17346665464601, 0.3585476521035483, 7.476354469641909, -1.1140304981467017, -11.222594759922625, 20.980261592195884, -2.3955732502257026, -26.268589764717767, 21.06863259600961, 11.949169075233321, -2.3992086737421756, 7.5725046695341796, -13.561706498017426, -3.3639149637750196, 24.459771202262548, 2.137956103540903, 9.00386706123579, -3.05831241579794, 12.220757163775227, 7.877464929602346, -2.4022132115346118, 32.12243579162896, 16.64403473167023, -22.179016831233472, 6.166302399965306, 36.62361625670455, -0.3371764803986247, -12.382238359290339, -9.337146156909714, 9.181187702755839, 4.627254987311736, 1.5992346222010272, -6.33199929640056, 13.474187319246207, -6.335347513833181, -4.838294922130676, -12.29545968430996, 7.486918230543574, -4.371692088389892, -4.334216793645731, 9.308659384738672, -4.811381165675563, -31.442080947360804, 9.01859458759536, 13.131586437717477, -2.4022132115346118, -3.0002677568808864, -9.048655386269989, 14.990061530163022, -2.6450146874795624, -32.520252613124384, 6.3527338533474325, -14.925241324744913, 1.06916334448357, -0.06668698716302905, -6.990226663126256, -19.4166236464124, -3.012250932806812, -0.33865178813607166, 13.96366973204971, -2.3415989444623633, -5.000393247429272, 25.428422745263603, -2.9273773228570596, 7.128731046428132, -6.309096562341829, -1.337543039513486, 1.505029636567924, -7.117212861020941, -5.036106188599535, 3.1354882206497376, 32.68356967128514, 7.477204387465242, 2.1609847591720457, -14.108788487767061, -3.0039031803973595, 16.432343301144783, 4.488586136023162, -12.735679430025009, 5.326965379106743, -2.639546118895084, -1.4304145853787773, 8.170135974143747, 16.634026378903066, 15.684648777327999, -26.985010080140725, -13.466209113806526, -0.5072856622451651, -3.5039594163774095, 7.483844348774151, -4.509490629063734, 11.472769392974904, -2.967009832049153, -25.640313262473036, 13.61863538397705, -5.3802469643648365, 8.862010548019738, -13.344470478721789, -3.716438312230296, -7.566223014038105, -0.39554334276136627, -8.008427114190683, 9.47799142801251, -2.4067951769114897, -2.4067951769114897, 10.858163858861186, -0.06168283548740959, 16.38453034182488, 6.683582531225363, -2.7002891949951806, 1.6820334486774884, 29.220450401913894, -7.573011924685884, -2.4022132115346118, -6.498754133850778, -5.034623880094805, -10.307783472697993, -9.334141619117279, -10.842349337325157, -25.8687250716447, 7.341128686862961, -6.315736523650739, -8.571470835765831, -8.193423083981, -9.324388983833675, 5.869976690040525, -27.62799404769002, 3.655877664827109, 5.0740692348153615, -2.639546118895084, -12.641777938411982, -28.835632049733313, 7.477204387465242, -2.394835596356979, -11.467624394670203, 3.6397457331868797, -7.3303486727400085, -0.39168332083312396, -9.087049377810475, -4.686121405894639, -6.328452883570159, 2.655861850217146, 17.01172319459615, -5.4130815983722105, -0.5015131786476708, 10.64511188667658, -2.34190285947538, -7.432812318031938, -0.6506095079052293, -8.360607569842545, 5.1724798691738405, 22.641017663451187, -25.72900389855923, -7.32660648107885, -3.3530859302410714, -2.639546118895084, -2.3639498870170157, 1.7267709304776735, 15.639568143563652, -2.6486501109960354, 4.745357706443996, -10.535869509854043, 1.4904968405096644, -18.93180214325089, -7.590012351304432, -7.327006552959009, 0.6609771171100665, -0.6154666713056939, -10.80687900733043, -2.6166433848363537, -1.0048282419196115, -9.964980553902947, -2.3955732502257026, 3.648440110996672, -0.9821030855595901, -2.967009832049153, 12.979649277364196, -11.299119803190898, 19.925767866399852, -18.339497220632715, -8.350873149482208, -4.803339524736795, 26.515045510223732, 2.578048412647106, 15.954812273495628, -8.38667335378068, -3.3609104259825844, -0.5139256235540748, -2.6502357332910025, -26.949985138620104, -15.748197874792384, 5.011244422704897, -23.788751529323804, 22.851203640697516, 6.90559005402698, -3.097499015653364, 0.9747678667542824, 17.744954933929375, -2.645014687479566, 0.6558757911803273, 35.97987775319718, 8.227487772771047, 21.55034222750907, -2.3955732502257026, 18.995721941988702, 5.649227151543937, 17.57603889517079, 19.470539365303125, -2.6450146874795695, 9.680256285357611, 26.989856490800456, -2.3946866470181023, -28.034039347677815, -2.6166433848363573, 9.623070378467393, 3.9022763385858275, -5.537817965088013, -6.404495417844932, 8.25912036685155, 5.1724798691738405, 0.6605150218863602, -6.3187002482865555, -26.492598744131506, -20.844502038713998, 21.631487173582574, 34.555907382912636, -6.298476752529002, -3.3530859302410714, 3.7264323592629407, 28.87456785512907, 1.6536621460342793, -19.646965754208548, -3.0974990156533675, -7.307987813719244, 25.850881932622197, 41.157815433277165, -7.336359116362453, -7.822745693299502, 23.120118257794694, -2.8950367920228484, -8.46758216568027, -4.33067038081533, -11.353645900458314, -7.331234227418159, -2.394924607043051, 8.587739384892291, -15.098508017430504, -13.919710112058588, 3.98646559285503, 9.158677894396197, -0.8574636139211113, -4.062995464258279, 0.6605266693251943, -2.645014687479566, 7.018336259139529, 23.789209327267983, -4.320031142324126, 17.734889818670116, 5.568082205470441, -2.977184954411485, 6.986301769099704, 3.656913217373586, -1.3622793962747797, -6.33199929640056, -7.566223014038101, 13.860166550800548, -7.566371963376975, 12.1507805979579, 21.55034222750907, 2.238049034699187, 10.648116424469015, -5.5131864327516045, -26.9886455036572, -7.566371963376975, -11.346687975966958, -8.142583640735923, 1.628304943931599, -21.993572975033754, 16.0020527256489, -1.8220123888727036, -2.873758315040434, -7.82737826871201, 5.3959796263041335, -20.271883427743116, -18.274100924988286, 2.9943721871065203, 18.13258364957111, 35.00049177238697, -9.99484950431634, -5.769768027176861, 4.165407223235784, -21.372901951144357, -14.995104329006216, -1.9672105815747243, -2.39838200918738, -6.312573631195244, -6.334355191010345, 32.98320399906494, 18.498051559422912, 2.2227776002583695, 8.076406366794307, 7.27891114293396, -2.3955732502257026, 11.648043228392908, -0.5250177263971707, -2.645014687479566, -2.6486501109960425, -4.962653808075364, -9.3286730505328, 0.1308943756052081, -7.566371963376975, 3.6553839873185976, 33.540672667554524, 23.05045444789237, 7.014789846309128, -2.4022132115346118, -12.330815373249523, -9.562885246678151, 5.479421884710413, 8.931324139939381, -7.856250067229367, 3.6528731270346735, -4.156003235192708, 6.967385473968055, 25.00285320561547, 6.529246787256632, -7.6189759048903145, -12.890827608319023, 18.40071985731769, 29.07135779270472, -6.3374678649850384, -2.645014687479566, 6.680922721602562, 21.122335755039863, 18.663184722093536, -2.4322400462679994, 7.991832981786028, 7.033523512265987, 1.1608762951436058, 20.918082155052446, -7.566223014038098, 18.886013262110932, -5.070629131395273, -2.639546118895084, 8.599575998570064, 15.638139665318088, 6.0087765398137325, 7.35115974160529, 1.659130714618758, -2.1210776437378485, -7.577327083976144, 6.5001153240701, 9.72330102501645, -2.609550559175555, -2.70692915630409, -2.3955732502257026, 6.648118402921352, -6.40878370313532, 5.381516260475267, -2.660893466252535, -25.474023698591697, -2.4164078442399672, -1.6013590632644843, 12.05028919806766, -8.654907151815046, -7.329415240040527, -7.621845349209742, 31.779656356070742, 28.481733385067027, -9.801127815809059, -2.3364342908909017, -2.3949809992830255, 50.83789074341713, 22.665693603925117, 2.8720194788806452, -20.130064964979894, -0.5139256235540748, 3.655877664827109, 1.976974715520732, 11.44486857815097, -2.9603698707402515, -8.328306491417939, -6.498754133850778, -27.122303724621794, -4.366107292262465, -28.034039347677815, 17.184932270314096, -9.3286730505328, 26.66808887041854, -2.6272826233275604, -5.327484510764528, -2.6395461188950913, -10.877866066969348, -7.34995251674138, -2.405021970496289, -10.292443853246393, -6.700426410298073, -2.6395461188950913, 3.339208867039115, -5.501741919132239, 25.877621959595515, 17.143300323233362, 11.670473431390656, 18.033969451896333, 7.66666387420485, -8.363690839907692, 1.2907036007212447, -3.5039594163774095, -2.6352620521959667, 14.639248413940672, 8.222611455129254, 10.508188380732413, 1.0851441906146144, 41.534807216366275, 2.486383554094642, -10.32328023521109, -3.840239736541501, -10.403213910485901, 13.152094299851129, -10.240454731629754, -2.41295102345998, -3.76191505819822, -8.376920718497077, -15.850045781826925, 30.49265336958962, -4.574013368534991, -15.559489000772254, -9.409353942424426, -10.324017889079814, -20.545039032560926, 0.9048190113021225, -24.536221469326144, -4.366107292262465, -3.312895339270565, 30.985421496310114, 23.448372306660776, 15.638139665318088, -2.4016209605919348, 16.962937949051117, 13.654542813884861, -18.133282293430817, 6.019445007762115, -10.585533445365316, -3.3317394461271057, -2.3648279335668465, 10.019484434954254, 16.44949358570997, 13.01168376740402, -11.412102055341942, -7.896191908469546, -5.796713342770235, 9.16168243218864, 18.063290926238228, 0.6039401595587254, 23.466104370812783, -9.319955967795675, 1.8744116845308663, -1.4241565541714614, -2.6704202445817886, 4.660088535450125, -23.219202366538436, -11.326477893320366, 5.4860618460193225, 21.468321868057956, -2.9524358938218924, -8.35697214632607, 1.1260208428809075, -2.4017699099308114, -3.994862034742947, -3.369865468744659, -6.540174866676107, -17.7074268420695, -5.501741919132239, -5.501741919132239, -0.13016096387913245, 18.628672941520364, -11.21895933640615, -2.6395461188950913, -2.639546118895095, 9.036326651747366, 5.127388602538987, -16.419949892280158, -4.655040545490892, 2.6539818756572586, 39.355439830632754, -12.80599141489666, 1.4838568792007547, -10.94056136704877, 2.661313709872459, -24.884470615990335, -22.50004783916237, 4.598912914125706, -5.333108045023145, 17.564606329922633, -27.905697968976558, -0.33510537530567047, -10.443001983563292, 5.649227151543937, 1.8826432559855422, -2.8737583150404413, 12.674270229867053, -8.31050508328895, 3.6361103096704066, -12.321062737965919, 20.135740775099986, 8.887373911789663, 2.1582326606672786, -3.0070539048248768, 3.640362108694104, -4.391108348271025, 19.640648547149667, 28.54558552494341, -7.566223014038098, 25.034802501030782, -10.322393632003491, -2.3955732502257026, -23.482187867455245, -2.395129948621902, 7.4239160060066824, -15.306379266447331, -13.083293931498154, -0.10255853903857769, -3.246320665624344, -3.305329982548783, -3.3124228082095857, -10.32001861189752, -21.180125579856057, -27.816535290973924, 15.13239848755154, -2.3955732502257026, -12.955014346726282, -5.039741612116016, 9.203153603034238, -3.335325542268316, 10.480518102906398, 20.012993900700774, 2.6234540036478537, 1.681411968277632, 1.0365405804850274, 5.4860618460193225, 1.9703347542118224, -21.332535551248483, -27.934842497051157, -1.3078922079635888, 2.6623060326952963, 10.950277823855906, -10.326915658727565, 10.480518102906398, 3.0372761909261223, -2.336139938625978, 10.072710942736434, 6.573613418156765, -23.26855718187536, 2.153107771722986, -5.337779021086096, 1.5942272526451557, 14.69599101922709, -19.127538290086004, 20.570814457690144, -1.3677379244766075, 9.951386572478492, -1.52696698375314, -27.54618401730123, -2.3672019475824935, -4.363102754470036, -28.366032522657342, -2.3985777880181387, 31.079647245638068, -13.59469404110237, -27.896597914048222, -7.566371963376975, -5.331632737285698, -10.341898902570696, 7.9506284311967645, -7.358080894948659, -2.6450146874795695, 1.93035204400621, 9.235464244206936, -8.330817351701862, -12.40532035801411, 0.8528694884573366, 6.204499549854283, -11.353645900458314, 13.658089226715262, -5.036106188599539, 6.652227837237251, -1.236954874926404, 7.09524169967993, -25.262704261113715, 45.61462984192413, -19.625755141464683, -13.448534220912597, 14.980436317911462, -10.406162845199837, 11.04761789261437, 21.992395696120944, -4.790853145528177, -7.566371963376975, 12.374617602531078, -7.476197179844442, 19.01410264932336, -5.039741612116012, -4.502850667754824, 13.470551895729733, -1.5744838209367937, 1.1683582828229, -2.6964376735203786, -24.472375150708892, -2.3364342908909017, 17.028465305513453, 4.779609674071358, 18.601122497561516, -0.9352591195801692, -13.30844781435362, -8.398936849348207, -9.3286730505328, -2.6395461188950806, 24.953906734349996, -3.992019692239479, 4.6558044687510005, -6.428582653789016, -0.41862534148513736, -3.305329982548783, 9.819797004576817, -1.5061769136225795, -10.09811101412163, -3.24995608914081, -3.103595965231837, 3.6602049612498733]}],                        {\"template\": {\"data\": {\"bar\": [{\"error_x\": {\"color\": \"#2a3f5f\"}, \"error_y\": {\"color\": \"#2a3f5f\"}, \"marker\": {\"line\": {\"color\": \"#E5ECF6\", \"width\": 0.5}}, \"type\": \"bar\"}], \"barpolar\": [{\"marker\": {\"line\": {\"color\": \"#E5ECF6\", \"width\": 0.5}}, \"type\": \"barpolar\"}], \"carpet\": [{\"aaxis\": {\"endlinecolor\": \"#2a3f5f\", \"gridcolor\": \"white\", \"linecolor\": \"white\", \"minorgridcolor\": \"white\", \"startlinecolor\": \"#2a3f5f\"}, \"baxis\": {\"endlinecolor\": \"#2a3f5f\", \"gridcolor\": \"white\", \"linecolor\": \"white\", \"minorgridcolor\": \"white\", \"startlinecolor\": \"#2a3f5f\"}, \"type\": \"carpet\"}], \"choropleth\": [{\"colorbar\": {\"outlinewidth\": 0, \"ticks\": \"\"}, \"type\": \"choropleth\"}], \"contour\": [{\"colorbar\": {\"outlinewidth\": 0, \"ticks\": \"\"}, \"colorscale\": [[0.0, \"#0d0887\"], [0.1111111111111111, \"#46039f\"], [0.2222222222222222, \"#7201a8\"], [0.3333333333333333, \"#9c179e\"], [0.4444444444444444, \"#bd3786\"], [0.5555555555555556, \"#d8576b\"], [0.6666666666666666, \"#ed7953\"], [0.7777777777777778, \"#fb9f3a\"], [0.8888888888888888, \"#fdca26\"], [1.0, \"#f0f921\"]], \"type\": \"contour\"}], \"contourcarpet\": [{\"colorbar\": {\"outlinewidth\": 0, \"ticks\": \"\"}, \"type\": \"contourcarpet\"}], \"heatmap\": [{\"colorbar\": {\"outlinewidth\": 0, \"ticks\": \"\"}, \"colorscale\": [[0.0, \"#0d0887\"], [0.1111111111111111, \"#46039f\"], [0.2222222222222222, \"#7201a8\"], [0.3333333333333333, \"#9c179e\"], [0.4444444444444444, \"#bd3786\"], [0.5555555555555556, \"#d8576b\"], [0.6666666666666666, \"#ed7953\"], [0.7777777777777778, \"#fb9f3a\"], [0.8888888888888888, \"#fdca26\"], [1.0, \"#f0f921\"]], \"type\": \"heatmap\"}], \"heatmapgl\": [{\"colorbar\": {\"outlinewidth\": 0, \"ticks\": \"\"}, \"colorscale\": [[0.0, \"#0d0887\"], [0.1111111111111111, \"#46039f\"], [0.2222222222222222, \"#7201a8\"], [0.3333333333333333, \"#9c179e\"], [0.4444444444444444, \"#bd3786\"], [0.5555555555555556, \"#d8576b\"], [0.6666666666666666, \"#ed7953\"], [0.7777777777777778, \"#fb9f3a\"], [0.8888888888888888, \"#fdca26\"], [1.0, \"#f0f921\"]], \"type\": \"heatmapgl\"}], \"histogram\": [{\"marker\": {\"colorbar\": {\"outlinewidth\": 0, \"ticks\": \"\"}}, \"type\": \"histogram\"}], \"histogram2d\": [{\"colorbar\": {\"outlinewidth\": 0, \"ticks\": \"\"}, \"colorscale\": [[0.0, \"#0d0887\"], [0.1111111111111111, \"#46039f\"], [0.2222222222222222, \"#7201a8\"], [0.3333333333333333, \"#9c179e\"], [0.4444444444444444, \"#bd3786\"], [0.5555555555555556, \"#d8576b\"], [0.6666666666666666, \"#ed7953\"], [0.7777777777777778, \"#fb9f3a\"], [0.8888888888888888, \"#fdca26\"], [1.0, \"#f0f921\"]], \"type\": \"histogram2d\"}], \"histogram2dcontour\": [{\"colorbar\": {\"outlinewidth\": 0, \"ticks\": \"\"}, \"colorscale\": [[0.0, \"#0d0887\"], [0.1111111111111111, \"#46039f\"], [0.2222222222222222, \"#7201a8\"], [0.3333333333333333, \"#9c179e\"], [0.4444444444444444, \"#bd3786\"], [0.5555555555555556, \"#d8576b\"], [0.6666666666666666, \"#ed7953\"], [0.7777777777777778, \"#fb9f3a\"], [0.8888888888888888, \"#fdca26\"], [1.0, \"#f0f921\"]], \"type\": \"histogram2dcontour\"}], \"mesh3d\": [{\"colorbar\": {\"outlinewidth\": 0, \"ticks\": \"\"}, \"type\": \"mesh3d\"}], \"parcoords\": [{\"line\": {\"colorbar\": {\"outlinewidth\": 0, \"ticks\": \"\"}}, \"type\": \"parcoords\"}], \"pie\": [{\"automargin\": true, \"type\": \"pie\"}], \"scatter\": [{\"marker\": {\"colorbar\": {\"outlinewidth\": 0, \"ticks\": \"\"}}, \"type\": \"scatter\"}], \"scatter3d\": [{\"line\": {\"colorbar\": {\"outlinewidth\": 0, \"ticks\": \"\"}}, \"marker\": {\"colorbar\": {\"outlinewidth\": 0, \"ticks\": \"\"}}, \"type\": \"scatter3d\"}], \"scattercarpet\": [{\"marker\": {\"colorbar\": {\"outlinewidth\": 0, \"ticks\": \"\"}}, \"type\": \"scattercarpet\"}], \"scattergeo\": [{\"marker\": {\"colorbar\": {\"outlinewidth\": 0, \"ticks\": \"\"}}, \"type\": \"scattergeo\"}], \"scattergl\": [{\"marker\": {\"colorbar\": {\"outlinewidth\": 0, \"ticks\": \"\"}}, \"type\": \"scattergl\"}], \"scattermapbox\": [{\"marker\": {\"colorbar\": {\"outlinewidth\": 0, \"ticks\": \"\"}}, \"type\": \"scattermapbox\"}], \"scatterpolar\": [{\"marker\": {\"colorbar\": {\"outlinewidth\": 0, \"ticks\": \"\"}}, \"type\": \"scatterpolar\"}], \"scatterpolargl\": [{\"marker\": {\"colorbar\": {\"outlinewidth\": 0, \"ticks\": \"\"}}, \"type\": \"scatterpolargl\"}], \"scatterternary\": [{\"marker\": {\"colorbar\": {\"outlinewidth\": 0, \"ticks\": \"\"}}, \"type\": \"scatterternary\"}], \"surface\": [{\"colorbar\": {\"outlinewidth\": 0, \"ticks\": \"\"}, \"colorscale\": [[0.0, \"#0d0887\"], [0.1111111111111111, \"#46039f\"], [0.2222222222222222, \"#7201a8\"], [0.3333333333333333, \"#9c179e\"], [0.4444444444444444, \"#bd3786\"], [0.5555555555555556, \"#d8576b\"], [0.6666666666666666, \"#ed7953\"], [0.7777777777777778, \"#fb9f3a\"], [0.8888888888888888, \"#fdca26\"], [1.0, \"#f0f921\"]], \"type\": \"surface\"}], \"table\": [{\"cells\": {\"fill\": {\"color\": \"#EBF0F8\"}, \"line\": {\"color\": \"white\"}}, \"header\": {\"fill\": {\"color\": \"#C8D4E3\"}, \"line\": {\"color\": \"white\"}}, \"type\": \"table\"}]}, \"layout\": {\"annotationdefaults\": {\"arrowcolor\": \"#2a3f5f\", \"arrowhead\": 0, \"arrowwidth\": 1}, \"autotypenumbers\": \"strict\", \"coloraxis\": {\"colorbar\": {\"outlinewidth\": 0, \"ticks\": \"\"}}, \"colorscale\": {\"diverging\": [[0, \"#8e0152\"], [0.1, \"#c51b7d\"], [0.2, \"#de77ae\"], [0.3, \"#f1b6da\"], [0.4, \"#fde0ef\"], [0.5, \"#f7f7f7\"], [0.6, \"#e6f5d0\"], [0.7, \"#b8e186\"], [0.8, \"#7fbc41\"], [0.9, \"#4d9221\"], [1, \"#276419\"]], \"sequential\": [[0.0, \"#0d0887\"], [0.1111111111111111, \"#46039f\"], [0.2222222222222222, \"#7201a8\"], [0.3333333333333333, \"#9c179e\"], [0.4444444444444444, \"#bd3786\"], [0.5555555555555556, \"#d8576b\"], [0.6666666666666666, \"#ed7953\"], [0.7777777777777778, \"#fb9f3a\"], [0.8888888888888888, \"#fdca26\"], [1.0, \"#f0f921\"]], \"sequentialminus\": [[0.0, \"#0d0887\"], [0.1111111111111111, \"#46039f\"], [0.2222222222222222, \"#7201a8\"], [0.3333333333333333, \"#9c179e\"], [0.4444444444444444, \"#bd3786\"], [0.5555555555555556, \"#d8576b\"], [0.6666666666666666, \"#ed7953\"], [0.7777777777777778, \"#fb9f3a\"], [0.8888888888888888, \"#fdca26\"], [1.0, \"#f0f921\"]]}, \"colorway\": [\"#636efa\", \"#EF553B\", \"#00cc96\", \"#ab63fa\", \"#FFA15A\", \"#19d3f3\", \"#FF6692\", \"#B6E880\", \"#FF97FF\", \"#FECB52\"], \"font\": {\"color\": \"#2a3f5f\"}, \"geo\": {\"bgcolor\": \"white\", \"lakecolor\": \"white\", \"landcolor\": \"#E5ECF6\", \"showlakes\": true, \"showland\": true, \"subunitcolor\": \"white\"}, \"hoverlabel\": {\"align\": \"left\"}, \"hovermode\": \"closest\", \"mapbox\": {\"style\": \"light\"}, \"paper_bgcolor\": \"white\", \"plot_bgcolor\": \"#E5ECF6\", \"polar\": {\"angularaxis\": {\"gridcolor\": \"white\", \"linecolor\": \"white\", \"ticks\": \"\"}, \"bgcolor\": \"#E5ECF6\", \"radialaxis\": {\"gridcolor\": \"white\", \"linecolor\": \"white\", \"ticks\": \"\"}}, \"scene\": {\"xaxis\": {\"backgroundcolor\": \"#E5ECF6\", \"gridcolor\": \"white\", \"gridwidth\": 2, \"linecolor\": \"white\", \"showbackground\": true, \"ticks\": \"\", \"zerolinecolor\": \"white\"}, \"yaxis\": {\"backgroundcolor\": \"#E5ECF6\", \"gridcolor\": \"white\", \"gridwidth\": 2, \"linecolor\": \"white\", \"showbackground\": true, \"ticks\": \"\", \"zerolinecolor\": \"white\"}, \"zaxis\": {\"backgroundcolor\": \"#E5ECF6\", \"gridcolor\": \"white\", \"gridwidth\": 2, \"linecolor\": \"white\", \"showbackground\": true, \"ticks\": \"\", \"zerolinecolor\": \"white\"}}, \"shapedefaults\": {\"line\": {\"color\": \"#2a3f5f\"}}, \"ternary\": {\"aaxis\": {\"gridcolor\": \"white\", \"linecolor\": \"white\", \"ticks\": \"\"}, \"baxis\": {\"gridcolor\": \"white\", \"linecolor\": \"white\", \"ticks\": \"\"}, \"bgcolor\": \"#E5ECF6\", \"caxis\": {\"gridcolor\": \"white\", \"linecolor\": \"white\", \"ticks\": \"\"}}, \"title\": {\"x\": 0.05}, \"xaxis\": {\"automargin\": true, \"gridcolor\": \"white\", \"linecolor\": \"white\", \"ticks\": \"\", \"title\": {\"standoff\": 15}, \"zerolinecolor\": \"white\", \"zerolinewidth\": 2}, \"yaxis\": {\"automargin\": true, \"gridcolor\": \"white\", \"linecolor\": \"white\", \"ticks\": \"\", \"title\": {\"standoff\": 15}, \"zerolinecolor\": \"white\", \"zerolinewidth\": 2}}}},                        {\"responsive\": true}                    ).then(function(){\n",
              "                            \n",
              "var gd = document.getElementById('060c638a-819f-4a2b-91df-e7d1a1268a2a');\n",
              "var x = new MutationObserver(function (mutations, observer) {{\n",
              "        var display = window.getComputedStyle(gd).display;\n",
              "        if (!display || display === 'none') {{\n",
              "            console.log([gd, 'removed!']);\n",
              "            Plotly.purge(gd);\n",
              "            observer.disconnect();\n",
              "        }}\n",
              "}});\n",
              "\n",
              "// Listen for the removal of the full notebook cells\n",
              "var notebookContainer = gd.closest('#notebook-container');\n",
              "if (notebookContainer) {{\n",
              "    x.observe(notebookContainer, {childList: true});\n",
              "}}\n",
              "\n",
              "// Listen for the clearing of the current output cell\n",
              "var outputEl = gd.closest('.output');\n",
              "if (outputEl) {{\n",
              "    x.observe(outputEl, {childList: true});\n",
              "}}\n",
              "\n",
              "                        })                };                            </script>        </div>\n",
              "</body>\n",
              "</html>"
            ]
          },
          "metadata": {
            "tags": []
          }
        }
      ]
    },
    {
      "cell_type": "markdown",
      "metadata": {
        "id": "YJayX_Ay5NMm"
      },
      "source": [
        "Here, we connected the two graphs and show a graph with the cluster centers and the data points together. \r\n",
        "\r\n",
        "---\r\n",
        "\r\n"
      ]
    },
    {
      "cell_type": "code",
      "metadata": {
        "colab": {
          "base_uri": "https://localhost:8080/",
          "height": 495
        },
        "id": "2-fUotQod3aM",
        "outputId": "a049e306-2caa-4c4d-bd8a-fed095234ead"
      },
      "source": [
        "def plot_dendrogram(model, **kwargs):                   # Calculates Hierarchical Clustering and plot dendogram\r\n",
        "    counts = np.zeros(model.children_.shape[0])\r\n",
        "    n_samples = len(model.labels_)\r\n",
        "    for i, merge in enumerate(model.children_):\r\n",
        "        current_count = 0\r\n",
        "        for child_idx in merge:\r\n",
        "            if child_idx < n_samples:\r\n",
        "                current_count += 1  # leaf node\r\n",
        "            else:\r\n",
        "                current_count += counts[child_idx - n_samples]\r\n",
        "        counts[i] = current_count\r\n",
        "    linkage_matrix = np.column_stack([model.children_, model.distances_, counts]).astype(float)\r\n",
        "    dendrogram(linkage_matrix, **kwargs)\r\n",
        "\r\n",
        "agg = AgglomerativeClustering(distance_threshold=0, n_clusters=None)\r\n",
        "agg = agg.fit(d_train_cp)\r\n",
        "plt.figure(figsize=(25, 10))\r\n",
        "plot_dendrogram(agg, truncate_mode='level', p=3)\r\n",
        "\r\n",
        "plt.title('Hierarchical Clustering Dendrogram', fontsize=20)\r\n",
        "plt.xlabel(\"Num. of points in node (or index of point if no parenthesis).\", fontsize=20)\r\n",
        "plt.xticks(fontsize=15)\r\n",
        "plt.yticks(fontsize=15)\r\n",
        "plt.show()"
      ],
      "execution_count": 27,
      "outputs": [
        {
          "output_type": "display_data",
          "data": {
            "image/png": "[encoded data removed]",
            "text/plain": [
              "<Figure size 1800x720 with 1 Axes>"
            ]
          },
          "metadata": {
            "tags": [],
            "needs_background": "light"
          }
        }
      ]
    },
    {
      "cell_type": "code",
      "metadata": {
        "colab": {
          "base_uri": "https://localhost:8080/"
        },
        "id": "hE78zR7ydJ8A",
        "outputId": "55668553-3f85-4850-bc15-e51338f0a73b"
      },
      "source": [
        "# use grid search to find best pca component on the data for nbc\r\n",
        "\r\n",
        "model_pipe = Pipeline([('pca', 'passthrough'), ('nbc', GaussianNB())])\r\n",
        "hyper_parameters = {'pca': [PCA()], 'pca__n_components': list(range(1, len(X.columns)-3))}\r\n",
        "\r\n",
        "gs_model1 = GridSearchCV(model_pipe, hyper_parameters).fit(X, t)\r\n",
        "print('Accuracy score for classification:')\r\n",
        "print('gs_model', gs_model1.best_score_)\r\n",
        "print('best params', gs_model1.best_params_)\r\n",
        "\r\n",
        "accuras.append(['GridSearch with Model_pipe',gs_model1.best_score_])"
      ],
      "execution_count": 28,
      "outputs": [
        {
          "output_type": "stream",
          "text": [
            "Accuracy score for classification:\n",
            "gs_model 0.7882318952234206\n",
            "best params {'pca': PCA(copy=True, iterated_power='auto', n_components=7, random_state=None,\n",
            "    svd_solver='auto', tol=0.0, whiten=False), 'pca__n_components': 7}\n"
          ],
          "name": "stdout"
        }
      ]
    },
    {
      "cell_type": "markdown",
      "metadata": {
        "id": "KhyBdOU3hXgV"
      },
      "source": [
        "We got accuracy of 0.7882318952234206, which is better than NBC's accuracy.\\\r\n",
        "Let's try another model:"
      ]
    },
    {
      "cell_type": "markdown",
      "metadata": {
        "id": "R2dxh8Diu6-m"
      },
      "source": [
        "###**Hyper - Parameters**\r\n",
        "We will get the accuracy with **GridSearch** and then with **RandomSearch**"
      ]
    },
    {
      "cell_type": "code",
      "metadata": {
        "colab": {
          "base_uri": "https://localhost:8080/"
        },
        "id": "ynYJ0d-li_Ko",
        "outputId": "39f5b1d2-9549-4dcf-c6d2-db012944cdba"
      },
      "source": [
        "# GridSearch and getting the best parameters\r\n",
        "X_normalized = StandardScaler().fit_transform(X)\r\n",
        "hyper_parameters = {'penalty': ('l2', 'l1', 'elasticnet'), 'alpha':[0.0001, 0.001, 0.01, 0.1]}\r\n",
        "\r\n",
        "gs_model2 = GridSearchCV(SGDClassifier(random_state=1), hyper_parameters).fit(X_normalized, t)\r\n",
        "print('Accuracy score for classification:')\r\n",
        "print('gs_model2', gs_model2.best_score_)\r\n",
        "print('best params', gs_model2.best_params_)\r\n",
        "\r\n",
        "accuras.append(['GridSearch with SGD',gs_model2.best_score_])"
      ],
      "execution_count": 29,
      "outputs": [
        {
          "output_type": "stream",
          "text": [
            "Accuracy score for classification:\n",
            "gs_model2 0.7984013867488444\n",
            "best params {'alpha': 0.001, 'penalty': 'elasticnet'}\n"
          ],
          "name": "stdout"
        }
      ]
    },
    {
      "cell_type": "code",
      "metadata": {
        "colab": {
          "base_uri": "https://localhost:8080/"
        },
        "id": "l1iizZ1Di_HE",
        "outputId": "a37d1f91-6ada-42e2-82b3-eb77301deb2d"
      },
      "source": [
        "# RandomSearch and getting the best parameters\r\n",
        "np.random.seed(1)\r\n",
        "distributions = dict(alpha=uniform(loc=0, scale=1), penalty=['l2', 'l1', 'elasticnet'])\r\n",
        "\r\n",
        "rs_model = RandomizedSearchCV(SGDClassifier(), distributions, random_state=1).fit(X_normalized, t)\r\n",
        "print('Accuracy score for classification:')\r\n",
        "print('rs_model', rs_model.best_score_)\r\n",
        "print('best params', rs_model.best_params_)"
      ],
      "execution_count": 30,
      "outputs": [
        {
          "output_type": "stream",
          "text": [
            "Accuracy score for classification:\n",
            "rs_model 0.787069851052902\n",
            "best params {'alpha': 0.3879107411620074, 'penalty': 'l2'}\n"
          ],
          "name": "stdout"
        }
      ]
    },
    {
      "cell_type": "markdown",
      "metadata": {
        "id": "qi5D2XXACIn0"
      },
      "source": [
        "### **Ensembles**\r\n",
        "We will try 3 options:"
      ]
    },
    {
      "cell_type": "markdown",
      "metadata": {
        "id": "K-gMYxDmCTHE"
      },
      "source": [
        "#### **Bagging**\r\n",
        "We will get the score using NFold bagging."
      ]
    },
    {
      "cell_type": "code",
      "metadata": {
        "colab": {
          "base_uri": "https://localhost:8080/"
        },
        "id": "TlOdszJ7Ca9v",
        "outputId": "85c1f1a5-4249-490b-eecb-c1c54c8d203c"
      },
      "source": [
        "bag_fold_model = BaggingClassifier(base_estimator=SGDClassifier(), n_estimators=20, random_state=1, bootstrap=False).fit(X_normalized, t)\r\n",
        "print('Accuracy score for classification:')\r\n",
        "print('bag_fold_model', bag_fold_model.score(X_normalized, t).mean())\r\n",
        "\r\n",
        "accuras.append(['Bag Fold Model',bag_fold_model.score(X_normalized, t).mean()])"
      ],
      "execution_count": 31,
      "outputs": [
        {
          "output_type": "stream",
          "text": [
            "Accuracy score for classification:\n",
            "bag_fold_model 0.8074745186862967\n"
          ],
          "name": "stdout"
        }
      ]
    },
    {
      "cell_type": "markdown",
      "metadata": {
        "id": "ATk5audXCXKk"
      },
      "source": [
        "#### **Bootstrap Bagging**"
      ]
    },
    {
      "cell_type": "code",
      "metadata": {
        "colab": {
          "base_uri": "https://localhost:8080/"
        },
        "id": "PnVKluXumhCI",
        "outputId": "3bb37cb8-036c-4df0-b922-eb45e97000dc"
      },
      "source": [
        "bag_boot_model = BaggingClassifier(base_estimator=SGDClassifier(), n_estimators=20, random_state=1, bootstrap=True).fit(X_normalized, t)\r\n",
        "print('Accuracy score for classification:')\r\n",
        "print('bag_boot_model', bag_boot_model.score(X_normalized, t).mean())\r\n",
        "\r\n",
        "accuras.append(['Bag Bootstrap Model',bag_boot_model.score(X_normalized, t).mean()])\r\n"
      ],
      "execution_count": 32,
      "outputs": [
        {
          "output_type": "stream",
          "text": [
            "Accuracy score for classification:\n",
            "bag_boot_model 0.8063420158550396\n"
          ],
          "name": "stdout"
        }
      ]
    },
    {
      "cell_type": "markdown",
      "metadata": {
        "id": "kZH8h6gvCWv3"
      },
      "source": [
        "#### **Ada Boost**\r\n"
      ]
    },
    {
      "cell_type": "code",
      "metadata": {
        "colab": {
          "base_uri": "https://localhost:8080/"
        },
        "id": "XI7kSFo_i_Cs",
        "outputId": "ffe345b8-107d-49d1-88f0-b8fd64c57d1b"
      },
      "source": [
        "ada_boost_model = AdaBoostClassifier(n_estimators=100, random_state=1).fit(X_normalized, t)\r\n",
        "print('Accuracy score for classification:')\r\n",
        "print('ada_boost_model', ada_boost_model.score(X_normalized, t).mean())\r\n",
        "\r\n",
        "accuras.append(['Ada Boost Model',ada_boost_model.score(X_normalized, t).mean()])"
      ],
      "execution_count": 33,
      "outputs": [
        {
          "output_type": "stream",
          "text": [
            "Accuracy score for classification:\n",
            "ada_boost_model 0.8425821064552661\n"
          ],
          "name": "stdout"
        }
      ]
    },
    {
      "cell_type": "markdown",
      "metadata": {
        "id": "O4qX9DRM_lWr"
      },
      "source": [
        "### **KNN**"
      ]
    },
    {
      "cell_type": "code",
      "metadata": {
        "colab": {
          "base_uri": "https://localhost:8080/"
        },
        "id": "ItNLNTjJGQ5L",
        "outputId": "66e7910e-e6e3-4df1-bf8a-55f1de45b9f9"
      },
      "source": [
        "arr_X_normalized = np.asarray(X_normalized)\r\n",
        "\r\n",
        "hyper_parameters = {'n_neighbors': list(range(1, 20))} # run KNN on the dataset and find best K by accuracy\r\n",
        "\r\n",
        "gs_neigh_model = GridSearchCV(KNeighborsClassifier(n_neighbors=5), hyper_parameters).fit(arr_X_normalized, t)\r\n",
        "print('Accuracy score for classification:')\r\n",
        "print('gs_neigh_model', gs_neigh_model.best_score_)\r\n",
        "print('best params', gs_neigh_model.best_params_)\r\n",
        "\r\n",
        "accuras.append(['GridSearch KNN',gs_neigh_model.best_score_])"
      ],
      "execution_count": 34,
      "outputs": [
        {
          "output_type": "stream",
          "text": [
            "Accuracy score for classification:\n",
            "gs_neigh_model 0.7972971237801747\n",
            "best params {'n_neighbors': 10}\n"
          ],
          "name": "stdout"
        }
      ]
    },
    {
      "cell_type": "markdown",
      "metadata": {
        "id": "tMmTsJS41dqP"
      },
      "source": [
        "### **Guessing what is the best model for us**"
      ]
    },
    {
      "cell_type": "code",
      "metadata": {
        "colab": {
          "base_uri": "https://localhost:8080/"
        },
        "id": "pvTCdxzj1cqe",
        "outputId": "f6902fa5-3565-43cd-d458-624ed736c3bc"
      },
      "source": [
        "print(accuras)\r\n",
        "ac_scores = [row[1] for row in accuras]\r\n",
        "print(ac_scores)\r\n",
        "max_s = max(ac_scores)\r\n",
        "print(max_s)\r\n"
      ],
      "execution_count": 35,
      "outputs": [
        {
          "output_type": "stream",
          "text": [
            "[['NBC', 0.7848431716345218], ['GridSearch with Model_pipe', 0.7882318952234206], ['GridSearch with SGD', 0.7984013867488444], ['Bag Fold Model', 0.8074745186862967], ['Bag Bootstrap Model', 0.8063420158550396], ['Ada Boost Model', 0.8425821064552661], ['GridSearch KNN', 0.7972971237801747]]\n",
            "[0.7848431716345218, 0.7882318952234206, 0.7984013867488444, 0.8074745186862967, 0.8063420158550396, 0.8425821064552661, 0.7972971237801747]\n",
            "0.8425821064552661\n"
          ],
          "name": "stdout"
        }
      ]
    },
    {
      "cell_type": "markdown",
      "metadata": {
        "id": "CHTFSyGjLByN"
      },
      "source": [
        "The best score is of the Ada Boost Model , so I'll guess that it will be the best score for the test either."
      ]
    },
    {
      "cell_type": "markdown",
      "metadata": {
        "id": "l6zNlmqkP1HU"
      },
      "source": [
        "## **Preparing the Test Set**\r\n",
        "\r\n",
        "The d_test is ready to be calculated. \\\r\n",
        "Let's see what is the best prediction: "
      ]
    },
    {
      "cell_type": "markdown",
      "metadata": {
        "id": "L8JmenIAZxl2"
      },
      "source": [
        "#### **NBC Model**"
      ]
    },
    {
      "cell_type": "code",
      "metadata": {
        "id": "trlUjwGpLkZN"
      },
      "source": [
        "model = MultinomialNB()\r\n",
        "model.fit(X,t)\r\n",
        "preds = model.predict(d_test)\r\n",
        "sbm_NBC = pd.DataFrame({'PassengerId': id_test, 'Survived': preds})\r\n",
        "sbm_NBC.to_csv('sbm_NBC.csv',index=False)"
      ],
      "execution_count": 36,
      "outputs": []
    },
    {
      "cell_type": "markdown",
      "metadata": {
        "id": "0p-6RGyUZ4AM"
      },
      "source": [
        "####**PCA Model**"
      ]
    },
    {
      "cell_type": "code",
      "metadata": {
        "id": "hh8b_c6nNGJX"
      },
      "source": [
        "# PCA Model\r\n",
        "\r\n",
        "model_pipe = Pipeline([('pca', 'passthrough'), ('nbc', GaussianNB())])\r\n",
        "hyper_parameters = {'pca': [PCA()], 'pca__n_components': list(range(1, len(X.columns)-3))}\r\n",
        "\r\n",
        "model = GridSearchCV(model_pipe, hyper_parameters)\r\n",
        "model.fit(X, t)\r\n",
        "preds = model.predict(d_test)\r\n",
        "sbm_PCA = pd.DataFrame({'PassengerId': id_test, 'Survived': preds})\r\n",
        "sbm_PCA.to_csv('sbm_PCA.csv',index=False)\r\n",
        "\r\n"
      ],
      "execution_count": 37,
      "outputs": []
    },
    {
      "cell_type": "markdown",
      "metadata": {
        "id": "6ACCEKB3Z7cC"
      },
      "source": [
        "####**GridSearch Model**"
      ]
    },
    {
      "cell_type": "code",
      "metadata": {
        "id": "iaEcPn5gN_9D"
      },
      "source": [
        "X_normalized = StandardScaler().fit_transform(X)\r\n",
        "hyper_parameters = {'penalty': ('l2', 'l1', 'elasticnet'), 'alpha':[0.0001, 0.001, 0.01, 0.1]}\r\n",
        "\r\n",
        "model = GridSearchCV(SGDClassifier(random_state=1), hyper_parameters)\r\n",
        "model.fit(X_normalized, t)\r\n",
        "preds = model.predict(d_test)\r\n",
        "sbm_GS = pd.DataFrame({'PassengerId': id_test, 'Survived': preds})\r\n",
        "sbm_GS.to_csv('sbm_GS.csv',index=False)\r\n"
      ],
      "execution_count": 38,
      "outputs": []
    },
    {
      "cell_type": "markdown",
      "metadata": {
        "id": "0ZqADs1zakPa"
      },
      "source": [
        "####**RandomSearch Model**"
      ]
    },
    {
      "cell_type": "code",
      "metadata": {
        "id": "JAsszL_aN_7Z"
      },
      "source": [
        "np.random.seed(1)\r\n",
        "distributions = dict(alpha=uniform(loc=0, scale=1), penalty=['l2', 'l1', 'elasticnet'])\r\n",
        "\r\n",
        "model = RandomizedSearchCV(SGDClassifier(), distributions, random_state=1)\r\n",
        "model.fit(X_normalized, t)\r\n",
        "\r\n",
        "preds = model.predict(d_test)\r\n",
        "sbm_RS = pd.DataFrame({'PassengerId': id_test, 'Survived': preds})\r\n",
        "sbm_RS.to_csv('sbm_RS.csv',index=False)\r\n"
      ],
      "execution_count": 39,
      "outputs": []
    },
    {
      "cell_type": "markdown",
      "metadata": {
        "id": "uKQU32rUa7x0"
      },
      "source": [
        "####**Bagging Model**"
      ]
    },
    {
      "cell_type": "code",
      "metadata": {
        "id": "3lOw_crKN_5S"
      },
      "source": [
        "model = BaggingClassifier(base_estimator=SGDClassifier(), n_estimators=20, random_state=1, bootstrap=False)\r\n",
        "model.fit(X_normalized, t)\r\n",
        "\r\n",
        "preds = model.predict(d_test)\r\n",
        "sbm_Bg = pd.DataFrame({'PassengerId': id_test, 'Survived': preds})\r\n",
        "sbm_Bg.to_csv('sbm_Bg.csv',index=False)"
      ],
      "execution_count": 40,
      "outputs": []
    },
    {
      "cell_type": "markdown",
      "metadata": {
        "id": "oQQl7mmxbSr6"
      },
      "source": [
        "####**Bootstrap Bagging Model**"
      ]
    },
    {
      "cell_type": "code",
      "metadata": {
        "id": "pot-JCN7NGG0"
      },
      "source": [
        "model = BaggingClassifier(base_estimator=SGDClassifier(), n_estimators=20, random_state=1, bootstrap=True)\r\n",
        "model.fit(X_normalized, t)\r\n",
        "\r\n",
        "preds = model.predict(d_test)\r\n",
        "sbm_BB = pd.DataFrame({'PassengerId': id_test, 'Survived': preds})\r\n",
        "sbm_BB.to_csv('sbm_BB.csv',index=False)"
      ],
      "execution_count": 41,
      "outputs": []
    },
    {
      "cell_type": "markdown",
      "metadata": {
        "id": "83TRa1FbbWZ2"
      },
      "source": [
        "####**Ada Boost Model**"
      ]
    },
    {
      "cell_type": "code",
      "metadata": {
        "id": "Vz99--L2NGE_"
      },
      "source": [
        "model = AdaBoostClassifier(n_estimators=100, random_state=1)\r\n",
        "model.fit(X_normalized, t)\r\n",
        "\r\n",
        "preds = model.predict(d_test)\r\n",
        "sbm_AB = pd.DataFrame({'PassengerId': id_test, 'Survived': preds})\r\n",
        "sbm_AB.to_csv('sbm_AB.csv',index=False)"
      ],
      "execution_count": 42,
      "outputs": []
    },
    {
      "cell_type": "markdown",
      "metadata": {
        "id": "nXn8gLIpbaJi"
      },
      "source": [
        "####**KNN Model**"
      ]
    },
    {
      "cell_type": "code",
      "metadata": {
        "id": "V-JDxDiOLjzB"
      },
      "source": [
        "arr_X_normalized = np.asarray(X_normalized)\r\n",
        "hyper_parameters = {'n_neighbors': list(range(1, 20))}\r\n",
        "\r\n",
        "model = GridSearchCV(KNeighborsClassifier(n_neighbors=5), hyper_parameters)\r\n",
        "model.fit(arr_X_normalized, t)\r\n",
        "preds = model.predict(d_test)\r\n",
        "sbm_KNN = pd.DataFrame({'PassengerId': id_test, 'Survived': preds})\r\n",
        "sbm_KNN.to_csv('sbm_KNN.csv',index=False)"
      ],
      "execution_count": 43,
      "outputs": []
    },
    {
      "cell_type": "markdown",
      "metadata": {
        "id": "U_XHk5E8cOOY"
      },
      "source": [
        "## **Results**"
      ]
    },
    {
      "cell_type": "markdown",
      "metadata": {
        "id": "kHtTFlG4jJ80"
      },
      "source": [
        "![Prediction.png](data:image/png;base64,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)"
      ]
    },
    {
      "cell_type": "markdown",
      "metadata": {
        "id": "MxCyvguscUg_"
      },
      "source": [
        "##**Summary**\r\n",
        "In this project, I believe that my understanding (of models and the material itself) of the material became more significant.\\\r\n",
        "I understood what I did, the difference between different models, and how to make them.\r\n",
        "\r\n",
        "\\\r\n",
        "The resutls was not high, but I think that I did not let the model be trained enought, and if I let it be trained more (and maybe remove more low correlatied features), it was higher."
      ]
    },
    {
      "cell_type": "markdown",
      "metadata": {
        "id": "1P52W5ilKTzk"
      },
      "source": [
        "## **References :**\n",
        "\n",
        "Some of the research was taken from [HW1 Notebook](/content/hw1-titanic.html). \\\n",
        "Litte \"extra\" was inspired by [Dmitry Tchenak's Notebook](/content/DmitryML2020E1.html) (from the moudle). \\\n",
        "About the titanic - [History.com](https://www.history.com/topics/early-20th-century-us/titanic) \\\n",
        "Seaborn options - [Seaborn.pydata.org](https://seaborn.pydata.org/tutorial/color_palettes.html) \\\n",
        "Those notebooks helped me to explore the data - [Notebook1](https://www.kaggle.com/mnassrib/titanic-logistic-regression-with-python#2.-Data-Quality-&-Missing-Value-Assessment) & [Notebook2](https://www.kaggle.com/padmanabhabanerjee/a-noob-s-first-approach-to-the-titanic-dataset#Playing-with-data-:)\\\n",
        "About the [KNeighborsClassifier](https://scikit-learn.org/stable/modules/generated/sklearn.neighbors.KNeighborsClassifier.html).\\\n",
        "\n",
        "And also Aviad's Notebooks (7 & 8).\n",
        "\n"
      ]
    },
    {
      "cell_type": "code",
      "metadata": {
        "id": "qJFLYIkjjbGR"
      },
      "source": [
        ""
      ],
      "execution_count": null,
      "outputs": []
    }
  ]
}