{
 "cells": [
  {
   "cell_type": "markdown",
   "metadata": {
    "id": "BTSrkgQQI952"
   },
   "source": [
    "# **ML - Home Work #1**\n",
    "\n",
    "Stav Suzan Rabinovich"
   ]
  },
  {
   "cell_type": "markdown",
   "metadata": {
    "id": "75ZhAI5nKAQs"
   },
   "source": [
    "## **About the Titanic**\n",
    "The Titanic was a luxury British steamship that sank in the early hours of April 15, 1912 after striking an iceberg, \\\n",
    "leading to the deaths of more than 1,500 passengers and crew. \n",
    "\n",
    "\n",
    "![picture](https://media.giphy.com/media/mYeIp5eruF3jy/giphy.gif) \\\n",
    "*this is not the actual Titanic, this gif was taken from the movie.\\\n",
    "\\\n",
    "In this home work I'll analyze and evaluate the surviving rate of people (from given data) on the Titanic.\n",
    "\n"
   ]
  },
  {
   "cell_type": "markdown",
   "metadata": {
    "id": "bz9cTIAQcqhd"
   },
   "source": [
    "## **Start, Settings and Data Imports**"
   ]
  },
  {
   "cell_type": "code",
   "execution_count": 198,
   "metadata": {
    "id": "F1b4C1U8ct86"
   },
   "outputs": [],
   "source": [
    "# Import numpy, matplotlib, etc.\n",
    "import math\n",
    "import numpy as np\n",
    "import pandas as pd\n",
    "import seaborn as sns\n",
    "import matplotlib.pyplot as plt\n",
    "\n",
    "# Sklearn imports\n",
    "import sklearn\n",
    "from sklearn import metrics\n",
    "from sklearn import datasets\n",
    "from sklearn import pipeline\n",
    "from sklearn import linear_model\n",
    "from sklearn import preprocessing\n",
    "\n",
    "# Data import\n",
    "train_df = pd.read_csv(\"../input/titanic/train.csv\") # DataFrame of train's CSV file (Read)\n",
    "test_df = pd.read_csv(\"../input/titanic/test.csv\")   # DataFrame of test's CSV file (Read)"
   ]
  },
  {
   "cell_type": "markdown",
   "metadata": {
    "id": "hrMjYoz-cf1G"
   },
   "source": [
    "## **About the Data**"
   ]
  },
  {
   "cell_type": "markdown",
   "metadata": {
    "id": "zLcOm_Fido11"
   },
   "source": [
    "### **Train Data:**"
   ]
  },
  {
   "cell_type": "code",
   "execution_count": 199,
   "metadata": {
    "id": "QVdhqD9VcdEE",
    "outputId": "f3dc6324-4a46-416a-ed93-744dcebb40b7"
   },
   "outputs": [
    {
     "name": "stdout",
     "output_type": "stream",
     "text": [
      "There are 891 samples\n",
      "There are 12 features\n"
     ]
    }
   ],
   "source": [
    "print('There are {} samples'.format(train_df.shape[0]))  # Number of samples\n",
    "print('There are {} features'.format(train_df.shape[1])) # Number of features"
   ]
  },
  {
   "cell_type": "code",
   "execution_count": 200,
   "metadata": {
    "id": "vgh6Rpvtc5i2",
    "outputId": "34bb794d-8f1b-4ed9-ddf8-abe2f3810ddc"
   },
   "outputs": [
    {
     "data": {
      "text/html": [
       "<div>\n",
       "<style scoped>\n",
       "    .dataframe tbody tr th:only-of-type {\n",
       "        vertical-align: middle;\n",
       "    }\n",
       "\n",
       "    .dataframe tbody tr th {\n",
       "        vertical-align: top;\n",
       "    }\n",
       "\n",
       "    .dataframe thead th {\n",
       "        text-align: right;\n",
       "    }\n",
       "</style>\n",
       "<table border=\"1\" class=\"dataframe\">\n",
       "  <thead>\n",
       "    <tr style=\"text-align: right;\">\n",
       "      <th></th>\n",
       "      <th>PassengerId</th>\n",
       "      <th>Survived</th>\n",
       "      <th>Pclass</th>\n",
       "      <th>Name</th>\n",
       "      <th>Sex</th>\n",
       "      <th>Age</th>\n",
       "      <th>SibSp</th>\n",
       "      <th>Parch</th>\n",
       "      <th>Ticket</th>\n",
       "      <th>Fare</th>\n",
       "      <th>Cabin</th>\n",
       "      <th>Embarked</th>\n",
       "    </tr>\n",
       "  </thead>\n",
       "  <tbody>\n",
       "    <tr>\n",
       "      <th>0</th>\n",
       "      <td>1</td>\n",
       "      <td>0</td>\n",
       "      <td>3</td>\n",
       "      <td>Braund, Mr. Owen Harris</td>\n",
       "      <td>male</td>\n",
       "      <td>22.0</td>\n",
       "      <td>1</td>\n",
       "      <td>0</td>\n",
       "      <td>A/5 21171</td>\n",
       "      <td>7.2500</td>\n",
       "      <td>NaN</td>\n",
       "      <td>S</td>\n",
       "    </tr>\n",
       "    <tr>\n",
       "      <th>1</th>\n",
       "      <td>2</td>\n",
       "      <td>1</td>\n",
       "      <td>1</td>\n",
       "      <td>Cumings, Mrs. John Bradley (Florence Briggs Th...</td>\n",
       "      <td>female</td>\n",
       "      <td>38.0</td>\n",
       "      <td>1</td>\n",
       "      <td>0</td>\n",
       "      <td>PC 17599</td>\n",
       "      <td>71.2833</td>\n",
       "      <td>C85</td>\n",
       "      <td>C</td>\n",
       "    </tr>\n",
       "    <tr>\n",
       "      <th>2</th>\n",
       "      <td>3</td>\n",
       "      <td>1</td>\n",
       "      <td>3</td>\n",
       "      <td>Heikkinen, Miss. Laina</td>\n",
       "      <td>female</td>\n",
       "      <td>26.0</td>\n",
       "      <td>0</td>\n",
       "      <td>0</td>\n",
       "      <td>STON/O2. 3101282</td>\n",
       "      <td>7.9250</td>\n",
       "      <td>NaN</td>\n",
       "      <td>S</td>\n",
       "    </tr>\n",
       "    <tr>\n",
       "      <th>3</th>\n",
       "      <td>4</td>\n",
       "      <td>1</td>\n",
       "      <td>1</td>\n",
       "      <td>Futrelle, Mrs. Jacques Heath (Lily May Peel)</td>\n",
       "      <td>female</td>\n",
       "      <td>35.0</td>\n",
       "      <td>1</td>\n",
       "      <td>0</td>\n",
       "      <td>113803</td>\n",
       "      <td>53.1000</td>\n",
       "      <td>C123</td>\n",
       "      <td>S</td>\n",
       "    </tr>\n",
       "    <tr>\n",
       "      <th>4</th>\n",
       "      <td>5</td>\n",
       "      <td>0</td>\n",
       "      <td>3</td>\n",
       "      <td>Allen, Mr. William Henry</td>\n",
       "      <td>male</td>\n",
       "      <td>35.0</td>\n",
       "      <td>0</td>\n",
       "      <td>0</td>\n",
       "      <td>373450</td>\n",
       "      <td>8.0500</td>\n",
       "      <td>NaN</td>\n",
       "      <td>S</td>\n",
       "    </tr>\n",
       "  </tbody>\n",
       "</table>\n",
       "</div>"
      ],
      "text/plain": [
       "   PassengerId  Survived  Pclass  \\\n",
       "0            1         0       3   \n",
       "1            2         1       1   \n",
       "2            3         1       3   \n",
       "3            4         1       1   \n",
       "4            5         0       3   \n",
       "\n",
       "                                                Name     Sex   Age  SibSp  \\\n",
       "0                            Braund, Mr. Owen Harris    male  22.0      1   \n",
       "1  Cumings, Mrs. John Bradley (Florence Briggs Th...  female  38.0      1   \n",
       "2                             Heikkinen, Miss. Laina  female  26.0      0   \n",
       "3       Futrelle, Mrs. Jacques Heath (Lily May Peel)  female  35.0      1   \n",
       "4                           Allen, Mr. William Henry    male  35.0      0   \n",
       "\n",
       "   Parch            Ticket     Fare Cabin Embarked  \n",
       "0      0         A/5 21171   7.2500   NaN        S  \n",
       "1      0          PC 17599  71.2833   C85        C  \n",
       "2      0  STON/O2. 3101282   7.9250   NaN        S  \n",
       "3      0            113803  53.1000  C123        S  \n",
       "4      0            373450   8.0500   NaN        S  "
      ]
     },
     "execution_count": 200,
     "metadata": {},
     "output_type": "execute_result"
    }
   ],
   "source": [
    "train_df.head() # Preview of the train data"
   ]
  },
  {
   "cell_type": "markdown",
   "metadata": {
    "id": "IJvAW-cTd5_k"
   },
   "source": [
    "### **Test Data:**"
   ]
  },
  {
   "cell_type": "code",
   "execution_count": 201,
   "metadata": {
    "id": "K4iTtIy8dNOa",
    "outputId": "c1d3d14c-bf69-4312-dd76-c4d6775abbf8"
   },
   "outputs": [
    {
     "name": "stdout",
     "output_type": "stream",
     "text": [
      "There are 418 samples\n",
      "There are 11 features\n"
     ]
    }
   ],
   "source": [
    "print('There are {} samples'.format(test_df.shape[0]))  # Number of samples\n",
    "print('There are {} features'.format(test_df.shape[1])) # Number of features"
   ]
  },
  {
   "cell_type": "code",
   "execution_count": 202,
   "metadata": {
    "id": "XmZGPGGndN15",
    "outputId": "9d62e0ad-71e3-4a45-9a42-8e1f696c2fe5"
   },
   "outputs": [
    {
     "data": {
      "text/html": [
       "<div>\n",
       "<style scoped>\n",
       "    .dataframe tbody tr th:only-of-type {\n",
       "        vertical-align: middle;\n",
       "    }\n",
       "\n",
       "    .dataframe tbody tr th {\n",
       "        vertical-align: top;\n",
       "    }\n",
       "\n",
       "    .dataframe thead th {\n",
       "        text-align: right;\n",
       "    }\n",
       "</style>\n",
       "<table border=\"1\" class=\"dataframe\">\n",
       "  <thead>\n",
       "    <tr style=\"text-align: right;\">\n",
       "      <th></th>\n",
       "      <th>PassengerId</th>\n",
       "      <th>Pclass</th>\n",
       "      <th>Name</th>\n",
       "      <th>Sex</th>\n",
       "      <th>Age</th>\n",
       "      <th>SibSp</th>\n",
       "      <th>Parch</th>\n",
       "      <th>Ticket</th>\n",
       "      <th>Fare</th>\n",
       "      <th>Cabin</th>\n",
       "      <th>Embarked</th>\n",
       "    </tr>\n",
       "  </thead>\n",
       "  <tbody>\n",
       "    <tr>\n",
       "      <th>0</th>\n",
       "      <td>892</td>\n",
       "      <td>3</td>\n",
       "      <td>Kelly, Mr. James</td>\n",
       "      <td>male</td>\n",
       "      <td>34.5</td>\n",
       "      <td>0</td>\n",
       "      <td>0</td>\n",
       "      <td>330911</td>\n",
       "      <td>7.8292</td>\n",
       "      <td>NaN</td>\n",
       "      <td>Q</td>\n",
       "    </tr>\n",
       "    <tr>\n",
       "      <th>1</th>\n",
       "      <td>893</td>\n",
       "      <td>3</td>\n",
       "      <td>Wilkes, Mrs. James (Ellen Needs)</td>\n",
       "      <td>female</td>\n",
       "      <td>47.0</td>\n",
       "      <td>1</td>\n",
       "      <td>0</td>\n",
       "      <td>363272</td>\n",
       "      <td>7.0000</td>\n",
       "      <td>NaN</td>\n",
       "      <td>S</td>\n",
       "    </tr>\n",
       "    <tr>\n",
       "      <th>2</th>\n",
       "      <td>894</td>\n",
       "      <td>2</td>\n",
       "      <td>Myles, Mr. Thomas Francis</td>\n",
       "      <td>male</td>\n",
       "      <td>62.0</td>\n",
       "      <td>0</td>\n",
       "      <td>0</td>\n",
       "      <td>240276</td>\n",
       "      <td>9.6875</td>\n",
       "      <td>NaN</td>\n",
       "      <td>Q</td>\n",
       "    </tr>\n",
       "    <tr>\n",
       "      <th>3</th>\n",
       "      <td>895</td>\n",
       "      <td>3</td>\n",
       "      <td>Wirz, Mr. Albert</td>\n",
       "      <td>male</td>\n",
       "      <td>27.0</td>\n",
       "      <td>0</td>\n",
       "      <td>0</td>\n",
       "      <td>315154</td>\n",
       "      <td>8.6625</td>\n",
       "      <td>NaN</td>\n",
       "      <td>S</td>\n",
       "    </tr>\n",
       "    <tr>\n",
       "      <th>4</th>\n",
       "      <td>896</td>\n",
       "      <td>3</td>\n",
       "      <td>Hirvonen, Mrs. Alexander (Helga E Lindqvist)</td>\n",
       "      <td>female</td>\n",
       "      <td>22.0</td>\n",
       "      <td>1</td>\n",
       "      <td>1</td>\n",
       "      <td>3101298</td>\n",
       "      <td>12.2875</td>\n",
       "      <td>NaN</td>\n",
       "      <td>S</td>\n",
       "    </tr>\n",
       "  </tbody>\n",
       "</table>\n",
       "</div>"
      ],
      "text/plain": [
       "   PassengerId  Pclass                                          Name     Sex  \\\n",
       "0          892       3                              Kelly, Mr. James    male   \n",
       "1          893       3              Wilkes, Mrs. James (Ellen Needs)  female   \n",
       "2          894       2                     Myles, Mr. Thomas Francis    male   \n",
       "3          895       3                              Wirz, Mr. Albert    male   \n",
       "4          896       3  Hirvonen, Mrs. Alexander (Helga E Lindqvist)  female   \n",
       "\n",
       "    Age  SibSp  Parch   Ticket     Fare Cabin Embarked  \n",
       "0  34.5      0      0   330911   7.8292   NaN        Q  \n",
       "1  47.0      1      0   363272   7.0000   NaN        S  \n",
       "2  62.0      0      0   240276   9.6875   NaN        Q  \n",
       "3  27.0      0      0   315154   8.6625   NaN        S  \n",
       "4  22.0      1      1  3101298  12.2875   NaN        S  "
      ]
     },
     "execution_count": 202,
     "metadata": {},
     "output_type": "execute_result"
    }
   ],
   "source": [
    "test_df.head() # Preview of the train data"
   ]
  },
  {
   "cell_type": "markdown",
   "metadata": {
    "id": "rZ4gxXGxeafJ"
   },
   "source": [
    "## **Intresting info (Train data):**\n"
   ]
  },
  {
   "cell_type": "markdown",
   "metadata": {
    "id": "k6teNns8ebvA"
   },
   "source": [
    "* There are more male Survivors than female.\n",
    "\n",
    "\n"
   ]
  },
  {
   "cell_type": "code",
   "execution_count": 203,
   "metadata": {
    "id": "MUTGMLMpoXmZ",
    "outputId": "cca2ad37-8965-4df1-9ff7-ebd79d4a8b57"
   },
   "outputs": [
    {
     "data": {
      "text/plain": [
       "<matplotlib.axes._subplots.AxesSubplot at 0x7f8e97fe0390>"
      ]
     },
     "execution_count": 203,
     "metadata": {},
     "output_type": "execute_result"
    },
    {
     "data": {
      "image/png": "[encoded data removed]",
      "text/plain": [
       "<Figure size 432x288 with 1 Axes>"
      ]
     },
     "metadata": {},
     "output_type": "display_data"
    }
   ],
   "source": [
    "sns.set_style('whitegrid')\n",
    "sns.countplot(x='Survived',hue='Sex',data=train_df,palette='pastel')"
   ]
  },
  {
   "cell_type": "markdown",
   "metadata": {
    "id": "__SyhtikrOYM"
   },
   "source": [
    "* There are more Survivors from P3's class then from other classes."
   ]
  },
  {
   "cell_type": "code",
   "execution_count": 204,
   "metadata": {
    "id": "m1hOsnArrPjS",
    "outputId": "333d810e-1005-4f62-fb8c-f4d3e4d3cedc"
   },
   "outputs": [
    {
     "data": {
      "text/plain": [
       "<matplotlib.axes._subplots.AxesSubplot at 0x7f8e97fec590>"
      ]
     },
     "execution_count": 204,
     "metadata": {},
     "output_type": "execute_result"
    },
    {
     "data": {
      "image/png": "[encoded data removed]",
      "text/plain": [
       "<Figure size 432x288 with 1 Axes>"
      ]
     },
     "metadata": {},
     "output_type": "display_data"
    }
   ],
   "source": [
    "sns.countplot(x='Survived',hue='Pclass',data=train_df,palette='pastel')"
   ]
  },
  {
   "cell_type": "markdown",
   "metadata": {
    "id": "XjcvGgd2ebUk"
   },
   "source": [
    "* Survival Count based on Age\n"
   ]
  },
  {
   "cell_type": "code",
   "execution_count": 205,
   "metadata": {
    "id": "8U5_YwRHrOMX",
    "outputId": "0297aaae-d743-4164-8c23-d994c6ffad30"
   },
   "outputs": [
    {
     "data": {
      "text/plain": [
       "<seaborn.axisgrid.FacetGrid at 0x7f8e97e09fd0>"
      ]
     },
     "execution_count": 205,
     "metadata": {},
     "output_type": "execute_result"
    },
    {
     "data": {
      "image/png": "[encoded data removed]",
      "text/plain": [
       "<Figure size 432x216 with 2 Axes>"
      ]
     },
     "metadata": {},
     "output_type": "display_data"
    }
   ],
   "source": [
    "sns.FacetGrid(train_df, col='Survived', palette='pastel').map(plt.hist, 'Age', bins=20)"
   ]
  },
  {
   "cell_type": "markdown",
   "metadata": {
    "id": "ulQiFt4wsswg"
   },
   "source": [
    "## **Data Quality & Missing Value Assessment**\n"
   ]
  },
  {
   "cell_type": "code",
   "execution_count": 206,
   "metadata": {
    "id": "373Y7ncWwhm4",
    "outputId": "41feba25-f18c-43bf-96f8-12d50ce1a947"
   },
   "outputs": [
    {
     "data": {
      "text/plain": [
       "PassengerId      0\n",
       "Survived         0\n",
       "Pclass           0\n",
       "Name             0\n",
       "Sex              0\n",
       "Age            177\n",
       "SibSp            0\n",
       "Parch            0\n",
       "Ticket           0\n",
       "Fare             0\n",
       "Cabin          687\n",
       "Embarked         2\n",
       "dtype: int64"
      ]
     },
     "execution_count": 206,
     "metadata": {},
     "output_type": "execute_result"
    }
   ],
   "source": [
    "# Checking the nuber of missing values in our df\n",
    "train_df.isnull().sum()"
   ]
  },
  {
   "cell_type": "markdown",
   "metadata": {
    "id": "5HKRaQPPwq2-"
   },
   "source": [
    "As we can see, There are missing values in Age and Cabin features. \\\n",
    "The Embarked is extrimly low (2 of more than 800), so we will fill this data preposition. \\\n",
    "Let's check if we can use those features: "
   ]
  },
  {
   "cell_type": "markdown",
   "metadata": {
    "id": "2p5_kjZkvm9Z"
   },
   "source": [
    "### **Cabin**"
   ]
  },
  {
   "cell_type": "code",
   "execution_count": 207,
   "metadata": {
    "id": "gY31jmWqxCwO",
    "outputId": "fbae9e1e-92ca-4595-fa91-2cf78ec10156"
   },
   "outputs": [
    {
     "name": "stdout",
     "output_type": "stream",
     "text": [
      "Percent of missing \"Cabin\" records is 77.10437710437711\n"
     ]
    }
   ],
   "source": [
    "cabin_mis = (train_df['Cabin'].isnull().sum()/train_df.shape[0])*100\n",
    "print(f'Percent of missing \"Cabin\" records is {cabin_mis}')"
   ]
  },
  {
   "cell_type": "markdown",
   "metadata": {
    "id": "O1nACYMnvmdW"
   },
   "source": [
    "The \"Cabin\" feature's missing record is to high to estimate - that's why we will *drop* that data "
   ]
  },
  {
   "cell_type": "markdown",
   "metadata": {
    "id": "japLRdeH6TZo"
   },
   "source": [
    "### **Age**"
   ]
  },
  {
   "cell_type": "code",
   "execution_count": 208,
   "metadata": {
    "id": "zssx2j3ksuoE",
    "outputId": "249a93b0-dc76-42ed-dcbd-0854aa0cd27e"
   },
   "outputs": [
    {
     "name": "stdout",
     "output_type": "stream",
     "text": [
      "Percent of missing \"Age\" records is 19.865319865319865\n"
     ]
    }
   ],
   "source": [
    "age_mis = (train_df['Age'].isnull().sum()/train_df.shape[0])*100\n",
    "print(f'Percent of missing \"Age\" records is {age_mis}')"
   ]
  },
  {
   "cell_type": "markdown",
   "metadata": {
    "id": "AnFwclAf6oIO"
   },
   "source": [
    "The \"Age\" feature's missing record can be handled."
   ]
  },
  {
   "cell_type": "markdown",
   "metadata": {
    "id": "BGrlzDTS8aiK"
   },
   "source": [
    "Age properties:"
   ]
  },
  {
   "cell_type": "code",
   "execution_count": 209,
   "metadata": {
    "id": "DOf8mGBx7YJR",
    "outputId": "797c8d82-02c9-413f-f592-601c7b9085c2"
   },
   "outputs": [
    {
     "data": {
      "image/png": "[encoded data removed]",
      "text/plain": [
       "<Figure size 360x360 with 1 Axes>"
      ]
     },
     "metadata": {},
     "output_type": "display_data"
    }
   ],
   "source": [
    "plt.figure(figsize=(5,5))\n",
    "ax = train_df[\"Age\"].hist(bins=15, density=True, stacked=True, color='coral', alpha=0.6)\n",
    "train_df[\"Age\"].plot(kind='density', color='salmon')\n",
    "ax.set(xlabel='Age')\n",
    "plt.xlim(-10,100)\n",
    "plt.grid()\n",
    "plt.show()"
   ]
  },
  {
   "cell_type": "code",
   "execution_count": 210,
   "metadata": {
    "id": "a8k8zc4-7Yu4",
    "outputId": "ba83cfb0-129a-4843-c2bb-d8205a58fd27"
   },
   "outputs": [
    {
     "name": "stdout",
     "output_type": "stream",
     "text": [
      "the mean age in train_df is: 29.69911764705882\n",
      "the median age in train_df is : 28.0\n"
     ]
    }
   ],
   "source": [
    "age_mean = train_df['Age'].mean(skipna=True) # Age mean\n",
    "age_median = train_df['Age'].median(skipna=True)\n",
    "print(f'the mean age in train_df is: {age_mean}')\n",
    "print(f'the median age in train_df is : {age_median}')"
   ]
  },
  {
   "cell_type": "markdown",
   "metadata": {
    "id": "RO8zy8hx-zKT"
   },
   "source": [
    "## **Select Relevant Features & Making Final Adjusment**\n",
    "\n",
    "At this point, we will drop irrellevant data: \\\n",
    "* I'll start by inserting rellevant data to null cabin and embarked.\n",
    "* To ease, I'll union both SibSp and Parch columns to 1 column - if the person was traveling with a family.\n",
    "* I will finish by dropping all columns that seems irrellevant to me ( \"Name\",\"PassengerId\", \"Ticket\")."
   ]
  },
  {
   "cell_type": "code",
   "execution_count": 211,
   "metadata": {
    "id": "XS1JGHUv7ZWV",
    "outputId": "447d95ad-e9b7-458c-82ee-b17ac7efbebb"
   },
   "outputs": [
    {
     "data": {
      "text/html": [
       "<div>\n",
       "<style scoped>\n",
       "    .dataframe tbody tr th:only-of-type {\n",
       "        vertical-align: middle;\n",
       "    }\n",
       "\n",
       "    .dataframe tbody tr th {\n",
       "        vertical-align: top;\n",
       "    }\n",
       "\n",
       "    .dataframe thead th {\n",
       "        text-align: right;\n",
       "    }\n",
       "</style>\n",
       "<table border=\"1\" class=\"dataframe\">\n",
       "  <thead>\n",
       "    <tr style=\"text-align: right;\">\n",
       "      <th></th>\n",
       "      <th>Survived</th>\n",
       "      <th>Age</th>\n",
       "      <th>Fare</th>\n",
       "      <th>TravelAlone</th>\n",
       "      <th>Pclass_1</th>\n",
       "      <th>Pclass_2</th>\n",
       "      <th>Pclass_3</th>\n",
       "      <th>Embarked_C</th>\n",
       "      <th>Embarked_Q</th>\n",
       "      <th>Embarked_S</th>\n",
       "      <th>Sex_male</th>\n",
       "    </tr>\n",
       "  </thead>\n",
       "  <tbody>\n",
       "    <tr>\n",
       "      <th>0</th>\n",
       "      <td>0</td>\n",
       "      <td>22.0</td>\n",
       "      <td>7.2500</td>\n",
       "      <td>0</td>\n",
       "      <td>0</td>\n",
       "      <td>0</td>\n",
       "      <td>1</td>\n",
       "      <td>0</td>\n",
       "      <td>0</td>\n",
       "      <td>1</td>\n",
       "      <td>1</td>\n",
       "    </tr>\n",
       "    <tr>\n",
       "      <th>1</th>\n",
       "      <td>1</td>\n",
       "      <td>38.0</td>\n",
       "      <td>71.2833</td>\n",
       "      <td>0</td>\n",
       "      <td>1</td>\n",
       "      <td>0</td>\n",
       "      <td>0</td>\n",
       "      <td>1</td>\n",
       "      <td>0</td>\n",
       "      <td>0</td>\n",
       "      <td>0</td>\n",
       "    </tr>\n",
       "    <tr>\n",
       "      <th>2</th>\n",
       "      <td>1</td>\n",
       "      <td>26.0</td>\n",
       "      <td>7.9250</td>\n",
       "      <td>1</td>\n",
       "      <td>0</td>\n",
       "      <td>0</td>\n",
       "      <td>1</td>\n",
       "      <td>0</td>\n",
       "      <td>0</td>\n",
       "      <td>1</td>\n",
       "      <td>0</td>\n",
       "    </tr>\n",
       "    <tr>\n",
       "      <th>3</th>\n",
       "      <td>1</td>\n",
       "      <td>35.0</td>\n",
       "      <td>53.1000</td>\n",
       "      <td>0</td>\n",
       "      <td>1</td>\n",
       "      <td>0</td>\n",
       "      <td>0</td>\n",
       "      <td>0</td>\n",
       "      <td>0</td>\n",
       "      <td>1</td>\n",
       "      <td>0</td>\n",
       "    </tr>\n",
       "    <tr>\n",
       "      <th>4</th>\n",
       "      <td>0</td>\n",
       "      <td>35.0</td>\n",
       "      <td>8.0500</td>\n",
       "      <td>1</td>\n",
       "      <td>0</td>\n",
       "      <td>0</td>\n",
       "      <td>1</td>\n",
       "      <td>0</td>\n",
       "      <td>0</td>\n",
       "      <td>1</td>\n",
       "      <td>1</td>\n",
       "    </tr>\n",
       "  </tbody>\n",
       "</table>\n",
       "</div>"
      ],
      "text/plain": [
       "   Survived   Age     Fare  TravelAlone  Pclass_1  Pclass_2  Pclass_3  \\\n",
       "0         0  22.0   7.2500            0         0         0         1   \n",
       "1         1  38.0  71.2833            0         1         0         0   \n",
       "2         1  26.0   7.9250            1         0         0         1   \n",
       "3         1  35.0  53.1000            0         1         0         0   \n",
       "4         0  35.0   8.0500            1         0         0         1   \n",
       "\n",
       "   Embarked_C  Embarked_Q  Embarked_S  Sex_male  \n",
       "0           0           0           1         1  \n",
       "1           1           0           0         0  \n",
       "2           0           0           1         0  \n",
       "3           0           0           1         0  \n",
       "4           0           0           1         1  "
      ]
     },
     "execution_count": 211,
     "metadata": {},
     "output_type": "execute_result"
    }
   ],
   "source": [
    "train_dat = train_df.copy()\n",
    "train_dat[\"Embarked\"].fillna(train_df['Embarked'].value_counts().idxmax(), inplace=True) \n",
    "train_dat[\"Age\"].fillna(train_df[\"Age\"].median(skipna=True), inplace=True) # Insert null ages as median\n",
    "train_dat.drop('Cabin', axis=1, inplace=True)                              # Drops the Cabin value\n",
    "\n",
    "train_dat['TravelAlone']=np.where((train_dat[\"SibSp\"]+train_dat[\"Parch\"])>0, 0, 1)\n",
    "train_dat.drop('SibSp', axis=1, inplace=True)                              \n",
    "train_dat.drop('Parch', axis=1, inplace=True)\n",
    "\n",
    "train_t=pd.get_dummies(train_dat, columns=[\"Pclass\",\"Embarked\",\"Sex\"])\n",
    "train_t.drop('Sex_female', axis=1, inplace=True)\n",
    "train_t.drop('PassengerId', axis=1, inplace=True)\n",
    "train_t.drop('Name', axis=1, inplace=True)\n",
    "train_t.drop('Ticket', axis=1, inplace=True)\n",
    "\n",
    "train_fin = train_t\n",
    "train_fin.head()"
   ]
  },
  {
   "cell_type": "markdown",
   "metadata": {
    "id": "jzLqmpVuFVbT"
   },
   "source": [
    "## **Exploring Data**"
   ]
  },
  {
   "cell_type": "markdown",
   "metadata": {
    "id": "qY55K5S_FcG-"
   },
   "source": [
    "### **Exploring Survival Rate (by Age)**"
   ]
  },
  {
   "cell_type": "code",
   "execution_count": 212,
   "metadata": {
    "id": "tziikfuHFa96",
    "outputId": "e56725e7-fe24-48c3-8ad4-916c6cdb61c4"
   },
   "outputs": [
    {
     "data": {
      "image/png": "[encoded data removed]",
      "text/plain": [
       "<Figure size 1080x576 with 1 Axes>"
      ]
     },
     "metadata": {},
     "output_type": "display_data"
    }
   ],
   "source": [
    "plt.figure(figsize=(15,8))\n",
    "ax = sns.kdeplot(train_fin[\"Age\"][train_fin.Survived == 1], color=\"teal\", shade=True)\n",
    "sns.kdeplot(train_fin[\"Age\"][train_fin.Survived == 0], color=\"lightcoral\", shade=True)\n",
    "plt.legend(['Survived', 'Died'])\n",
    "plt.title('Density Plot for Surviving Population and Deceased Population by Age:')\n",
    "ax.set(xlabel='Age')\n",
    "plt.xlim(-10,85)\n",
    "plt.show()"
   ]
  },
  {
   "cell_type": "markdown",
   "metadata": {
    "id": "rLxG2vAhGmp8"
   },
   "source": [
    "Over all ages distibution, the survival chances are relatively similar,\n",
    "but at ages 16 or lower the chances of survival are better.\\\n",
    "The reason might be caused by the fact that *kids's ability to embrace changes* is better than adults ability, \\\n",
    "or because most kids (if not all of them) came to the cruise with their families, *so their parents took care of them first*. "
   ]
  },
  {
   "cell_type": "markdown",
   "metadata": {
    "id": "bgBQi1IQIEk5"
   },
   "source": [
    "### **Exploring Survival Rate (by fare cost)**\n"
   ]
  },
  {
   "cell_type": "code",
   "execution_count": 213,
   "metadata": {
    "id": "z3ylufkaFUxv",
    "outputId": "1ad28f5d-670d-45be-960a-f169114124e3"
   },
   "outputs": [
    {
     "data": {
      "image/png": "[encoded data removed]",
      "text/plain": [
       "<Figure size 1080x576 with 1 Axes>"
      ]
     },
     "metadata": {},
     "output_type": "display_data"
    }
   ],
   "source": [
    "plt.figure(figsize=(15,8))\n",
    "ax = sns.kdeplot(train_fin[\"Fare\"][train_fin.Survived == 1], color=\"green\", shade=True)\n",
    "sns.kdeplot(train_fin[\"Fare\"][train_fin.Survived == 0],color=\"purple\", shade=True)\n",
    "plt.legend(['Survived', 'Died'])\n",
    "plt.title('Density Plot for Surviving Population and Deceased Population by Fare Cost:')\n",
    "ax.set(xlabel='Fare')\n",
    "plt.xlim(-20,200)\n",
    "plt.show()"
   ]
  },
  {
   "cell_type": "markdown",
   "metadata": {
    "id": "eEc26cY3JIiE"
   },
   "source": [
    "### **Exploring Survival Rate (by Classes)**"
   ]
  },
  {
   "cell_type": "code",
   "execution_count": 214,
   "metadata": {
    "id": "FMXJVrQnJdlV",
    "outputId": "9a3d8fc6-c097-44b6-b1bb-87db9ac4c6be"
   },
   "outputs": [
    {
     "data": {
      "text/plain": [
       "<matplotlib.axes._subplots.AxesSubplot at 0x7f8e9c04d9d0>"
      ]
     },
     "execution_count": 214,
     "metadata": {},
     "output_type": "execute_result"
    },
    {
     "data": {
      "image/png": "[encoded data removed]",
      "text/plain": [
       "<Figure size 576x576 with 1 Axes>"
      ]
     },
     "metadata": {},
     "output_type": "display_data"
    }
   ],
   "source": [
    "plt.figure(figsize=(8,8))\n",
    "plt.title(\"Surviving Population by classes\")\n",
    "sns.barplot('Pclass', 'Survived', data=train_df, palette=\"pastel\", hue=\"Pclass\")"
   ]
  },
  {
   "cell_type": "markdown",
   "metadata": {
    "id": "qljyVJAnKGIe"
   },
   "source": [
    "As we can see, 1st class population, have better chance to survive."
   ]
  },
  {
   "cell_type": "markdown",
   "metadata": {
    "id": "Iv7cpCQZKFur"
   },
   "source": [
    "### **Exploring Survival Rate (by Gender)**"
   ]
  },
  {
   "cell_type": "code",
   "execution_count": 215,
   "metadata": {
    "id": "3fn6NoUwKrFE",
    "outputId": "db599e96-87e6-4387-d0cf-b0b4db6d467b"
   },
   "outputs": [
    {
     "data": {
      "image/png": "[encoded data removed]",
      "text/plain": [
       "<Figure size 576x576 with 1 Axes>"
      ]
     },
     "metadata": {},
     "output_type": "display_data"
    }
   ],
   "source": [
    "plt.figure(figsize=(8,8))\n",
    "sns.barplot('Sex', 'Survived', data=train_df, palette=\"pastel\", hue=\"Sex\")\n",
    "plt.show()"
   ]
  },
  {
   "cell_type": "markdown",
   "metadata": {
    "id": "xTVTImfUKqzy"
   },
   "source": [
    "### **Explore Survival Rate (by Embarked Port)**"
   ]
  },
  {
   "cell_type": "code",
   "execution_count": 216,
   "metadata": {
    "id": "i-qJk3PoLTep",
    "outputId": "0143eb41-180e-4fe8-84f7-d74ee2040fd0"
   },
   "outputs": [
    {
     "data": {
      "image/png": "[encoded data removed]",
      "text/plain": [
       "<Figure size 576x576 with 1 Axes>"
      ]
     },
     "metadata": {},
     "output_type": "display_data"
    }
   ],
   "source": [
    "plt.figure(figsize=(8,8))\n",
    "sns.barplot('Embarked', 'Survived', data=train_df, palette=\"pastel\", hue=\"Embarked\")\n",
    "plt.show()"
   ]
  },
  {
   "cell_type": "code",
   "execution_count": 217,
   "metadata": {
    "id": "f4inWeAMMFIK",
    "outputId": "cbb4a847-3df0-4c41-a1e1-587334b061fe"
   },
   "outputs": [
    {
     "data": {
      "text/plain": [
       "S    644\n",
       "C    168\n",
       "Q     77\n",
       "Name: Embarked, dtype: int64"
      ]
     },
     "execution_count": 217,
     "metadata": {},
     "output_type": "execute_result"
    }
   ],
   "source": [
    "train_df[\"Embarked\"].value_counts()"
   ]
  },
  {
   "cell_type": "markdown",
   "metadata": {
    "id": "dI3dVm0gL_tl"
   },
   "source": [
    "If you came from Cherbourg there your chances to survive are bigger \\\n",
    "then the other Embarked ports, but least of the people embarked from Cherbourg."
   ]
  },
  {
   "cell_type": "markdown",
   "metadata": {
    "id": "NXKiXWKZMxgC"
   },
   "source": [
    "### **Explore Survival Rate (by Traveling Alone)**"
   ]
  },
  {
   "cell_type": "code",
   "execution_count": 218,
   "metadata": {
    "id": "pTwjs0wwMxAB",
    "outputId": "d6dda9ad-a1fc-4077-fd17-abacc7192f48"
   },
   "outputs": [
    {
     "data": {
      "image/png": "[encoded data removed]",
      "text/plain": [
       "<Figure size 576x576 with 1 Axes>"
      ]
     },
     "metadata": {},
     "output_type": "display_data"
    }
   ],
   "source": [
    "plt.figure(figsize=(8,8))\n",
    "sns.barplot('TravelAlone', 'Survived', data=train_fin, palette=\"pastel\", hue=\"TravelAlone\")\n",
    "plt.show()"
   ]
  },
  {
   "cell_type": "markdown",
   "metadata": {
    "id": "j467YxphNYDe"
   },
   "source": [
    "It's seems like your chances to survive is if you came with a family."
   ]
  },
  {
   "cell_type": "markdown",
   "metadata": {
    "id": "9z9qxth2N1vG"
   },
   "source": [
    "## **Correlation**\n"
   ]
  },
  {
   "cell_type": "code",
   "execution_count": 219,
   "metadata": {
    "id": "1BFhde4HOUIV",
    "outputId": "c749fbd4-0512-43b0-93f5-14338275f0a3"
   },
   "outputs": [
    {
     "data": {
      "image/png": "[encoded data removed]",
      "text/plain": [
       "<Figure size 1440x720 with 2 Axes>"
      ]
     },
     "metadata": {},
     "output_type": "display_data"
    }
   ],
   "source": [
    "plt.figure(figsize=(20,10))\n",
    "cor = train_fin.corr()\n",
    "train_df.corr()\n",
    "sns.heatmap(cor, annot=True, cmap = plt.cm.Reds, vmin=0, vmax=1)\n",
    "plt.show()"
   ]
  },
  {
   "cell_type": "markdown",
   "metadata": {
    "id": "yo3XxG_SOaKg"
   },
   "source": [
    "We can notice strong correlation between some fatures: \\\n",
    "* Fare and Pclass_1 |0.59|\n",
    "* Age and Pclass_1 |0.32|\n",
    "* Survived and Sex_male |-0.54|\n",
    "* Sex_male and TravelAlone |0.3| \n",
    "\n",
    "\n",
    "We could see strong relatinship between difftent fetures, such as: \n",
    "* Most of people who bught more expansive tickets are in Pclass_1.\n",
    "* People who paid higher fare has better surviving rate.\n",
    "* It's more likely that men are traveling alone then women.\n",
    "* Women has have better surviving rate."
   ]
  },
  {
   "cell_type": "markdown",
   "metadata": {
    "id": "l6zNlmqkP1HU"
   },
   "source": [
    "## **Preparing the Test Set**"
   ]
  },
  {
   "cell_type": "code",
   "execution_count": 220,
   "metadata": {
    "id": "P86BlZbdQPy4",
    "outputId": "f6d05eae-b01b-4e11-bbab-5c8fc5d98ece"
   },
   "outputs": [
    {
     "data": {
      "text/html": [
       "<div>\n",
       "<style scoped>\n",
       "    .dataframe tbody tr th:only-of-type {\n",
       "        vertical-align: middle;\n",
       "    }\n",
       "\n",
       "    .dataframe tbody tr th {\n",
       "        vertical-align: top;\n",
       "    }\n",
       "\n",
       "    .dataframe thead th {\n",
       "        text-align: right;\n",
       "    }\n",
       "</style>\n",
       "<table border=\"1\" class=\"dataframe\">\n",
       "  <thead>\n",
       "    <tr style=\"text-align: right;\">\n",
       "      <th></th>\n",
       "      <th>Age</th>\n",
       "      <th>Fare</th>\n",
       "      <th>TravelAlone</th>\n",
       "      <th>Pclass_1</th>\n",
       "      <th>Pclass_2</th>\n",
       "      <th>Pclass_3</th>\n",
       "      <th>Embarked_C</th>\n",
       "      <th>Embarked_Q</th>\n",
       "      <th>Embarked_S</th>\n",
       "      <th>Sex_male</th>\n",
       "    </tr>\n",
       "  </thead>\n",
       "  <tbody>\n",
       "    <tr>\n",
       "      <th>0</th>\n",
       "      <td>34.5</td>\n",
       "      <td>7.8292</td>\n",
       "      <td>1</td>\n",
       "      <td>0</td>\n",
       "      <td>0</td>\n",
       "      <td>1</td>\n",
       "      <td>0</td>\n",
       "      <td>1</td>\n",
       "      <td>0</td>\n",
       "      <td>1</td>\n",
       "    </tr>\n",
       "    <tr>\n",
       "      <th>1</th>\n",
       "      <td>47.0</td>\n",
       "      <td>7.0000</td>\n",
       "      <td>0</td>\n",
       "      <td>0</td>\n",
       "      <td>0</td>\n",
       "      <td>1</td>\n",
       "      <td>0</td>\n",
       "      <td>0</td>\n",
       "      <td>1</td>\n",
       "      <td>0</td>\n",
       "    </tr>\n",
       "    <tr>\n",
       "      <th>2</th>\n",
       "      <td>62.0</td>\n",
       "      <td>9.6875</td>\n",
       "      <td>1</td>\n",
       "      <td>0</td>\n",
       "      <td>1</td>\n",
       "      <td>0</td>\n",
       "      <td>0</td>\n",
       "      <td>1</td>\n",
       "      <td>0</td>\n",
       "      <td>1</td>\n",
       "    </tr>\n",
       "    <tr>\n",
       "      <th>3</th>\n",
       "      <td>27.0</td>\n",
       "      <td>8.6625</td>\n",
       "      <td>1</td>\n",
       "      <td>0</td>\n",
       "      <td>0</td>\n",
       "      <td>1</td>\n",
       "      <td>0</td>\n",
       "      <td>0</td>\n",
       "      <td>1</td>\n",
       "      <td>1</td>\n",
       "    </tr>\n",
       "    <tr>\n",
       "      <th>4</th>\n",
       "      <td>22.0</td>\n",
       "      <td>12.2875</td>\n",
       "      <td>0</td>\n",
       "      <td>0</td>\n",
       "      <td>0</td>\n",
       "      <td>1</td>\n",
       "      <td>0</td>\n",
       "      <td>0</td>\n",
       "      <td>1</td>\n",
       "      <td>0</td>\n",
       "    </tr>\n",
       "  </tbody>\n",
       "</table>\n",
       "</div>"
      ],
      "text/plain": [
       "    Age     Fare  TravelAlone  Pclass_1  Pclass_2  Pclass_3  Embarked_C  \\\n",
       "0  34.5   7.8292            1         0         0         1           0   \n",
       "1  47.0   7.0000            0         0         0         1           0   \n",
       "2  62.0   9.6875            1         0         1         0           0   \n",
       "3  27.0   8.6625            1         0         0         1           0   \n",
       "4  22.0  12.2875            0         0         0         1           0   \n",
       "\n",
       "   Embarked_Q  Embarked_S  Sex_male  \n",
       "0           1           0         1  \n",
       "1           0           1         0  \n",
       "2           1           0         1  \n",
       "3           0           1         1  \n",
       "4           0           1         0  "
      ]
     },
     "execution_count": 220,
     "metadata": {},
     "output_type": "execute_result"
    }
   ],
   "source": [
    "test_dat = test_df.copy()\n",
    "\n",
    "# Filling missing values \n",
    "test_dat[\"Age\"].fillna(train_df[\"Age\"].median(skipna=True), inplace=True)\n",
    "test_dat[\"Fare\"].fillna(train_df[\"Fare\"].median(skipna=True), inplace=True)\n",
    "\n",
    "test_dat.drop('Cabin', axis=1, inplace=True) # Dropping Cabin column \n",
    "# Drop SibSp and Parch columns from the table and make TravelAlone column\n",
    "test_dat['TravelAlone']=np.where((test_dat[\"SibSp\"]+test_dat[\"Parch\"])>0, 0, 1)\n",
    "test_dat.drop('SibSp', axis=1, inplace=True)\n",
    "test_dat.drop('Parch', axis=1, inplace=True)\n",
    "\n",
    "test_t = pd.get_dummies(test_dat, columns=[\"Pclass\",\"Embarked\",\"Sex\"])\n",
    "test_t.drop('Sex_female', axis=1, inplace=True)\n",
    "test_t.drop('PassengerId', axis=1, inplace=True)\n",
    "test_t.drop('Name', axis=1, inplace=True)\n",
    "test_t.drop('Ticket', axis=1, inplace=True)\n",
    "\n",
    "# Final data\n",
    "test_fin = test_t\n",
    "test_fin.head()"
   ]
  },
  {
   "cell_type": "code",
   "execution_count": 221,
   "metadata": {
    "id": "v0ydgIsqReq6"
   },
   "outputs": [],
   "source": [
    "test_fin.drop('Embarked_S', axis=1, inplace=True)\n",
    "test_fin.drop('Pclass_2', axis=1, inplace=True)\n",
    "\n",
    "train_fin.drop('Embarked_S', axis=1, inplace=True)\n",
    "train_fin.drop('Pclass_2', axis=1, inplace=True)"
   ]
  },
  {
   "cell_type": "code",
   "execution_count": 222,
   "metadata": {
    "id": "ysO8-JosR7Qv",
    "outputId": "71c26886-729b-4ee4-ad8a-7fbca139abd5"
   },
   "outputs": [
    {
     "name": "stdout",
     "output_type": "stream",
     "text": [
      "x values:\n"
     ]
    },
    {
     "data": {
      "text/html": [
       "<div>\n",
       "<style scoped>\n",
       "    .dataframe tbody tr th:only-of-type {\n",
       "        vertical-align: middle;\n",
       "    }\n",
       "\n",
       "    .dataframe tbody tr th {\n",
       "        vertical-align: top;\n",
       "    }\n",
       "\n",
       "    .dataframe thead th {\n",
       "        text-align: right;\n",
       "    }\n",
       "</style>\n",
       "<table border=\"1\" class=\"dataframe\">\n",
       "  <thead>\n",
       "    <tr style=\"text-align: right;\">\n",
       "      <th></th>\n",
       "      <th>Age</th>\n",
       "      <th>Fare</th>\n",
       "      <th>TravelAlone</th>\n",
       "      <th>Pclass_1</th>\n",
       "      <th>Pclass_3</th>\n",
       "      <th>Embarked_C</th>\n",
       "      <th>Embarked_Q</th>\n",
       "      <th>Sex_male</th>\n",
       "    </tr>\n",
       "  </thead>\n",
       "  <tbody>\n",
       "    <tr>\n",
       "      <th>0</th>\n",
       "      <td>22.0</td>\n",
       "      <td>7.2500</td>\n",
       "      <td>0</td>\n",
       "      <td>0</td>\n",
       "      <td>1</td>\n",
       "      <td>0</td>\n",
       "      <td>0</td>\n",
       "      <td>1</td>\n",
       "    </tr>\n",
       "    <tr>\n",
       "      <th>1</th>\n",
       "      <td>38.0</td>\n",
       "      <td>71.2833</td>\n",
       "      <td>0</td>\n",
       "      <td>1</td>\n",
       "      <td>0</td>\n",
       "      <td>1</td>\n",
       "      <td>0</td>\n",
       "      <td>0</td>\n",
       "    </tr>\n",
       "    <tr>\n",
       "      <th>2</th>\n",
       "      <td>26.0</td>\n",
       "      <td>7.9250</td>\n",
       "      <td>1</td>\n",
       "      <td>0</td>\n",
       "      <td>1</td>\n",
       "      <td>0</td>\n",
       "      <td>0</td>\n",
       "      <td>0</td>\n",
       "    </tr>\n",
       "    <tr>\n",
       "      <th>3</th>\n",
       "      <td>35.0</td>\n",
       "      <td>53.1000</td>\n",
       "      <td>0</td>\n",
       "      <td>1</td>\n",
       "      <td>0</td>\n",
       "      <td>0</td>\n",
       "      <td>0</td>\n",
       "      <td>0</td>\n",
       "    </tr>\n",
       "    <tr>\n",
       "      <th>4</th>\n",
       "      <td>35.0</td>\n",
       "      <td>8.0500</td>\n",
       "      <td>1</td>\n",
       "      <td>0</td>\n",
       "      <td>1</td>\n",
       "      <td>0</td>\n",
       "      <td>0</td>\n",
       "      <td>1</td>\n",
       "    </tr>\n",
       "    <tr>\n",
       "      <th>...</th>\n",
       "      <td>...</td>\n",
       "      <td>...</td>\n",
       "      <td>...</td>\n",
       "      <td>...</td>\n",
       "      <td>...</td>\n",
       "      <td>...</td>\n",
       "      <td>...</td>\n",
       "      <td>...</td>\n",
       "    </tr>\n",
       "    <tr>\n",
       "      <th>886</th>\n",
       "      <td>27.0</td>\n",
       "      <td>13.0000</td>\n",
       "      <td>1</td>\n",
       "      <td>0</td>\n",
       "      <td>0</td>\n",
       "      <td>0</td>\n",
       "      <td>0</td>\n",
       "      <td>1</td>\n",
       "    </tr>\n",
       "    <tr>\n",
       "      <th>887</th>\n",
       "      <td>19.0</td>\n",
       "      <td>30.0000</td>\n",
       "      <td>1</td>\n",
       "      <td>1</td>\n",
       "      <td>0</td>\n",
       "      <td>0</td>\n",
       "      <td>0</td>\n",
       "      <td>0</td>\n",
       "    </tr>\n",
       "    <tr>\n",
       "      <th>888</th>\n",
       "      <td>28.0</td>\n",
       "      <td>23.4500</td>\n",
       "      <td>0</td>\n",
       "      <td>0</td>\n",
       "      <td>1</td>\n",
       "      <td>0</td>\n",
       "      <td>0</td>\n",
       "      <td>0</td>\n",
       "    </tr>\n",
       "    <tr>\n",
       "      <th>889</th>\n",
       "      <td>26.0</td>\n",
       "      <td>30.0000</td>\n",
       "      <td>1</td>\n",
       "      <td>1</td>\n",
       "      <td>0</td>\n",
       "      <td>1</td>\n",
       "      <td>0</td>\n",
       "      <td>1</td>\n",
       "    </tr>\n",
       "    <tr>\n",
       "      <th>890</th>\n",
       "      <td>32.0</td>\n",
       "      <td>7.7500</td>\n",
       "      <td>1</td>\n",
       "      <td>0</td>\n",
       "      <td>1</td>\n",
       "      <td>0</td>\n",
       "      <td>1</td>\n",
       "      <td>1</td>\n",
       "    </tr>\n",
       "  </tbody>\n",
       "</table>\n",
       "<p>891 rows × 8 columns</p>\n",
       "</div>"
      ],
      "text/plain": [
       "      Age     Fare  TravelAlone  Pclass_1  Pclass_3  Embarked_C  Embarked_Q  \\\n",
       "0    22.0   7.2500            0         0         1           0           0   \n",
       "1    38.0  71.2833            0         1         0           1           0   \n",
       "2    26.0   7.9250            1         0         1           0           0   \n",
       "3    35.0  53.1000            0         1         0           0           0   \n",
       "4    35.0   8.0500            1         0         1           0           0   \n",
       "..    ...      ...          ...       ...       ...         ...         ...   \n",
       "886  27.0  13.0000            1         0         0           0           0   \n",
       "887  19.0  30.0000            1         1         0           0           0   \n",
       "888  28.0  23.4500            0         0         1           0           0   \n",
       "889  26.0  30.0000            1         1         0           1           0   \n",
       "890  32.0   7.7500            1         0         1           0           1   \n",
       "\n",
       "     Sex_male  \n",
       "0           1  \n",
       "1           0  \n",
       "2           0  \n",
       "3           0  \n",
       "4           1  \n",
       "..        ...  \n",
       "886         1  \n",
       "887         0  \n",
       "888         0  \n",
       "889         1  \n",
       "890         1  \n",
       "\n",
       "[891 rows x 8 columns]"
      ]
     },
     "metadata": {},
     "output_type": "display_data"
    },
    {
     "name": "stdout",
     "output_type": "stream",
     "text": [
      "t values:\n"
     ]
    },
    {
     "data": {
      "text/plain": [
       "0      0\n",
       "1      1\n",
       "2      1\n",
       "3      1\n",
       "4      0\n",
       "      ..\n",
       "886    0\n",
       "887    1\n",
       "888    0\n",
       "889    1\n",
       "890    0\n",
       "Name: Survived, Length: 891, dtype: int64"
      ]
     },
     "metadata": {},
     "output_type": "display_data"
    }
   ],
   "source": [
    "from sklearn import model_selection\n",
    "t = train_fin['Survived']\n",
    "x = train_fin.drop('Survived', axis=1)\n",
    "print('x values:')\n",
    "display(x)\n",
    "print('t values:')\n",
    "display(t)"
   ]
  },
  {
   "cell_type": "code",
   "execution_count": 223,
   "metadata": {
    "id": "QaeOoDxwSFK8",
    "outputId": "f68d2838-2ac4-4f80-b40c-839749da99e3"
   },
   "outputs": [
    {
     "name": "stdout",
     "output_type": "stream",
     "text": [
      "x_train\n"
     ]
    },
    {
     "data": {
      "text/html": [
       "<div>\n",
       "<style scoped>\n",
       "    .dataframe tbody tr th:only-of-type {\n",
       "        vertical-align: middle;\n",
       "    }\n",
       "\n",
       "    .dataframe tbody tr th {\n",
       "        vertical-align: top;\n",
       "    }\n",
       "\n",
       "    .dataframe thead th {\n",
       "        text-align: right;\n",
       "    }\n",
       "</style>\n",
       "<table border=\"1\" class=\"dataframe\">\n",
       "  <thead>\n",
       "    <tr style=\"text-align: right;\">\n",
       "      <th></th>\n",
       "      <th>Age</th>\n",
       "      <th>Fare</th>\n",
       "      <th>TravelAlone</th>\n",
       "      <th>Pclass_1</th>\n",
       "      <th>Pclass_3</th>\n",
       "      <th>Embarked_C</th>\n",
       "      <th>Embarked_Q</th>\n",
       "      <th>Sex_male</th>\n",
       "    </tr>\n",
       "  </thead>\n",
       "  <tbody>\n",
       "    <tr>\n",
       "      <th>30</th>\n",
       "      <td>40.0</td>\n",
       "      <td>27.7208</td>\n",
       "      <td>1</td>\n",
       "      <td>1</td>\n",
       "      <td>0</td>\n",
       "      <td>1</td>\n",
       "      <td>0</td>\n",
       "      <td>1</td>\n",
       "    </tr>\n",
       "    <tr>\n",
       "      <th>10</th>\n",
       "      <td>4.0</td>\n",
       "      <td>16.7000</td>\n",
       "      <td>0</td>\n",
       "      <td>0</td>\n",
       "      <td>1</td>\n",
       "      <td>0</td>\n",
       "      <td>0</td>\n",
       "      <td>0</td>\n",
       "    </tr>\n",
       "    <tr>\n",
       "      <th>873</th>\n",
       "      <td>47.0</td>\n",
       "      <td>9.0000</td>\n",
       "      <td>1</td>\n",
       "      <td>0</td>\n",
       "      <td>1</td>\n",
       "      <td>0</td>\n",
       "      <td>0</td>\n",
       "      <td>1</td>\n",
       "    </tr>\n",
       "    <tr>\n",
       "      <th>182</th>\n",
       "      <td>9.0</td>\n",
       "      <td>31.3875</td>\n",
       "      <td>0</td>\n",
       "      <td>0</td>\n",
       "      <td>1</td>\n",
       "      <td>0</td>\n",
       "      <td>0</td>\n",
       "      <td>1</td>\n",
       "    </tr>\n",
       "    <tr>\n",
       "      <th>876</th>\n",
       "      <td>20.0</td>\n",
       "      <td>9.8458</td>\n",
       "      <td>1</td>\n",
       "      <td>0</td>\n",
       "      <td>1</td>\n",
       "      <td>0</td>\n",
       "      <td>0</td>\n",
       "      <td>1</td>\n",
       "    </tr>\n",
       "    <tr>\n",
       "      <th>...</th>\n",
       "      <td>...</td>\n",
       "      <td>...</td>\n",
       "      <td>...</td>\n",
       "      <td>...</td>\n",
       "      <td>...</td>\n",
       "      <td>...</td>\n",
       "      <td>...</td>\n",
       "      <td>...</td>\n",
       "    </tr>\n",
       "    <tr>\n",
       "      <th>534</th>\n",
       "      <td>30.0</td>\n",
       "      <td>8.6625</td>\n",
       "      <td>1</td>\n",
       "      <td>0</td>\n",
       "      <td>1</td>\n",
       "      <td>0</td>\n",
       "      <td>0</td>\n",
       "      <td>0</td>\n",
       "    </tr>\n",
       "    <tr>\n",
       "      <th>584</th>\n",
       "      <td>28.0</td>\n",
       "      <td>8.7125</td>\n",
       "      <td>1</td>\n",
       "      <td>0</td>\n",
       "      <td>1</td>\n",
       "      <td>1</td>\n",
       "      <td>0</td>\n",
       "      <td>1</td>\n",
       "    </tr>\n",
       "    <tr>\n",
       "      <th>493</th>\n",
       "      <td>71.0</td>\n",
       "      <td>49.5042</td>\n",
       "      <td>1</td>\n",
       "      <td>1</td>\n",
       "      <td>0</td>\n",
       "      <td>1</td>\n",
       "      <td>0</td>\n",
       "      <td>1</td>\n",
       "    </tr>\n",
       "    <tr>\n",
       "      <th>527</th>\n",
       "      <td>28.0</td>\n",
       "      <td>221.7792</td>\n",
       "      <td>1</td>\n",
       "      <td>1</td>\n",
       "      <td>0</td>\n",
       "      <td>0</td>\n",
       "      <td>0</td>\n",
       "      <td>1</td>\n",
       "    </tr>\n",
       "    <tr>\n",
       "      <th>168</th>\n",
       "      <td>28.0</td>\n",
       "      <td>25.9250</td>\n",
       "      <td>1</td>\n",
       "      <td>1</td>\n",
       "      <td>0</td>\n",
       "      <td>0</td>\n",
       "      <td>0</td>\n",
       "      <td>1</td>\n",
       "    </tr>\n",
       "  </tbody>\n",
       "</table>\n",
       "<p>712 rows × 8 columns</p>\n",
       "</div>"
      ],
      "text/plain": [
       "      Age      Fare  TravelAlone  Pclass_1  Pclass_3  Embarked_C  Embarked_Q  \\\n",
       "30   40.0   27.7208            1         1         0           1           0   \n",
       "10    4.0   16.7000            0         0         1           0           0   \n",
       "873  47.0    9.0000            1         0         1           0           0   \n",
       "182   9.0   31.3875            0         0         1           0           0   \n",
       "876  20.0    9.8458            1         0         1           0           0   \n",
       "..    ...       ...          ...       ...       ...         ...         ...   \n",
       "534  30.0    8.6625            1         0         1           0           0   \n",
       "584  28.0    8.7125            1         0         1           1           0   \n",
       "493  71.0   49.5042            1         1         0           1           0   \n",
       "527  28.0  221.7792            1         1         0           0           0   \n",
       "168  28.0   25.9250            1         1         0           0           0   \n",
       "\n",
       "     Sex_male  \n",
       "30          1  \n",
       "10          0  \n",
       "873         1  \n",
       "182         1  \n",
       "876         1  \n",
       "..        ...  \n",
       "534         0  \n",
       "584         1  \n",
       "493         1  \n",
       "527         1  \n",
       "168         1  \n",
       "\n",
       "[712 rows x 8 columns]"
      ]
     },
     "metadata": {},
     "output_type": "display_data"
    },
    {
     "name": "stdout",
     "output_type": "stream",
     "text": [
      "\n",
      "t_train\n"
     ]
    },
    {
     "data": {
      "text/plain": [
       "30     0\n",
       "10     1\n",
       "873    0\n",
       "182    0\n",
       "876    0\n",
       "      ..\n",
       "534    0\n",
       "584    0\n",
       "493    0\n",
       "527    0\n",
       "168    0\n",
       "Name: Survived, Length: 712, dtype: int64"
      ]
     },
     "metadata": {},
     "output_type": "display_data"
    },
    {
     "name": "stdout",
     "output_type": "stream",
     "text": [
      "\n",
      "x_val\n"
     ]
    },
    {
     "data": {
      "text/html": [
       "<div>\n",
       "<style scoped>\n",
       "    .dataframe tbody tr th:only-of-type {\n",
       "        vertical-align: middle;\n",
       "    }\n",
       "\n",
       "    .dataframe tbody tr th {\n",
       "        vertical-align: top;\n",
       "    }\n",
       "\n",
       "    .dataframe thead th {\n",
       "        text-align: right;\n",
       "    }\n",
       "</style>\n",
       "<table border=\"1\" class=\"dataframe\">\n",
       "  <thead>\n",
       "    <tr style=\"text-align: right;\">\n",
       "      <th></th>\n",
       "      <th>Age</th>\n",
       "      <th>Fare</th>\n",
       "      <th>TravelAlone</th>\n",
       "      <th>Pclass_1</th>\n",
       "      <th>Pclass_3</th>\n",
       "      <th>Embarked_C</th>\n",
       "      <th>Embarked_Q</th>\n",
       "      <th>Sex_male</th>\n",
       "    </tr>\n",
       "  </thead>\n",
       "  <tbody>\n",
       "    <tr>\n",
       "      <th>707</th>\n",
       "      <td>42.0</td>\n",
       "      <td>26.2875</td>\n",
       "      <td>1</td>\n",
       "      <td>1</td>\n",
       "      <td>0</td>\n",
       "      <td>0</td>\n",
       "      <td>0</td>\n",
       "      <td>1</td>\n",
       "    </tr>\n",
       "    <tr>\n",
       "      <th>37</th>\n",
       "      <td>21.0</td>\n",
       "      <td>8.0500</td>\n",
       "      <td>1</td>\n",
       "      <td>0</td>\n",
       "      <td>1</td>\n",
       "      <td>0</td>\n",
       "      <td>0</td>\n",
       "      <td>1</td>\n",
       "    </tr>\n",
       "    <tr>\n",
       "      <th>615</th>\n",
       "      <td>24.0</td>\n",
       "      <td>65.0000</td>\n",
       "      <td>0</td>\n",
       "      <td>0</td>\n",
       "      <td>0</td>\n",
       "      <td>0</td>\n",
       "      <td>0</td>\n",
       "      <td>0</td>\n",
       "    </tr>\n",
       "    <tr>\n",
       "      <th>169</th>\n",
       "      <td>28.0</td>\n",
       "      <td>56.4958</td>\n",
       "      <td>1</td>\n",
       "      <td>0</td>\n",
       "      <td>1</td>\n",
       "      <td>0</td>\n",
       "      <td>0</td>\n",
       "      <td>1</td>\n",
       "    </tr>\n",
       "    <tr>\n",
       "      <th>68</th>\n",
       "      <td>17.0</td>\n",
       "      <td>7.9250</td>\n",
       "      <td>0</td>\n",
       "      <td>0</td>\n",
       "      <td>1</td>\n",
       "      <td>0</td>\n",
       "      <td>0</td>\n",
       "      <td>0</td>\n",
       "    </tr>\n",
       "    <tr>\n",
       "      <th>...</th>\n",
       "      <td>...</td>\n",
       "      <td>...</td>\n",
       "      <td>...</td>\n",
       "      <td>...</td>\n",
       "      <td>...</td>\n",
       "      <td>...</td>\n",
       "      <td>...</td>\n",
       "      <td>...</td>\n",
       "    </tr>\n",
       "    <tr>\n",
       "      <th>89</th>\n",
       "      <td>24.0</td>\n",
       "      <td>8.0500</td>\n",
       "      <td>1</td>\n",
       "      <td>0</td>\n",
       "      <td>1</td>\n",
       "      <td>0</td>\n",
       "      <td>0</td>\n",
       "      <td>1</td>\n",
       "    </tr>\n",
       "    <tr>\n",
       "      <th>80</th>\n",
       "      <td>22.0</td>\n",
       "      <td>9.0000</td>\n",
       "      <td>1</td>\n",
       "      <td>0</td>\n",
       "      <td>1</td>\n",
       "      <td>0</td>\n",
       "      <td>0</td>\n",
       "      <td>1</td>\n",
       "    </tr>\n",
       "    <tr>\n",
       "      <th>846</th>\n",
       "      <td>28.0</td>\n",
       "      <td>69.5500</td>\n",
       "      <td>0</td>\n",
       "      <td>0</td>\n",
       "      <td>1</td>\n",
       "      <td>0</td>\n",
       "      <td>0</td>\n",
       "      <td>1</td>\n",
       "    </tr>\n",
       "    <tr>\n",
       "      <th>870</th>\n",
       "      <td>26.0</td>\n",
       "      <td>7.8958</td>\n",
       "      <td>1</td>\n",
       "      <td>0</td>\n",
       "      <td>1</td>\n",
       "      <td>0</td>\n",
       "      <td>0</td>\n",
       "      <td>1</td>\n",
       "    </tr>\n",
       "    <tr>\n",
       "      <th>251</th>\n",
       "      <td>29.0</td>\n",
       "      <td>10.4625</td>\n",
       "      <td>0</td>\n",
       "      <td>0</td>\n",
       "      <td>1</td>\n",
       "      <td>0</td>\n",
       "      <td>0</td>\n",
       "      <td>0</td>\n",
       "    </tr>\n",
       "  </tbody>\n",
       "</table>\n",
       "<p>179 rows × 8 columns</p>\n",
       "</div>"
      ],
      "text/plain": [
       "      Age     Fare  TravelAlone  Pclass_1  Pclass_3  Embarked_C  Embarked_Q  \\\n",
       "707  42.0  26.2875            1         1         0           0           0   \n",
       "37   21.0   8.0500            1         0         1           0           0   \n",
       "615  24.0  65.0000            0         0         0           0           0   \n",
       "169  28.0  56.4958            1         0         1           0           0   \n",
       "68   17.0   7.9250            0         0         1           0           0   \n",
       "..    ...      ...          ...       ...       ...         ...         ...   \n",
       "89   24.0   8.0500            1         0         1           0           0   \n",
       "80   22.0   9.0000            1         0         1           0           0   \n",
       "846  28.0  69.5500            0         0         1           0           0   \n",
       "870  26.0   7.8958            1         0         1           0           0   \n",
       "251  29.0  10.4625            0         0         1           0           0   \n",
       "\n",
       "     Sex_male  \n",
       "707         1  \n",
       "37          1  \n",
       "615         0  \n",
       "169         1  \n",
       "68          0  \n",
       "..        ...  \n",
       "89          1  \n",
       "80          1  \n",
       "846         1  \n",
       "870         1  \n",
       "251         0  \n",
       "\n",
       "[179 rows x 8 columns]"
      ]
     },
     "metadata": {},
     "output_type": "display_data"
    },
    {
     "name": "stdout",
     "output_type": "stream",
     "text": [
      "\n",
      "t_val\n"
     ]
    },
    {
     "data": {
      "text/plain": [
       "707    1\n",
       "37     0\n",
       "615    1\n",
       "169    0\n",
       "68     1\n",
       "      ..\n",
       "89     0\n",
       "80     0\n",
       "846    0\n",
       "870    0\n",
       "251    0\n",
       "Name: Survived, Length: 179, dtype: int64"
      ]
     },
     "metadata": {},
     "output_type": "display_data"
    }
   ],
   "source": [
    "x_train, x_val, t_train, t_val = model_selection.train_test_split(x, t, test_size=0.2, random_state=2)\n",
    "print('x_train')\n",
    "display(x_train)\n",
    "print()\n",
    "print('t_train')\n",
    "display(t_train)\n",
    "print()\n",
    "print('x_val')\n",
    "display(x_val)\n",
    "print()\n",
    "print('t_val')\n",
    "display(t_val)"
   ]
  },
  {
   "cell_type": "code",
   "execution_count": 224,
   "metadata": {
    "id": "MB_UMdeZSQxf",
    "outputId": "be83832d-8bce-4fcb-b4e5-7cb9de0e67b3"
   },
   "outputs": [
    {
     "name": "stdout",
     "output_type": "stream",
     "text": [
      "First 5 probabilities of y_train_prob:\n",
      "[[0.58762248 0.41237752]\n",
      " [0.29715841 0.70284159]\n",
      " [0.96706528 0.03293472]\n",
      " [0.87605057 0.12394943]\n",
      " [0.91596653 0.08403347]]\n",
      "\n",
      "First 5 predictions of y_train:\n",
      "[0 1 0 0 0]\n",
      "\n",
      "First 5 probabilities of y_test_prob:\n",
      "[[0.70246165 0.29753835]\n",
      " [0.9189123  0.0810877 ]\n",
      " [0.1663213  0.8336787 ]\n",
      " [0.93239791 0.06760209]\n",
      " [0.40773539 0.59226461]]\n",
      "\n",
      "First 5 predictions of y_test:\n",
      "[0 0 1 0 1]\n"
     ]
    }
   ],
   "source": [
    "SGD_cls = pipeline.make_pipeline(preprocessing.StandardScaler(), linear_model.SGDClassifier(loss='log', alpha=0, learning_rate='constant', eta0=0.01)).fit(x_train, t_train)\n",
    "y_train_prob = SGD_cls.predict_proba(x_train)\n",
    "y_test_prob = SGD_cls.predict_proba(x_val)\n",
    "y_train = SGD_cls.predict(x_train)\n",
    "y_test = SGD_cls.predict(x_val)\n",
    "print('First 5 probabilities of y_train_prob:')\n",
    "print(y_train_prob[:5])\n",
    "print()\n",
    "print('First 5 predictions of y_train:')\n",
    "print(y_train[:5])\n",
    "print()\n",
    "print('First 5 probabilities of y_test_prob:')\n",
    "print(y_test_prob[:5])\n",
    "print()\n",
    "print('First 5 predictions of y_test:')\n",
    "print(y_test[:5])"
   ]
  },
  {
   "cell_type": "markdown",
   "metadata": {
    "id": "OZpDkMnsRdS-"
   },
   "source": [
    "## **The Final Test**"
   ]
  },
  {
   "cell_type": "code",
   "execution_count": 225,
   "metadata": {
    "id": "sy5EKdncSoxW",
    "outputId": "c4cb16ce-c619-4129-999f-e1e935958234"
   },
   "outputs": [
    {
     "name": "stdout",
     "output_type": "stream",
     "text": [
      "First 5 probabilities of y_train_prob:\n",
      "[[0.57982924 0.42017076]\n",
      " [0.292534   0.707466  ]\n",
      " [0.96715203 0.03284797]\n",
      " [0.87364071 0.12635929]\n",
      " [0.91507692 0.08492308]]\n",
      "\n",
      "First 5 predictions of y_train:\n",
      "[0 1 0 0 0]\n",
      "\n",
      "First 5 probabilities of y_test_prob:\n",
      "[[0.70535541 0.29464459]\n",
      " [0.91800891 0.08199109]\n",
      " [0.17289253 0.82710747]\n",
      " [0.9337481  0.0662519 ]\n",
      " [0.40278266 0.59721734]]\n",
      "\n",
      "First 5 predictions of y_test:\n",
      "[0 0 1 0 1]\n"
     ]
    }
   ],
   "source": [
    "SGD_cls = pipeline.make_pipeline(preprocessing.StandardScaler(), linear_model.LogisticRegression()).fit(x_train, t_train)\n",
    "y_train_prob = SGD_cls.predict_proba(x_train)\n",
    "y_test_prob = SGD_cls.predict_proba(x_val)\n",
    "y_train = SGD_cls.predict(x_train)\n",
    "y_test = SGD_cls.predict(x_val)\n",
    "print('First 5 probabilities of y_train_prob:')\n",
    "print(y_train_prob[:5])\n",
    "print()\n",
    "print('First 5 predictions of y_train:')\n",
    "print(y_train[:5])\n",
    "print()\n",
    "print('First 5 probabilities of y_test_prob:')\n",
    "print(y_test_prob[:5])\n",
    "print()\n",
    "print('First 5 predictions of y_test:')\n",
    "print(y_test[:5])"
   ]
  },
  {
   "cell_type": "code",
   "execution_count": 226,
   "metadata": {
    "id": "VL4ZfVcHTH5E",
    "outputId": "cef88648-62e2-407c-d6d6-87f4a5583312"
   },
   "outputs": [
    {
     "name": "stdout",
     "output_type": "stream",
     "text": [
      "Accuracy score on train 0.8089887640449438\n",
      "Accuracy score on test 0.7821229050279329\n",
      "\n",
      "CE on train 0.4347331195067922\n",
      "CE on test 0.508332061994269\n"
     ]
    }
   ],
   "source": [
    "print('Accuracy score on train', SGD_cls.score(x_train, t_train))\n",
    "print('Accuracy score on test', SGD_cls.score(x_val, t_val))\n",
    "print()\n",
    "print('CE on train', metrics.log_loss(t_train, y_train_prob))\n",
    "print('CE on test', metrics.log_loss(t_val, y_test_prob))"
   ]
  },
  {
   "cell_type": "code",
   "execution_count": 227,
   "metadata": {
    "id": "RJrXBz6wTMuD"
   },
   "outputs": [],
   "source": [
    "from sklearn import *\n",
    "passenger_id = test_df['PassengerId'].values\n",
    "y_test = SGD_cls.predict(test_fin)\n",
    "submission = pd.DataFrame({'PassengerId': passenger_id, 'Survived':y_test})\n",
    "submission.to_csv(\"submission_last.csv\", index=False)"
   ]
  },
  {
   "attachments": {
    "image.png": {
     "image/png": "[encoded data removed]"
    }
   },
   "cell_type": "markdown",
   "metadata": {},
   "source": [
    "## **Results**\n",
    "\n",
    "\n",
    "![image.png](attachment:image.png)\n"
   ]
  },
  {
   "attachments": {
    "image.png": {
     "image/png": "[encoded data removed]"
    }
   },
   "cell_type": "markdown",
   "metadata": {},
   "source": [
    "![image.png](attachment:image.png)"
   ]
  },
  {
   "cell_type": "markdown",
   "metadata": {},
   "source": [
    "This HW explored the survival rate of people on the Titanic.\\\n",
    "Some features helped were dropped durring test preparing and some were added by estimination.\n",
    "I tried to estimate the survival rate of people on the Titcanic by test that I did. \n",
    "This HW helped me to understand the subject and I feel more connected to the metirial."
   ]
  },
  {
   "cell_type": "markdown",
   "metadata": {
    "id": "1P52W5ilKTzk"
   },
   "source": [
    "## **References :**\n",
    "\n",
    "About the titanic - [History.com](https://www.history.com/topics/early-20th-century-us/titanic) \\\n",
    "Seaborn options - [Seaborn.pydata.org](https://seaborn.pydata.org/tutorial/color_palettes.html) \\\n",
    "Those notebooks helped me to explore the data - [Notebook1](https://www.kaggle.com/mnassrib/titanic-logistic-regression-with-python#2.-Data-Quality-&-Missing-Value-Assessment) & [Notebook2](https://www.kaggle.com/padmanabhabanerjee/a-noob-s-first-approach-to-the-titanic-dataset#Playing-with-data-:)\n",
    "\n",
    "\n",
    "\n"
   ]
  }
 ],
 "metadata": {
  "kernelspec": {
   "display_name": "Python 3",
   "language": "python",
   "name": "python3"
  },
  "language_info": {
   "codemirror_mode": {
    "name": "ipython",
    "version": 3
   },
   "file_extension": ".py",
   "mimetype": "text/x-python",
   "name": "python",
   "nbconvert_exporter": "python",
   "pygments_lexer": "ipython3",
   "version": "3.8.8"
  }
 },
 "nbformat": 4,
 "nbformat_minor": 4
}
